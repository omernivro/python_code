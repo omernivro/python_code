{
 "cells": [
  {
   "cell_type": "code",
   "execution_count": 2,
   "metadata": {
    "collapsed": true
   },
   "outputs": [],
   "source": [
    "import numpy as np\n",
    "import itertools\n",
    "from __future__ import division"
   ]
  },
  {
   "cell_type": "code",
   "execution_count": null,
   "metadata": {
    "collapsed": true
   },
   "outputs": [],
   "source": [
    "# Given a table A of N integers from 0 to N-1 calculate the smallest such index P,\n",
    "#  that {A[0],...,A[N-1]} = {A[0],...,A[P]}.\n",
    "def solution(A):\n",
    "    covering_prefix = 0\n",
    "    unique_array = []\n",
    "    for i in range(len(A)):\n",
    "        if (A[i] in unique_array):\n",
    "            continue\n",
    "        else:\n",
    "            unique_array.append(A[i])\n",
    "            covering_prefix = i\n",
    "\n",
    "    return(covering_prefix)      "
   ]
  },
  {
   "cell_type": "code",
   "execution_count": 243,
   "metadata": {
    "collapsed": true
   },
   "outputs": [],
   "source": [
    "A = [1, 5, 2, 1, 4, 0] "
   ]
  },
  {
   "cell_type": "code",
   "execution_count": null,
   "metadata": {
    "collapsed": true
   },
   "outputs": [],
   "source": [
    "# We draw N discs on a plane. The discs are numbered from 0 to N − 1.\n",
    "# A zero-indexed array A of N non-negative integers, specifying the radiuses of the discs, is given. \n",
    "# The J-th disc is drawn with its center at (J, 0) and radius A[J].\n",
    "\n",
    "# We say that the J-th disc and K-th disc intersect if J ≠ K and \n",
    "# the J-th and K-th discs have at least one common poin\n",
    "\n",
    "def solution(A):\n",
    "    count_intersections = 0\n",
    "    prvs_discs = []\n",
    "    # write your code in Python 3.6\n",
    "    for index in range(len(A)):\n",
    "        current_circ_low = index - A[index]\n",
    "        current_circ_high = index + A[index]\n",
    "    \n",
    "        if (index > 0):\n",
    "            # case 1: the current max limit is bigger than other lower and also smaller than other max\n",
    "            case1 = [(circ[0] < current_circ_high) & (circ[1] >= current_circ_high) & (circ[0] > current_circ_low) for circ in prvs_discs]\n",
    "            s_case1 = sum(case1)\n",
    "    \n",
    "    \n",
    "            # case 2 current lower is bigger than other lower and also smaller than other max\n",
    "            case2 = [(circ[0] < current_circ_low) & (circ[1] >= current_circ_low) & (circ[1] < current_circ_high) for circ in prvs_discs]\n",
    "\n",
    "            s_case2 = sum(case2)\n",
    "    \n",
    "            # case 3 it is inside the other circle \n",
    "            case3 = [(circ[0] <= current_circ_low) & (circ[1] >= current_circ_high) for circ in prvs_discs]\n",
    "\n",
    "            s_case3 = sum(case3)\n",
    "    \n",
    "    \n",
    "            # case 4 other circles are in it \n",
    "            case4 = [(circ[0] >= current_circ_low) & (circ[1] <= current_circ_high) for circ in prvs_discs]\n",
    "\n",
    "            s_case4 = sum(case4)\n",
    "    \n",
    "            # check = (case1 & case2 & case3 & case4)\n",
    "            # if (any(check)):\n",
    "    \n",
    "            #     print(\"this is a debug message\")\n",
    "    \n",
    "            count_intersections += (s_case1 + s_case2 + s_case3 + s_case4)\n",
    "    \n",
    "        prvs_discs.append([current_circ_low, current_circ_high])\n",
    "    \n",
    "        \n",
    "    return(count_intersections)"
   ]
  },
  {
   "cell_type": "code",
   "execution_count": 155,
   "metadata": {
    "collapsed": true
   },
   "outputs": [],
   "source": [
    "def palindromic_string(strng):\n",
    "    p = 0\n",
    "\n",
    "    if(((len(strng) == 2) | (len(strng) == 3)) & (strng[0] == strng[-1])):\n",
    "        p = 1\n",
    "        print ('here +1')\n",
    "\n",
    "\n",
    "    if(((len(strng) == 2) | (len(strng) == 3)) & (strng[0] != strng[-1])):\n",
    "        p = 0\n",
    "        print ('here +0')\n",
    "\n",
    "\n",
    "    if((len(strng) > 3) & (strng[0] == strng[-1])): \n",
    "\n",
    "        print(strng)\n",
    "\n",
    "        return(palindromic_string(strng[1:-1]))\n",
    "\n",
    "    return(p)"
   ]
  },
  {
   "cell_type": "code",
   "execution_count": 164,
   "metadata": {
    "collapsed": true
   },
   "outputs": [],
   "source": [
    "def full_str(t):\n",
    "    count = 0\n",
    "    if  len(t) >= 2:\n",
    "        count = palindromic_string(t)\n",
    "        return(count + full_str(t[:-1]))\n",
    "    else:\n",
    "        return (count + 0)\n",
    "\n"
   ]
  },
  {
   "cell_type": "code",
   "execution_count": 165,
   "metadata": {
    "collapsed": true
   },
   "outputs": [],
   "source": [
    "def solution(S):\n",
    "    count = 0\n",
    "    for i in range(len(S)-1):\n",
    "        strng = S[i:]\n",
    "        count += full_str(strng)\n",
    "    return (count)"
   ]
  },
  {
   "cell_type": "code",
   "execution_count": 37,
   "metadata": {
    "collapsed": true
   },
   "outputs": [],
   "source": [
    "def matrix_s(A):\n",
    "    matrix_dim = len(A)\n",
    "    matr = (list(itertools.product([-1, 1], repeat= matrix_dim)))\n",
    "    return (matr)\n"
   ]
  },
  {
   "cell_type": "code",
   "execution_count": 97,
   "metadata": {
    "collapsed": true
   },
   "outputs": [],
   "source": [
    "listb = matrix_s([1,2,3,5])"
   ]
  },
  {
   "cell_type": "code",
   "execution_count": 157,
   "metadata": {
    "collapsed": true
   },
   "outputs": [],
   "source": [
    "# https://codility.com/media/train/solution-min-abs-sum.pdf\n",
    "\n",
    "def golden_min_abs_sum(A): \n",
    "    N = len(A)\n",
    "    M = 0\n",
    "    for i in xrange(N):\n",
    "        A[i] = abs(A[i])\n",
    "        M = max(A[i], M)  # get max A\n",
    "    S = sum(A) # sum abs of A\n",
    "    count = [0] * (M + 1) \n",
    "    for i in xrange(N): # N >> M M is max 100 this will count repeating values\n",
    "        count[A[i]] += 1 \n",
    "    dp = [-1] * (S + 1)  # dp[j] means how many values a left after acieving sum j\n",
    "    dp[0] = 0\n",
    "    \n",
    "    for a in xrange(1, M + 1):\n",
    "        if count[a] > 0: # if value appears in A\n",
    "            for j in xrange(S):\n",
    "                if dp[j] >= 0:\n",
    "                    dp[j] = count[a]\n",
    "                elif (j >= a and dp[j - a] > 0): \n",
    "                    dp[j] = dp[j - a] - 1\n",
    "    result = S # thats worst case\n",
    "    for i in xrange(S // 2+1):\n",
    "        if dp[i] >= 0:\n",
    "            result = min(result, S - 2 * i)\n",
    "   \n",
    "    return result"
   ]
  },
  {
   "cell_type": "code",
   "execution_count": 159,
   "metadata": {},
   "outputs": [
    {
     "data": {
      "text/plain": [
       "163"
      ]
     },
     "execution_count": 159,
     "metadata": {},
     "output_type": "execute_result"
    }
   ],
   "source": [
    "sum(A\n",
    "   )"
   ]
  },
  {
   "cell_type": "code",
   "execution_count": 139,
   "metadata": {},
   "outputs": [
    {
     "data": {
      "text/plain": [
       "10"
      ]
     },
     "execution_count": 139,
     "metadata": {},
     "output_type": "execute_result"
    }
   ],
   "source": [
    "A = [1, 3, 7, 87, 16, 31, 15, 1, 1, 1]\n",
    "len(A)"
   ]
  },
  {
   "cell_type": "code",
   "execution_count": 148,
   "metadata": {
    "collapsed": true
   },
   "outputs": [],
   "source": [
    "def count_repetitions(A):\n",
    "    max_A = max(A)\n",
    "    num_exists = [0] * (max_A + 1)\n",
    "    for num in xrange(len(A)):\n",
    "        num_exists[A[num]] += 1\n",
    "    return (num_exists, max_A)    "
   ]
  },
  {
   "cell_type": "code",
   "execution_count": 149,
   "metadata": {
    "collapsed": true
   },
   "outputs": [
    {
     "data": {
      "text/plain": [
       "([0,\n",
       "  4,\n",
       "  0,\n",
       "  1,\n",
       "  0,\n",
       "  0,\n",
       "  0,\n",
       "  1,\n",
       "  0,\n",
       "  0,\n",
       "  0,\n",
       "  0,\n",
       "  0,\n",
       "  0,\n",
       "  0,\n",
       "  1,\n",
       "  1,\n",
       "  0,\n",
       "  0,\n",
       "  0,\n",
       "  0,\n",
       "  0,\n",
       "  0,\n",
       "  0,\n",
       "  0,\n",
       "  0,\n",
       "  0,\n",
       "  0,\n",
       "  0,\n",
       "  0,\n",
       "  0,\n",
       "  1,\n",
       "  0,\n",
       "  0,\n",
       "  0,\n",
       "  0,\n",
       "  0,\n",
       "  0,\n",
       "  0,\n",
       "  0,\n",
       "  0,\n",
       "  0,\n",
       "  0,\n",
       "  0,\n",
       "  0,\n",
       "  0,\n",
       "  0,\n",
       "  0,\n",
       "  0,\n",
       "  0,\n",
       "  0,\n",
       "  0,\n",
       "  0,\n",
       "  0,\n",
       "  0,\n",
       "  0,\n",
       "  0,\n",
       "  0,\n",
       "  0,\n",
       "  0,\n",
       "  0,\n",
       "  0,\n",
       "  0,\n",
       "  0,\n",
       "  0,\n",
       "  0,\n",
       "  0,\n",
       "  0,\n",
       "  0,\n",
       "  0,\n",
       "  0,\n",
       "  0,\n",
       "  0,\n",
       "  0,\n",
       "  0,\n",
       "  0,\n",
       "  0,\n",
       "  0,\n",
       "  0,\n",
       "  0,\n",
       "  0,\n",
       "  0,\n",
       "  0,\n",
       "  0,\n",
       "  0,\n",
       "  0,\n",
       "  0,\n",
       "  1],\n",
       " 87)"
      ]
     },
     "execution_count": 149,
     "metadata": {},
     "output_type": "execute_result"
    }
   ],
   "source": [
    "count_repetitions(A)"
   ]
  },
  {
   "cell_type": "code",
   "execution_count": 158,
   "metadata": {
    "collapsed": true
   },
   "outputs": [
    {
     "name": "stdout",
     "output_type": "stream",
     "text": [
      "('a equals:', 1)\n",
      "('j equals:', 0)\n",
      "('count equals:', 4)\n",
      "('a equals:', 1)\n",
      "('j equals:', 1)\n",
      "('j-a equals:', 0)\n",
      "('a equals:', 1)\n",
      "('j equals:', 2)\n",
      "('j-a equals:', 1)\n",
      "('a equals:', 1)\n",
      "('j equals:', 3)\n",
      "('j-a equals:', 2)\n",
      "('a equals:', 1)\n",
      "('j equals:', 4)\n",
      "('j-a equals:', 3)\n",
      "('a equals:', 3)\n",
      "('j equals:', 0)\n",
      "('count equals:', 1)\n",
      "('a equals:', 3)\n",
      "('j equals:', 1)\n",
      "('count equals:', 1)\n",
      "('a equals:', 3)\n",
      "('j equals:', 2)\n",
      "('count equals:', 1)\n",
      "('a equals:', 3)\n",
      "('j equals:', 3)\n",
      "('count equals:', 1)\n",
      "('a equals:', 3)\n",
      "('j equals:', 4)\n",
      "('count equals:', 1)\n",
      "('a equals:', 3)\n",
      "('j equals:', 5)\n",
      "('j-a equals:', 2)\n",
      "('a equals:', 3)\n",
      "('j equals:', 6)\n",
      "('j-a equals:', 3)\n",
      "('a equals:', 3)\n",
      "('j equals:', 7)\n",
      "('j-a equals:', 4)\n",
      "('a equals:', 7)\n",
      "('j equals:', 0)\n",
      "('count equals:', 1)\n",
      "('a equals:', 7)\n",
      "('j equals:', 1)\n",
      "('count equals:', 1)\n",
      "('a equals:', 7)\n",
      "('j equals:', 2)\n",
      "('count equals:', 1)\n",
      "('a equals:', 7)\n",
      "('j equals:', 3)\n",
      "('count equals:', 1)\n",
      "('a equals:', 7)\n",
      "('j equals:', 4)\n",
      "('count equals:', 1)\n",
      "('a equals:', 7)\n",
      "('j equals:', 5)\n",
      "('count equals:', 1)\n",
      "('a equals:', 7)\n",
      "('j equals:', 6)\n",
      "('count equals:', 1)\n",
      "('a equals:', 7)\n",
      "('j equals:', 7)\n",
      "('count equals:', 1)\n",
      "('a equals:', 7)\n",
      "('j equals:', 8)\n",
      "('j-a equals:', 1)\n",
      "('a equals:', 7)\n",
      "('j equals:', 9)\n",
      "('j-a equals:', 2)\n",
      "('a equals:', 7)\n",
      "('j equals:', 10)\n",
      "('j-a equals:', 3)\n",
      "('a equals:', 7)\n",
      "('j equals:', 11)\n",
      "('j-a equals:', 4)\n",
      "('a equals:', 7)\n",
      "('j equals:', 12)\n",
      "('j-a equals:', 5)\n",
      "('a equals:', 7)\n",
      "('j equals:', 13)\n",
      "('j-a equals:', 6)\n",
      "('a equals:', 7)\n",
      "('j equals:', 14)\n",
      "('j-a equals:', 7)\n",
      "('a equals:', 15)\n",
      "('j equals:', 0)\n",
      "('count equals:', 1)\n",
      "('a equals:', 15)\n",
      "('j equals:', 1)\n",
      "('count equals:', 1)\n",
      "('a equals:', 15)\n",
      "('j equals:', 2)\n",
      "('count equals:', 1)\n",
      "('a equals:', 15)\n",
      "('j equals:', 3)\n",
      "('count equals:', 1)\n",
      "('a equals:', 15)\n",
      "('j equals:', 4)\n",
      "('count equals:', 1)\n",
      "('a equals:', 15)\n",
      "('j equals:', 5)\n",
      "('count equals:', 1)\n",
      "('a equals:', 15)\n",
      "('j equals:', 6)\n",
      "('count equals:', 1)\n",
      "('a equals:', 15)\n",
      "('j equals:', 7)\n",
      "('count equals:', 1)\n",
      "('a equals:', 15)\n",
      "('j equals:', 8)\n",
      "('count equals:', 1)\n",
      "('a equals:', 15)\n",
      "('j equals:', 9)\n",
      "('count equals:', 1)\n",
      "('a equals:', 15)\n",
      "('j equals:', 10)\n",
      "('count equals:', 1)\n",
      "('a equals:', 15)\n",
      "('j equals:', 11)\n",
      "('count equals:', 1)\n",
      "('a equals:', 15)\n",
      "('j equals:', 12)\n",
      "('count equals:', 1)\n",
      "('a equals:', 15)\n",
      "('j equals:', 13)\n",
      "('count equals:', 1)\n",
      "('a equals:', 15)\n",
      "('j equals:', 14)\n",
      "('count equals:', 1)\n",
      "('a equals:', 15)\n",
      "('j equals:', 15)\n",
      "('j-a equals:', 0)\n",
      "('a equals:', 15)\n",
      "('j equals:', 16)\n",
      "('j-a equals:', 1)\n",
      "('a equals:', 15)\n",
      "('j equals:', 17)\n",
      "('j-a equals:', 2)\n",
      "('a equals:', 15)\n",
      "('j equals:', 18)\n",
      "('j-a equals:', 3)\n",
      "('a equals:', 15)\n",
      "('j equals:', 19)\n",
      "('j-a equals:', 4)\n",
      "('a equals:', 15)\n",
      "('j equals:', 20)\n",
      "('j-a equals:', 5)\n",
      "('a equals:', 15)\n",
      "('j equals:', 21)\n",
      "('j-a equals:', 6)\n",
      "('a equals:', 15)\n",
      "('j equals:', 22)\n",
      "('j-a equals:', 7)\n",
      "('a equals:', 15)\n",
      "('j equals:', 23)\n",
      "('j-a equals:', 8)\n",
      "('a equals:', 15)\n",
      "('j equals:', 24)\n",
      "('j-a equals:', 9)\n",
      "('a equals:', 15)\n",
      "('j equals:', 25)\n",
      "('j-a equals:', 10)\n",
      "('a equals:', 15)\n",
      "('j equals:', 26)\n",
      "('j-a equals:', 11)\n",
      "('a equals:', 15)\n",
      "('j equals:', 27)\n",
      "('j-a equals:', 12)\n",
      "('a equals:', 15)\n",
      "('j equals:', 28)\n",
      "('j-a equals:', 13)\n",
      "('a equals:', 15)\n",
      "('j equals:', 29)\n",
      "('j-a equals:', 14)\n",
      "('a equals:', 16)\n",
      "('j equals:', 0)\n",
      "('count equals:', 1)\n",
      "('a equals:', 16)\n",
      "('j equals:', 1)\n",
      "('count equals:', 1)\n",
      "('a equals:', 16)\n",
      "('j equals:', 2)\n",
      "('count equals:', 1)\n",
      "('a equals:', 16)\n",
      "('j equals:', 3)\n",
      "('count equals:', 1)\n",
      "('a equals:', 16)\n",
      "('j equals:', 4)\n",
      "('count equals:', 1)\n",
      "('a equals:', 16)\n",
      "('j equals:', 5)\n",
      "('count equals:', 1)\n",
      "('a equals:', 16)\n",
      "('j equals:', 6)\n",
      "('count equals:', 1)\n",
      "('a equals:', 16)\n",
      "('j equals:', 7)\n",
      "('count equals:', 1)\n",
      "('a equals:', 16)\n",
      "('j equals:', 8)\n",
      "('count equals:', 1)\n",
      "('a equals:', 16)\n",
      "('j equals:', 9)\n",
      "('count equals:', 1)\n",
      "('a equals:', 16)\n",
      "('j equals:', 10)\n",
      "('count equals:', 1)\n",
      "('a equals:', 16)\n",
      "('j equals:', 11)\n",
      "('count equals:', 1)\n",
      "('a equals:', 16)\n",
      "('j equals:', 12)\n",
      "('count equals:', 1)\n",
      "('a equals:', 16)\n",
      "('j equals:', 13)\n",
      "('count equals:', 1)\n",
      "('a equals:', 16)\n",
      "('j equals:', 14)\n",
      "('count equals:', 1)\n",
      "('a equals:', 16)\n",
      "('j equals:', 15)\n",
      "('count equals:', 1)\n",
      "('a equals:', 16)\n",
      "('j equals:', 16)\n",
      "('count equals:', 1)\n",
      "('a equals:', 16)\n",
      "('j equals:', 17)\n",
      "('count equals:', 1)\n",
      "('a equals:', 16)\n",
      "('j equals:', 18)\n",
      "('count equals:', 1)\n",
      "('a equals:', 16)\n",
      "('j equals:', 19)\n",
      "('count equals:', 1)\n",
      "('a equals:', 16)\n",
      "('j equals:', 20)\n",
      "('count equals:', 1)\n",
      "('a equals:', 16)\n",
      "('j equals:', 21)\n",
      "('count equals:', 1)\n",
      "('a equals:', 16)\n",
      "('j equals:', 22)\n",
      "('count equals:', 1)\n",
      "('a equals:', 16)\n",
      "('j equals:', 23)\n",
      "('count equals:', 1)\n",
      "('a equals:', 16)\n",
      "('j equals:', 24)\n",
      "('count equals:', 1)\n",
      "('a equals:', 16)\n",
      "('j equals:', 25)\n",
      "('count equals:', 1)\n",
      "('a equals:', 16)\n",
      "('j equals:', 26)\n",
      "('count equals:', 1)\n",
      "('a equals:', 16)\n",
      "('j equals:', 27)\n",
      "('count equals:', 1)\n",
      "('a equals:', 16)\n",
      "('j equals:', 28)\n",
      "('count equals:', 1)\n",
      "('a equals:', 16)\n",
      "('j equals:', 29)\n",
      "('count equals:', 1)\n",
      "('a equals:', 16)\n",
      "('j equals:', 30)\n",
      "('j-a equals:', 14)\n",
      "('a equals:', 16)\n",
      "('j equals:', 31)\n",
      "('j-a equals:', 15)\n",
      "('a equals:', 16)\n",
      "('j equals:', 32)\n",
      "('j-a equals:', 16)\n",
      "('a equals:', 16)\n",
      "('j equals:', 33)\n",
      "('j-a equals:', 17)\n",
      "('a equals:', 16)\n",
      "('j equals:', 34)\n",
      "('j-a equals:', 18)\n",
      "('a equals:', 16)\n",
      "('j equals:', 35)\n",
      "('j-a equals:', 19)\n",
      "('a equals:', 16)\n",
      "('j equals:', 36)\n",
      "('j-a equals:', 20)\n",
      "('a equals:', 16)\n",
      "('j equals:', 37)\n",
      "('j-a equals:', 21)\n",
      "('a equals:', 16)\n",
      "('j equals:', 38)\n",
      "('j-a equals:', 22)\n",
      "('a equals:', 16)\n",
      "('j equals:', 39)\n",
      "('j-a equals:', 23)\n",
      "('a equals:', 16)\n",
      "('j equals:', 40)\n",
      "('j-a equals:', 24)\n",
      "('a equals:', 16)\n",
      "('j equals:', 41)\n",
      "('j-a equals:', 25)\n",
      "('a equals:', 16)\n",
      "('j equals:', 42)\n",
      "('j-a equals:', 26)\n",
      "('a equals:', 16)\n",
      "('j equals:', 43)\n",
      "('j-a equals:', 27)\n",
      "('a equals:', 16)\n",
      "('j equals:', 44)\n",
      "('j-a equals:', 28)\n",
      "('a equals:', 16)\n",
      "('j equals:', 45)\n",
      "('j-a equals:', 29)\n",
      "('a equals:', 31)\n",
      "('j equals:', 0)\n",
      "('count equals:', 1)\n",
      "('a equals:', 31)\n",
      "('j equals:', 1)\n",
      "('count equals:', 1)\n",
      "('a equals:', 31)\n",
      "('j equals:', 2)\n",
      "('count equals:', 1)\n",
      "('a equals:', 31)\n",
      "('j equals:', 3)\n",
      "('count equals:', 1)\n",
      "('a equals:', 31)\n",
      "('j equals:', 4)\n",
      "('count equals:', 1)\n",
      "('a equals:', 31)\n",
      "('j equals:', 5)\n",
      "('count equals:', 1)\n",
      "('a equals:', 31)\n",
      "('j equals:', 6)\n",
      "('count equals:', 1)\n",
      "('a equals:', 31)\n",
      "('j equals:', 7)\n",
      "('count equals:', 1)\n",
      "('a equals:', 31)\n",
      "('j equals:', 8)\n",
      "('count equals:', 1)\n",
      "('a equals:', 31)\n",
      "('j equals:', 9)\n",
      "('count equals:', 1)\n",
      "('a equals:', 31)\n",
      "('j equals:', 10)\n",
      "('count equals:', 1)\n",
      "('a equals:', 31)\n",
      "('j equals:', 11)\n",
      "('count equals:', 1)\n",
      "('a equals:', 31)\n",
      "('j equals:', 12)\n",
      "('count equals:', 1)\n",
      "('a equals:', 31)\n",
      "('j equals:', 13)\n",
      "('count equals:', 1)\n",
      "('a equals:', 31)\n",
      "('j equals:', 14)\n",
      "('count equals:', 1)\n",
      "('a equals:', 31)\n",
      "('j equals:', 15)\n",
      "('count equals:', 1)\n",
      "('a equals:', 31)\n",
      "('j equals:', 16)\n",
      "('count equals:', 1)\n",
      "('a equals:', 31)\n",
      "('j equals:', 17)\n",
      "('count equals:', 1)\n",
      "('a equals:', 31)\n",
      "('j equals:', 18)\n",
      "('count equals:', 1)\n",
      "('a equals:', 31)\n",
      "('j equals:', 19)\n",
      "('count equals:', 1)\n",
      "('a equals:', 31)\n",
      "('j equals:', 20)\n",
      "('count equals:', 1)\n",
      "('a equals:', 31)\n",
      "('j equals:', 21)\n",
      "('count equals:', 1)\n",
      "('a equals:', 31)\n",
      "('j equals:', 22)\n",
      "('count equals:', 1)\n",
      "('a equals:', 31)\n",
      "('j equals:', 23)\n",
      "('count equals:', 1)\n",
      "('a equals:', 31)\n",
      "('j equals:', 24)\n",
      "('count equals:', 1)\n",
      "('a equals:', 31)\n",
      "('j equals:', 25)\n",
      "('count equals:', 1)\n",
      "('a equals:', 31)\n",
      "('j equals:', 26)\n",
      "('count equals:', 1)\n",
      "('a equals:', 31)\n",
      "('j equals:', 27)\n",
      "('count equals:', 1)\n",
      "('a equals:', 31)\n",
      "('j equals:', 28)\n",
      "('count equals:', 1)\n",
      "('a equals:', 31)\n",
      "('j equals:', 29)\n",
      "('count equals:', 1)\n",
      "('a equals:', 31)\n",
      "('j equals:', 30)\n",
      "('count equals:', 1)\n",
      "('a equals:', 31)\n",
      "('j equals:', 31)\n",
      "('count equals:', 1)\n",
      "('a equals:', 31)\n",
      "('j equals:', 32)\n",
      "('count equals:', 1)\n",
      "('a equals:', 31)\n",
      "('j equals:', 33)\n",
      "('count equals:', 1)\n",
      "('a equals:', 31)\n",
      "('j equals:', 34)\n",
      "('count equals:', 1)\n",
      "('a equals:', 31)\n",
      "('j equals:', 35)\n",
      "('count equals:', 1)\n",
      "('a equals:', 31)\n",
      "('j equals:', 36)\n",
      "('count equals:', 1)\n",
      "('a equals:', 31)\n",
      "('j equals:', 37)\n",
      "('count equals:', 1)\n",
      "('a equals:', 31)\n",
      "('j equals:', 38)\n",
      "('count equals:', 1)\n",
      "('a equals:', 31)\n",
      "('j equals:', 39)\n",
      "('count equals:', 1)\n",
      "('a equals:', 31)\n",
      "('j equals:', 40)\n",
      "('count equals:', 1)\n",
      "('a equals:', 31)\n",
      "('j equals:', 41)\n",
      "('count equals:', 1)\n",
      "('a equals:', 31)\n",
      "('j equals:', 42)\n",
      "('count equals:', 1)\n",
      "('a equals:', 31)\n",
      "('j equals:', 43)\n",
      "('count equals:', 1)\n",
      "('a equals:', 31)\n",
      "('j equals:', 44)\n",
      "('count equals:', 1)\n",
      "('a equals:', 31)\n",
      "('j equals:', 45)\n",
      "('count equals:', 1)\n",
      "('a equals:', 31)\n",
      "('j equals:', 46)\n",
      "('j-a equals:', 15)\n",
      "('a equals:', 31)\n",
      "('j equals:', 47)\n",
      "('j-a equals:', 16)\n",
      "('a equals:', 31)\n",
      "('j equals:', 48)\n",
      "('j-a equals:', 17)\n",
      "('a equals:', 31)\n",
      "('j equals:', 49)\n",
      "('j-a equals:', 18)\n",
      "('a equals:', 31)\n",
      "('j equals:', 50)\n",
      "('j-a equals:', 19)\n",
      "('a equals:', 31)\n",
      "('j equals:', 51)\n",
      "('j-a equals:', 20)\n",
      "('a equals:', 31)\n",
      "('j equals:', 52)\n",
      "('j-a equals:', 21)\n",
      "('a equals:', 31)\n",
      "('j equals:', 53)\n",
      "('j-a equals:', 22)\n",
      "('a equals:', 31)\n",
      "('j equals:', 54)\n",
      "('j-a equals:', 23)\n",
      "('a equals:', 31)\n",
      "('j equals:', 55)\n",
      "('j-a equals:', 24)\n",
      "('a equals:', 31)\n",
      "('j equals:', 56)\n",
      "('j-a equals:', 25)\n",
      "('a equals:', 31)\n",
      "('j equals:', 57)\n",
      "('j-a equals:', 26)\n",
      "('a equals:', 31)\n",
      "('j equals:', 58)\n",
      "('j-a equals:', 27)\n",
      "('a equals:', 31)\n",
      "('j equals:', 59)\n",
      "('j-a equals:', 28)\n",
      "('a equals:', 31)\n",
      "('j equals:', 60)\n",
      "('j-a equals:', 29)\n",
      "('a equals:', 31)\n",
      "('j equals:', 61)\n",
      "('j-a equals:', 30)\n",
      "('a equals:', 31)\n",
      "('j equals:', 62)\n",
      "('j-a equals:', 31)\n",
      "('a equals:', 31)\n",
      "('j equals:', 63)\n",
      "('j-a equals:', 32)\n",
      "('a equals:', 31)\n",
      "('j equals:', 64)\n",
      "('j-a equals:', 33)\n",
      "('a equals:', 31)\n",
      "('j equals:', 65)\n",
      "('j-a equals:', 34)\n",
      "('a equals:', 31)\n",
      "('j equals:', 66)\n",
      "('j-a equals:', 35)\n",
      "('a equals:', 31)\n",
      "('j equals:', 67)\n",
      "('j-a equals:', 36)\n",
      "('a equals:', 31)\n",
      "('j equals:', 68)\n",
      "('j-a equals:', 37)\n",
      "('a equals:', 31)\n",
      "('j equals:', 69)\n",
      "('j-a equals:', 38)\n",
      "('a equals:', 31)\n",
      "('j equals:', 70)\n",
      "('j-a equals:', 39)\n",
      "('a equals:', 31)\n",
      "('j equals:', 71)\n",
      "('j-a equals:', 40)\n",
      "('a equals:', 31)\n",
      "('j equals:', 72)\n",
      "('j-a equals:', 41)\n",
      "('a equals:', 31)\n",
      "('j equals:', 73)\n",
      "('j-a equals:', 42)\n",
      "('a equals:', 31)\n",
      "('j equals:', 74)\n",
      "('j-a equals:', 43)\n",
      "('a equals:', 31)\n",
      "('j equals:', 75)\n",
      "('j-a equals:', 44)\n",
      "('a equals:', 31)\n",
      "('j equals:', 76)\n",
      "('j-a equals:', 45)\n",
      "('a equals:', 87)\n",
      "('j equals:', 0)\n",
      "('count equals:', 1)\n",
      "('a equals:', 87)\n",
      "('j equals:', 1)\n",
      "('count equals:', 1)\n",
      "('a equals:', 87)\n"
     ]
    },
    {
     "name": "stdout",
     "output_type": "stream",
     "text": [
      "('j equals:', 2)\n",
      "('count equals:', 1)\n",
      "('a equals:', 87)\n",
      "('j equals:', 3)\n",
      "('count equals:', 1)\n",
      "('a equals:', 87)\n",
      "('j equals:', 4)\n",
      "('count equals:', 1)\n",
      "('a equals:', 87)\n",
      "('j equals:', 5)\n",
      "('count equals:', 1)\n",
      "('a equals:', 87)\n",
      "('j equals:', 6)\n",
      "('count equals:', 1)\n",
      "('a equals:', 87)\n",
      "('j equals:', 7)\n",
      "('count equals:', 1)\n",
      "('a equals:', 87)\n",
      "('j equals:', 8)\n",
      "('count equals:', 1)\n",
      "('a equals:', 87)\n",
      "('j equals:', 9)\n",
      "('count equals:', 1)\n",
      "('a equals:', 87)\n",
      "('j equals:', 10)\n",
      "('count equals:', 1)\n",
      "('a equals:', 87)\n",
      "('j equals:', 11)\n",
      "('count equals:', 1)\n",
      "('a equals:', 87)\n",
      "('j equals:', 12)\n",
      "('count equals:', 1)\n",
      "('a equals:', 87)\n",
      "('j equals:', 13)\n",
      "('count equals:', 1)\n",
      "('a equals:', 87)\n",
      "('j equals:', 14)\n",
      "('count equals:', 1)\n",
      "('a equals:', 87)\n",
      "('j equals:', 15)\n",
      "('count equals:', 1)\n",
      "('a equals:', 87)\n",
      "('j equals:', 16)\n",
      "('count equals:', 1)\n",
      "('a equals:', 87)\n",
      "('j equals:', 17)\n",
      "('count equals:', 1)\n",
      "('a equals:', 87)\n",
      "('j equals:', 18)\n",
      "('count equals:', 1)\n",
      "('a equals:', 87)\n",
      "('j equals:', 19)\n",
      "('count equals:', 1)\n",
      "('a equals:', 87)\n",
      "('j equals:', 20)\n",
      "('count equals:', 1)\n",
      "('a equals:', 87)\n",
      "('j equals:', 21)\n",
      "('count equals:', 1)\n",
      "('a equals:', 87)\n",
      "('j equals:', 22)\n",
      "('count equals:', 1)\n",
      "('a equals:', 87)\n",
      "('j equals:', 23)\n",
      "('count equals:', 1)\n",
      "('a equals:', 87)\n",
      "('j equals:', 24)\n",
      "('count equals:', 1)\n",
      "('a equals:', 87)\n",
      "('j equals:', 25)\n",
      "('count equals:', 1)\n",
      "('a equals:', 87)\n",
      "('j equals:', 26)\n",
      "('count equals:', 1)\n",
      "('a equals:', 87)\n",
      "('j equals:', 27)\n",
      "('count equals:', 1)\n",
      "('a equals:', 87)\n",
      "('j equals:', 28)\n",
      "('count equals:', 1)\n",
      "('a equals:', 87)\n",
      "('j equals:', 29)\n",
      "('count equals:', 1)\n",
      "('a equals:', 87)\n",
      "('j equals:', 30)\n",
      "('count equals:', 1)\n",
      "('a equals:', 87)\n",
      "('j equals:', 31)\n",
      "('count equals:', 1)\n",
      "('a equals:', 87)\n",
      "('j equals:', 32)\n",
      "('count equals:', 1)\n",
      "('a equals:', 87)\n",
      "('j equals:', 33)\n",
      "('count equals:', 1)\n",
      "('a equals:', 87)\n",
      "('j equals:', 34)\n",
      "('count equals:', 1)\n",
      "('a equals:', 87)\n",
      "('j equals:', 35)\n",
      "('count equals:', 1)\n",
      "('a equals:', 87)\n",
      "('j equals:', 36)\n",
      "('count equals:', 1)\n",
      "('a equals:', 87)\n",
      "('j equals:', 37)\n",
      "('count equals:', 1)\n",
      "('a equals:', 87)\n",
      "('j equals:', 38)\n",
      "('count equals:', 1)\n",
      "('a equals:', 87)\n",
      "('j equals:', 39)\n",
      "('count equals:', 1)\n",
      "('a equals:', 87)\n",
      "('j equals:', 40)\n",
      "('count equals:', 1)\n",
      "('a equals:', 87)\n",
      "('j equals:', 41)\n",
      "('count equals:', 1)\n",
      "('a equals:', 87)\n",
      "('j equals:', 42)\n",
      "('count equals:', 1)\n",
      "('a equals:', 87)\n",
      "('j equals:', 43)\n",
      "('count equals:', 1)\n",
      "('a equals:', 87)\n",
      "('j equals:', 44)\n",
      "('count equals:', 1)\n",
      "('a equals:', 87)\n",
      "('j equals:', 45)\n",
      "('count equals:', 1)\n",
      "('a equals:', 87)\n",
      "('j equals:', 46)\n",
      "('count equals:', 1)\n",
      "('a equals:', 87)\n",
      "('j equals:', 47)\n",
      "('count equals:', 1)\n",
      "('a equals:', 87)\n",
      "('j equals:', 48)\n",
      "('count equals:', 1)\n",
      "('a equals:', 87)\n",
      "('j equals:', 49)\n",
      "('count equals:', 1)\n",
      "('a equals:', 87)\n",
      "('j equals:', 50)\n",
      "('count equals:', 1)\n",
      "('a equals:', 87)\n",
      "('j equals:', 51)\n",
      "('count equals:', 1)\n",
      "('a equals:', 87)\n",
      "('j equals:', 52)\n",
      "('count equals:', 1)\n",
      "('a equals:', 87)\n",
      "('j equals:', 53)\n",
      "('count equals:', 1)\n",
      "('a equals:', 87)\n",
      "('j equals:', 54)\n",
      "('count equals:', 1)\n",
      "('a equals:', 87)\n",
      "('j equals:', 55)\n",
      "('count equals:', 1)\n",
      "('a equals:', 87)\n",
      "('j equals:', 56)\n",
      "('count equals:', 1)\n",
      "('a equals:', 87)\n",
      "('j equals:', 57)\n",
      "('count equals:', 1)\n",
      "('a equals:', 87)\n",
      "('j equals:', 58)\n",
      "('count equals:', 1)\n",
      "('a equals:', 87)\n",
      "('j equals:', 59)\n",
      "('count equals:', 1)\n",
      "('a equals:', 87)\n",
      "('j equals:', 60)\n",
      "('count equals:', 1)\n",
      "('a equals:', 87)\n",
      "('j equals:', 61)\n",
      "('count equals:', 1)\n",
      "('a equals:', 87)\n",
      "('j equals:', 62)\n",
      "('count equals:', 1)\n",
      "('a equals:', 87)\n",
      "('j equals:', 63)\n",
      "('count equals:', 1)\n",
      "('a equals:', 87)\n",
      "('j equals:', 64)\n",
      "('count equals:', 1)\n",
      "('a equals:', 87)\n",
      "('j equals:', 65)\n",
      "('count equals:', 1)\n",
      "('a equals:', 87)\n",
      "('j equals:', 66)\n",
      "('count equals:', 1)\n",
      "('a equals:', 87)\n",
      "('j equals:', 67)\n",
      "('count equals:', 1)\n",
      "('a equals:', 87)\n",
      "('j equals:', 68)\n",
      "('count equals:', 1)\n",
      "('a equals:', 87)\n",
      "('j equals:', 69)\n",
      "('count equals:', 1)\n",
      "('a equals:', 87)\n",
      "('j equals:', 70)\n",
      "('count equals:', 1)\n",
      "('a equals:', 87)\n",
      "('j equals:', 71)\n",
      "('count equals:', 1)\n",
      "('a equals:', 87)\n",
      "('j equals:', 72)\n",
      "('count equals:', 1)\n",
      "('a equals:', 87)\n",
      "('j equals:', 73)\n",
      "('count equals:', 1)\n",
      "('a equals:', 87)\n",
      "('j equals:', 74)\n",
      "('count equals:', 1)\n",
      "('a equals:', 87)\n",
      "('j equals:', 75)\n",
      "('count equals:', 1)\n",
      "('a equals:', 87)\n",
      "('j equals:', 76)\n",
      "('count equals:', 1)\n",
      "('a equals:', 87)\n",
      "('j equals:', 87)\n",
      "('j-a equals:', 0)\n",
      "('a equals:', 87)\n",
      "('j equals:', 88)\n",
      "('j-a equals:', 1)\n",
      "('a equals:', 87)\n",
      "('j equals:', 89)\n",
      "('j-a equals:', 2)\n",
      "('a equals:', 87)\n",
      "('j equals:', 90)\n",
      "('j-a equals:', 3)\n",
      "('a equals:', 87)\n",
      "('j equals:', 91)\n",
      "('j-a equals:', 4)\n",
      "('a equals:', 87)\n",
      "('j equals:', 92)\n",
      "('j-a equals:', 5)\n",
      "('a equals:', 87)\n",
      "('j equals:', 93)\n",
      "('j-a equals:', 6)\n",
      "('a equals:', 87)\n",
      "('j equals:', 94)\n",
      "('j-a equals:', 7)\n",
      "('a equals:', 87)\n",
      "('j equals:', 95)\n",
      "('j-a equals:', 8)\n",
      "('a equals:', 87)\n",
      "('j equals:', 96)\n",
      "('j-a equals:', 9)\n",
      "('a equals:', 87)\n",
      "('j equals:', 97)\n",
      "('j-a equals:', 10)\n",
      "('a equals:', 87)\n",
      "('j equals:', 98)\n",
      "('j-a equals:', 11)\n",
      "('a equals:', 87)\n",
      "('j equals:', 99)\n",
      "('j-a equals:', 12)\n",
      "('a equals:', 87)\n",
      "('j equals:', 100)\n",
      "('j-a equals:', 13)\n",
      "('a equals:', 87)\n",
      "('j equals:', 101)\n",
      "('j-a equals:', 14)\n",
      "('a equals:', 87)\n",
      "('j equals:', 102)\n",
      "('j-a equals:', 15)\n",
      "('a equals:', 87)\n",
      "('j equals:', 103)\n",
      "('j-a equals:', 16)\n",
      "('a equals:', 87)\n",
      "('j equals:', 104)\n",
      "('j-a equals:', 17)\n",
      "('a equals:', 87)\n",
      "('j equals:', 105)\n",
      "('j-a equals:', 18)\n",
      "('a equals:', 87)\n",
      "('j equals:', 106)\n",
      "('j-a equals:', 19)\n",
      "('a equals:', 87)\n",
      "('j equals:', 107)\n",
      "('j-a equals:', 20)\n",
      "('a equals:', 87)\n",
      "('j equals:', 108)\n",
      "('j-a equals:', 21)\n",
      "('a equals:', 87)\n",
      "('j equals:', 109)\n",
      "('j-a equals:', 22)\n",
      "('a equals:', 87)\n",
      "('j equals:', 110)\n",
      "('j-a equals:', 23)\n",
      "('a equals:', 87)\n",
      "('j equals:', 111)\n",
      "('j-a equals:', 24)\n",
      "('a equals:', 87)\n",
      "('j equals:', 112)\n",
      "('j-a equals:', 25)\n",
      "('a equals:', 87)\n",
      "('j equals:', 113)\n",
      "('j-a equals:', 26)\n",
      "('a equals:', 87)\n",
      "('j equals:', 114)\n",
      "('j-a equals:', 27)\n",
      "('a equals:', 87)\n",
      "('j equals:', 115)\n",
      "('j-a equals:', 28)\n",
      "('a equals:', 87)\n",
      "('j equals:', 116)\n",
      "('j-a equals:', 29)\n",
      "('a equals:', 87)\n",
      "('j equals:', 117)\n",
      "('j-a equals:', 30)\n",
      "('a equals:', 87)\n",
      "('j equals:', 118)\n",
      "('j-a equals:', 31)\n",
      "('a equals:', 87)\n",
      "('j equals:', 119)\n",
      "('j-a equals:', 32)\n",
      "('a equals:', 87)\n",
      "('j equals:', 120)\n",
      "('j-a equals:', 33)\n",
      "('a equals:', 87)\n",
      "('j equals:', 121)\n",
      "('j-a equals:', 34)\n",
      "('a equals:', 87)\n",
      "('j equals:', 122)\n",
      "('j-a equals:', 35)\n",
      "('a equals:', 87)\n",
      "('j equals:', 123)\n",
      "('j-a equals:', 36)\n",
      "('a equals:', 87)\n",
      "('j equals:', 124)\n",
      "('j-a equals:', 37)\n",
      "('a equals:', 87)\n",
      "('j equals:', 125)\n",
      "('j-a equals:', 38)\n",
      "('a equals:', 87)\n",
      "('j equals:', 126)\n",
      "('j-a equals:', 39)\n",
      "('a equals:', 87)\n",
      "('j equals:', 127)\n",
      "('j-a equals:', 40)\n",
      "('a equals:', 87)\n",
      "('j equals:', 128)\n",
      "('j-a equals:', 41)\n",
      "('a equals:', 87)\n",
      "('j equals:', 129)\n",
      "('j-a equals:', 42)\n",
      "('a equals:', 87)\n",
      "('j equals:', 130)\n",
      "('j-a equals:', 43)\n",
      "('a equals:', 87)\n",
      "('j equals:', 131)\n",
      "('j-a equals:', 44)\n",
      "('a equals:', 87)\n",
      "('j equals:', 132)\n",
      "('j-a equals:', 45)\n",
      "('a equals:', 87)\n",
      "('j equals:', 133)\n",
      "('j-a equals:', 46)\n",
      "('a equals:', 87)\n",
      "('j equals:', 134)\n",
      "('j-a equals:', 47)\n",
      "('a equals:', 87)\n",
      "('j equals:', 135)\n",
      "('j-a equals:', 48)\n",
      "('a equals:', 87)\n",
      "('j equals:', 136)\n",
      "('j-a equals:', 49)\n",
      "('a equals:', 87)\n",
      "('j equals:', 137)\n",
      "('j-a equals:', 50)\n",
      "('a equals:', 87)\n",
      "('j equals:', 138)\n",
      "('j-a equals:', 51)\n",
      "('a equals:', 87)\n",
      "('j equals:', 139)\n",
      "('j-a equals:', 52)\n",
      "('a equals:', 87)\n",
      "('j equals:', 140)\n",
      "('j-a equals:', 53)\n",
      "('a equals:', 87)\n",
      "('j equals:', 141)\n",
      "('j-a equals:', 54)\n",
      "('a equals:', 87)\n",
      "('j equals:', 142)\n",
      "('j-a equals:', 55)\n",
      "('a equals:', 87)\n",
      "('j equals:', 143)\n",
      "('j-a equals:', 56)\n",
      "('a equals:', 87)\n",
      "('j equals:', 144)\n",
      "('j-a equals:', 57)\n",
      "('a equals:', 87)\n",
      "('j equals:', 145)\n",
      "('j-a equals:', 58)\n",
      "('a equals:', 87)\n",
      "('j equals:', 146)\n",
      "('j-a equals:', 59)\n",
      "('a equals:', 87)\n",
      "('j equals:', 147)\n",
      "('j-a equals:', 60)\n",
      "('a equals:', 87)\n",
      "('j equals:', 148)\n",
      "('j-a equals:', 61)\n",
      "('a equals:', 87)\n",
      "('j equals:', 149)\n",
      "('j-a equals:', 62)\n",
      "('a equals:', 87)\n",
      "('j equals:', 150)\n",
      "('j-a equals:', 63)\n",
      "('a equals:', 87)\n",
      "('j equals:', 151)\n",
      "('j-a equals:', 64)\n",
      "('a equals:', 87)\n",
      "('j equals:', 152)\n",
      "('j-a equals:', 65)\n",
      "('a equals:', 87)\n",
      "('j equals:', 153)\n",
      "('j-a equals:', 66)\n",
      "('a equals:', 87)\n",
      "('j equals:', 154)\n",
      "('j-a equals:', 67)\n",
      "('a equals:', 87)\n",
      "('j equals:', 155)\n",
      "('j-a equals:', 68)\n",
      "('a equals:', 87)\n",
      "('j equals:', 156)\n",
      "('j-a equals:', 69)\n",
      "('a equals:', 87)\n",
      "('j equals:', 157)\n",
      "('j-a equals:', 70)\n",
      "('a equals:', 87)\n",
      "('j equals:', 158)\n",
      "('j-a equals:', 71)\n",
      "('a equals:', 87)\n",
      "('j equals:', 159)\n",
      "('j-a equals:', 72)\n",
      "('a equals:', 87)\n",
      "('j equals:', 160)\n",
      "('j-a equals:', 73)\n",
      "('a equals:', 87)\n",
      "('j equals:', 161)\n",
      "('j-a equals:', 74)\n",
      "('a equals:', 87)\n",
      "('j equals:', 162)\n",
      "('j-a equals:', 75)\n"
     ]
    },
    {
     "data": {
      "text/plain": [
       "11"
      ]
     },
     "execution_count": 158,
     "metadata": {},
     "output_type": "execute_result"
    }
   ],
   "source": [
    "golden_min_abs_sum(A)"
   ]
  },
  {
   "cell_type": "code",
   "execution_count": 136,
   "metadata": {
    "collapsed": true
   },
   "outputs": [],
   "source": [
    "def partition_prob(A):\n",
    "    count, max_A = count_repetitions(A)\n",
    "    sum_A = sum(A)\n",
    "    dp = [0] * (sum_A + 1)\n",
    "    dp[0] = 1\n",
    "    for i in xrange(max_A + 1):\n",
    "        if (count[i] > 0):\n",
    "            for j in xrange(sum_A):\n",
    "                if dp[j] > 0: \n",
    "                    dp[j] = count[i]\n",
    "                elif ((j > i) & (dp[j - i] > 0)):\n",
    "                    \n",
    "                    dp[j] = dp[j - i] - 1 # if sum j is acheievable, then we used already \n",
    "    "
   ]
  },
  {
   "cell_type": "code",
   "execution_count": 184,
   "metadata": {
    "collapsed": true
   },
   "outputs": [],
   "source": [
    "# we calculate in recurssion the intersection of one line with all other lines\n",
    "# where lines are constructed as A[k]*X + B \n",
    "def calculate_intersection(intersect, A, B, C, k):\n",
    "    len_C = len(C)\n",
    "    if (((B[len_C - 1] - B[k]) == 0) & (len_C > 0)):\n",
    "        return (calculate_intersection(intersect, A, B ,C[:-1], k))\n",
    "    if (((B[len_C - 1] - B[k]) != 0) &  (len_C > 0)):\n",
    "        inter =  (B[len_C - 1]-B[k]) / (A[k] - A[len_C - 1]) \n",
    "        print(len_C)\n",
    "        intersect.append(inter)\n",
    "    if len_C == 0:\n",
    "        return intersect\n",
    "    return(calculate_intersection(intersect, A, B ,C[:-1], k))"
   ]
  },
  {
   "cell_type": "markdown",
   "metadata": {},
   "source": [
    "### coursera strings"
   ]
  },
  {
   "cell_type": "code",
   "execution_count": 1,
   "metadata": {
    "collapsed": true
   },
   "outputs": [],
   "source": [
    "a = ['apple', 'coconut','banana', 'apple', 'banana', 'apple']"
   ]
  },
  {
   "cell_type": "code",
   "execution_count": 28,
   "metadata": {
    "collapsed": true
   },
   "outputs": [],
   "source": [
    "b = ['apple','banana', 'apple']"
   ]
  },
  {
   "cell_type": "code",
   "execution_count": 2,
   "metadata": {
    "collapsed": true
   },
   "outputs": [],
   "source": [
    "my_list = a"
   ]
  },
  {
   "cell_type": "markdown",
   "metadata": {},
   "source": [
    "[https://stackoverflow.com/questions/24907913/explain-combination-function-of-python-module-itertools]"
   ]
  },
  {
   "cell_type": "code",
   "execution_count": 67,
   "metadata": {
    "collapsed": true
   },
   "outputs": [],
   "source": [
    "def combinations(iterable, r):\n",
    "    pool = tuple(iterable)\n",
    "    n = len(pool)\n",
    "    if r > n: # if length subset > length of full list end\n",
    "        return\n",
    "    # if the length of the desired permutation is higher than the length of the tuple \n",
    "    # it is not possible to create permutations so return without doing something\n",
    "    \n",
    "    indices = list(range(r)) ## 0 1 2\n",
    "      # create the first list of indices in normal order ( indices = [0,1,2,3,...,r])\n",
    "    # up to the desired range r\n",
    "\n",
    "    \n",
    "    yield tuple(pool[i] for i in indices)\n",
    "     # return the first permutation which is a tuple of the input with the original \n",
    "    # indices up to r tuple(tuple[0], tuple[1],....,tuple[r])\n",
    "    \n",
    "    \n",
    "    while True: # infinite looping \n",
    "        for i in reversed(range(r)):  ## 2 1 0 \n",
    "            if indices[i] < i + n - r: \n",
    "            # after reversed, i will be r-1, r-2, r-3, ....,0\n",
    "            # something we should know before we start the 'for' loop\n",
    "            # the value of indices[r-1] should not greater than n-1\n",
    "            # the value of indices[r-2] should not greater than n-2\n",
    "            # and the maximum of indices[i] should be indices[r-1]\n",
    "            # so the value of indices[r-1] should between r-1 and n-r + r-1, like this:\n",
    "            #       r-1 <= indics[r-1] <= n-r + r-1\n",
    "            # so, to r-2:\n",
    "            #       r-2 <= indics[r-1] <= n-r + r-2\n",
    "            # let's set i = r-1:\n",
    "            #       i <= indices[i] <= n-r+i (n-1 is the maximum value)\n",
    "            # since we will keep plusing the value of indices[i], let's ignore i <= indices[i]\n",
    "            # and we just want to know if indices[i] can plus or not,\n",
    "            # so indices[i] can be equal with n-r+i\n",
    "            # then we got:\n",
    "            #       indices[i] < i + n - r\n",
    "            # the offical document give: indices[i] != i + n - r,\n",
    "            # cause when indices[i] == i + n - r, it arrived the boundry, \n",
    "            # the \"for\" loop will get into indices[i-1], there will be no judgement for \">i+n-r\"\n",
    "            # so to use indices[i] != i + n - r is still a good way, \n",
    "            # but i prefer indices[i] < i + n - r, which is easier to understand for me.\n",
    "            # so next question is \"break\" in here, \n",
    "            # it means the value of indices[i] doesn't reach the boundry still can plus one,\n",
    "            # let break out to continue the iteration\n",
    "            # when it hit the boundry, i will be r-2\n",
    "            # So we can see the result:\n",
    "            # 1, 2, 3\n",
    "            # 1, 2, 4\n",
    "            # 1, 2, 5\n",
    "            # 1, 3, 4\n",
    "            # always loop the last index, hit the boundry, check the last but one.\n",
    "                break\n",
    "        else:\n",
    "            return\n",
    "        indices[i] += 1 \n",
    "        for j in range(i + 1, r): \n",
    "            indices[j] = indices[j-1] + 1 # indices[1] = indices[0] + 1\n",
    "            \n",
    "            # this for loop is increase every indices which is after indices[i].\n",
    "            # cause, current index increased, and we need to confirm every one behind is orderd\n",
    "            # for example: current we got i = 2, indices[i]+1 will be 3, \n",
    "            # so the next loop will start with [1, 3, 4], not [1, 3, 3]\n",
    "            \n",
    "        yield tuple(pool[i] for i in indices)"
   ]
  },
  {
   "cell_type": "code",
   "execution_count": 68,
   "metadata": {
    "collapsed": true
   },
   "outputs": [],
   "source": [
    "my_list = ['apple', 'banana', 'apple']"
   ]
  },
  {
   "cell_type": "code",
   "execution_count": 71,
   "metadata": {},
   "outputs": [
    {
     "name": "stdout",
     "output_type": "stream",
     "text": [
      "('apple', 'banana')\n",
      "('apple', 'apple')\n",
      "('banana', 'apple')\n"
     ]
    }
   ],
   "source": [
    "for i in combinations(my_list, 2):\n",
    "    print i"
   ]
  },
  {
   "cell_type": "code",
   "execution_count": 5,
   "metadata": {
    "collapsed": true
   },
   "outputs": [],
   "source": [
    "a = []\n",
    "for j in range(1, len(my_list)):\n",
    "    for i in combinations(my_list, j):\n",
    "        t = sorted(list(i[:]))\n",
    "        try :\n",
    "            if any(x == t for x in a):\n",
    "                break\n",
    "            else:\n",
    "                a.append(t)\n",
    "        except:\n",
    "            a.append(t)"
   ]
  },
  {
   "cell_type": "code",
   "execution_count": 6,
   "metadata": {
    "scrolled": true
   },
   "outputs": [
    {
     "data": {
      "text/plain": [
       "\"['apple'],['banana'],['apple', 'banana'],['apple', 'apple']\""
      ]
     },
     "execution_count": 6,
     "metadata": {},
     "output_type": "execute_result"
    }
   ],
   "source": [
    "\",\".join([str(x) for x in a])  "
   ]
  },
  {
   "cell_type": "code",
   "execution_count": null,
   "metadata": {
    "collapsed": true
   },
   "outputs": [],
   "source": [
    "######"
   ]
  },
  {
   "cell_type": "code",
   "execution_count": 10,
   "metadata": {
    "collapsed": true
   },
   "outputs": [],
   "source": [
    "names = ['Tom Hardy', 'Jeff Gold', 'Arie Gold']"
   ]
  },
  {
   "cell_type": "code",
   "execution_count": 11,
   "metadata": {},
   "outputs": [
    {
     "data": {
      "text/plain": [
       "['Tom Hardy', 'Jeff Gold', 'Arie Gold']"
      ]
     },
     "execution_count": 11,
     "metadata": {},
     "output_type": "execute_result"
    }
   ],
   "source": [
    "names"
   ]
  },
  {
   "cell_type": "code",
   "execution_count": 12,
   "metadata": {},
   "outputs": [
    {
     "data": {
      "text/plain": [
       "'Tom Hardy'"
      ]
     },
     "execution_count": 12,
     "metadata": {},
     "output_type": "execute_result"
    }
   ],
   "source": [
    "names[0]"
   ]
  },
  {
   "cell_type": "code",
   "execution_count": 13,
   "metadata": {
    "collapsed": true
   },
   "outputs": [],
   "source": [
    "my_list = names[0].split(\" \")"
   ]
  },
  {
   "cell_type": "code",
   "execution_count": 14,
   "metadata": {},
   "outputs": [
    {
     "data": {
      "text/plain": [
       "['Tom', 'Hardy']"
      ]
     },
     "execution_count": 14,
     "metadata": {},
     "output_type": "execute_result"
    }
   ],
   "source": [
    "my_list"
   ]
  },
  {
   "cell_type": "code",
   "execution_count": 15,
   "metadata": {
    "collapsed": true
   },
   "outputs": [],
   "source": [
    "first_name_list = [] \n",
    "for i in range(len(names)): \n",
    "    first_name = (names[i].split(\" \"))[0]\n",
    "    first_name_list.append(first_name)"
   ]
  },
  {
   "cell_type": "code",
   "execution_count": 16,
   "metadata": {},
   "outputs": [
    {
     "data": {
      "text/plain": [
       "['Tom', 'Jeff', 'Arie']"
      ]
     },
     "execution_count": 16,
     "metadata": {},
     "output_type": "execute_result"
    }
   ],
   "source": [
    "first_name_list"
   ]
  },
  {
   "cell_type": "code",
   "execution_count": 54,
   "metadata": {
    "collapsed": true
   },
   "outputs": [],
   "source": [
    "# complexity of sorting - depending on algorithm worst is nlog(n)\n",
    "def find_median(A, B):\n",
    "    join = np.concatenate((np.array(A).reshape(-1, 1), np.array(B).reshape(-1, 1)), 1)\n",
    "    join_sort = join[join[:,0].argsort()]\n",
    "    join_sort_2 = np.concatenate((join_sort, np.cumsum(join_sort[:, 1]).reshape(-1, 1)), 1)\n",
    "    join_sort_3 = np.concatenate((join_sort_2, (join_sort_2[:, 2] / sum(join_sort_2[:, 1])).reshape(-1, 1)), 1)\n",
    "    if(sum(join_sort_2[:, 1]) % 2 != 0):\n",
    "        median = join_sort_3[join_sort_3[:, 3] >= 0.5, 0][0]    \n",
    "    \n",
    "    else:\n",
    "        median = (join_sort_3[join_sort_3[:, 3] >= 0.5, 0][0] + join_sort_3[join_sort_3[:, 3] >= 0.5, 0][1]) / 2 \n",
    "    return(median)"
   ]
  },
  {
   "cell_type": "code",
   "execution_count": 58,
   "metadata": {},
   "outputs": [
    {
     "data": {
      "text/plain": [
       "3.0"
      ]
     },
     "execution_count": 58,
     "metadata": {},
     "output_type": "execute_result"
    }
   ],
   "source": [
    "find_median([1, 2, 3, 4], [1, 1, 6, 1])"
   ]
  },
  {
   "cell_type": "markdown",
   "metadata": {},
   "source": [
    "# Heapsort"
   ]
  },
  {
   "cell_type": "code",
   "execution_count": 175,
   "metadata": {},
   "outputs": [
    {
     "data": {
      "text/plain": [
       "[56, 7, 5, 3, 2, 1, -2]"
      ]
     },
     "execution_count": 175,
     "metadata": {},
     "output_type": "execute_result"
    }
   ],
   "source": [
    "def swap(A, i, j):\n",
    "    temp = A[i] \n",
    "    A[i] = A[j]\n",
    "    A[j] = temp\n",
    "    return A\n",
    "\n",
    "\n",
    "def max_heapify(A, index):\n",
    "    heap_size = len(A)\n",
    "    left_child = 2 * index + 1\n",
    "    right_child = 2 * index + 2\n",
    "    largest = index\n",
    "    if (left_child < heap_size):\n",
    "        if((left_child <= heap_size) & (A[left_child] > A[index])):\n",
    "            largest = left_child\n",
    "\n",
    "    if(right_child < heap_size):\n",
    "        if (A[right_child] > A[largest]):\n",
    "            largest = right_child\n",
    "    if (largest != index):\n",
    "        swap(A, index, largest)\n",
    "        max_heapify(A, largest)\n",
    "    return A\n",
    "\n",
    "def build_max_heap(A):\n",
    "    n = len(A)\n",
    "    for index in range(((n // 2) - 1), -1, -1):\n",
    "        max_heapify(A, index)\n",
    "    return A\n",
    "       \n",
    "    \n",
    "def heap_sort(A):\n",
    "    sorted_array = []\n",
    "    n = len(A)\n",
    "    for length in range(n, 0, -1):\n",
    "        A = build_max_heap(A[0:length])\n",
    "        A = swap(A, (length - 1), 0)\n",
    "        sorted_array.append(A[length - 1])\n",
    "    return (sorted_array)\n",
    "\n",
    "\n",
    "sqc = [2, 7, 1, -2, 56, 5, 3]\n",
    "heap_sort(sqc)\n",
    "# print(sqc)"
   ]
  },
  {
   "cell_type": "markdown",
   "metadata": {},
   "source": [
    "# Search algo."
   ]
  },
  {
   "cell_type": "markdown",
   "metadata": {},
   "source": [
    "### Depth first"
   ]
  },
  {
   "cell_type": "code",
   "execution_count": 52,
   "metadata": {},
   "outputs": [
    {
     "data": {
      "text/plain": [
       "['A', 'B', 'D', 'E', 'F', 'C']"
      ]
     },
     "execution_count": 52,
     "metadata": {},
     "output_type": "execute_result"
    }
   ],
   "source": [
    "graph = {'A': set(['B', 'C']),\n",
    "         'B': set(['A', 'D', 'E']),\n",
    "         'C': set(['A', 'F']),\n",
    "         'D': set(['B']),\n",
    "         'E': set(['B', 'F']),\n",
    "         'F': set(['C', 'E'])}\n",
    "\n",
    "def dfs(graph, start):\n",
    "    visited, stack = list(), [start]\n",
    "    while stack:\n",
    "        vertex = stack.pop()\n",
    "        if vertex not in visited:\n",
    "            visited.append(vertex)\n",
    "            stack.extend(graph[vertex] - set(visited))\n",
    "    return visited\n",
    "\n",
    "dfs(graph, 'A') # {'E', 'D', 'F', 'A', 'C', 'B'}\n"
   ]
  },
  {
   "cell_type": "code",
   "execution_count": 3,
   "metadata": {},
   "outputs": [
    {
     "data": {
      "text/plain": [
       "[['A', 'B', 'E', 'F'], ['A', 'C', 'F']]"
      ]
     },
     "execution_count": 3,
     "metadata": {},
     "output_type": "execute_result"
    }
   ],
   "source": [
    "def dfs_paths(graph, start, goal):\n",
    "    stack = [(start, [start])]\n",
    "    while stack:\n",
    "        (vertex, path) = stack.pop()\n",
    "        for next in graph[vertex] - set(path):\n",
    "            if next == goal:\n",
    "                yield path + [next]\n",
    "            else:\n",
    "                stack.append((next, path + [next]))\n",
    "\n",
    "list(dfs_paths(graph, 'A', 'F')) "
   ]
  },
  {
   "cell_type": "code",
   "execution_count": 1,
   "metadata": {
    "collapsed": true
   },
   "outputs": [],
   "source": [
    "a = [5, 6, 7]\n",
    "b = [3, 6, 10]"
   ]
  },
  {
   "cell_type": "code",
   "execution_count": 6,
   "metadata": {},
   "outputs": [
    {
     "data": {
      "text/plain": [
       "True"
      ]
     },
     "execution_count": 6,
     "metadata": {},
     "output_type": "execute_result"
    }
   ],
   "source": [
    "a[0] > b[0] "
   ]
  },
  {
   "cell_type": "code",
   "execution_count": 7,
   "metadata": {},
   "outputs": [
    {
     "data": {
      "text/plain": [
       "list"
      ]
     },
     "execution_count": 7,
     "metadata": {},
     "output_type": "execute_result"
    }
   ],
   "source": [
    "type(a)"
   ]
  },
  {
   "cell_type": "code",
   "execution_count": null,
   "metadata": {
    "collapsed": true
   },
   "outputs": [],
   "source": [
    "Write a code to switch a k-th element with (N-k)-th element in a linked list of length N.  "
   ]
  },
  {
   "cell_type": "code",
   "execution_count": 1,
   "metadata": {
    "collapsed": true
   },
   "outputs": [],
   "source": [
    "string = 'ABCDCDC'\n",
    "sub_string = 'CDC'"
   ]
  },
  {
   "cell_type": "code",
   "execution_count": 17,
   "metadata": {},
   "outputs": [
    {
     "data": {
      "text/plain": [
       "'CD'"
      ]
     },
     "execution_count": 17,
     "metadata": {},
     "output_type": "execute_result"
    }
   ],
   "source": [
    "string[-len(sub_string):-1]"
   ]
  },
  {
   "cell_type": "code",
   "execution_count": 18,
   "metadata": {},
   "outputs": [
    {
     "data": {
      "text/plain": [
       "'ABCDCDC'"
      ]
     },
     "execution_count": 18,
     "metadata": {},
     "output_type": "execute_result"
    }
   ],
   "source": [
    "string.strip()"
   ]
  },
  {
   "cell_type": "markdown",
   "metadata": {
    "collapsed": true
   },
   "source": [
    "## Quick sort "
   ]
  },
  {
   "cell_type": "markdown",
   "metadata": {},
   "source": [
    "Worst Case: The worst case occurs when the partition process always picks greatest or smallest element as pivot.  \n",
    "T(n) = T(n-1) + O(n) = O(n^2)\n",
    "Best Case: Best Case: The best case occurs when the partition process always picks the middle element as pivot\n",
    " T(n) = 2T(n/2) + \\theta(n) = O(NlogN) \n"
   ]
  },
  {
   "cell_type": "code",
   "execution_count": 65,
   "metadata": {
    "collapsed": true
   },
   "outputs": [],
   "source": [
    "def partition(arr, low, high):\n",
    "    pivot = arr[(low + high) // 2]     # pivot\n",
    "    \n",
    "    while (low <= high - 1):\n",
    "\n",
    "        # If current element is smaller than or\n",
    "        # equal to pivot\n",
    "        while (arr[low] < pivot):\n",
    "\n",
    "            # increment index of smaller element\n",
    "            low += 1\n",
    "        while (arr[high] > pivot) :\n",
    "\n",
    "            high -= 1\n",
    "\n",
    "        if (low <= high):\n",
    "            temp = arr[high] \n",
    "            arr[high] = arr[low]\n",
    "            arr[low] = temp \n",
    "            low += 1\n",
    "            high -= 1 \n",
    "        \n",
    "        \n",
    "    print arr\n",
    "    return low\n",
    " \n",
    "def quickSort(arr, low, high):\n",
    "    if low < high:\n",
    " \n",
    "        # pi is partitioning index, arr[p] is now\n",
    "        # at right place cause we have moved everything smaller to the left \n",
    "        # and bigger to the right.\n",
    "        pi = partition(arr, low, high)\n",
    "        print pi\n",
    "        # Separately sort elements before\n",
    "        # partition and after partition\n",
    "        quickSort(arr, low, pi-1)\n",
    "        quickSort(arr, pi, high)\n",
    "    return arr"
   ]
  },
  {
   "cell_type": "markdown",
   "metadata": {},
   "source": [
    "## Merge sort "
   ]
  },
  {
   "cell_type": "markdown",
   "metadata": {},
   "source": [
    "T(n) = 2T(n/2) + \\Theta(n)\n",
    "linear time to merge "
   ]
  },
  {
   "cell_type": "code",
   "execution_count": 187,
   "metadata": {
    "collapsed": true
   },
   "outputs": [],
   "source": [
    "# Merges two subarrays of arr[].\n",
    "# First subarray is arr[l..m]\n",
    "# Second subarray is arr[m+1..r]\n",
    "def merge(arr, l, m, r):\n",
    "    swap = 0 \n",
    "    n1 = m - l + 1\n",
    "    n2 = r- m\n",
    " \n",
    "    # create temp arrays\n",
    "    L = [0] * (n1)\n",
    "    R = [0] * (n2)\n",
    " \n",
    "    # Copy data to temp arrays L[] and R[]\n",
    "    for i in range(0 , n1):\n",
    "        L[i] = arr[l + i]\n",
    " \n",
    "    for j in range(0 , n2):\n",
    "        R[j] = arr[m + 1 + j]\n",
    " \n",
    "    # Merge the temp arrays back into arr[l..r]\n",
    "    i = 0     # Initial index of first subarray\n",
    "    j = 0     # Initial index of second subarray\n",
    "    k = l     # Initial index of merged subarray\n",
    " \n",
    "    while i < n1 and j < n2 :\n",
    "        if L[i] <= R[j]:\n",
    "            arr[k] = L[i]\n",
    "            i += 1\n",
    "        else:\n",
    "            arr[k] = R[j]\n",
    "            j += 1\n",
    "            swap += 1\n",
    "        k += 1\n",
    " \n",
    "    # Copy the remaining elements of L[], if there\n",
    "    # are any\n",
    "    while i < n1:\n",
    "        arr[k] = L[i]\n",
    "        i += 1\n",
    "        k += 1\n",
    " \n",
    "    # Copy the remaining elements of R[], if there\n",
    "    # are any\n",
    "    while j < n2:\n",
    "        arr[k] = R[j]\n",
    "        j += 1\n",
    "        k += 1\n",
    "    return swap\n",
    " \n",
    "# l is for left index and r is right index of the\n",
    "# sub-array of arr to be sorted\n",
    "def mergeSort(arr, l, r, a =[]):\n",
    "    count = 0\n",
    "    if l < r:\n",
    " \n",
    "        # Same as (l+r)/2, but avoids overflow for\n",
    "        # large l and h\n",
    "        m = (l+(r-1))/2\n",
    " \n",
    "        # Sort first and second halves\n",
    "        mergeSort(arr, l, m)\n",
    "        mergeSort(arr, m+1, r)\n",
    "        count += merge(arr, l, m, r)\n",
    "        a.append(count)\n",
    "        return a"
   ]
  },
  {
   "cell_type": "markdown",
   "metadata": {},
   "source": [
    "## shift all elment to the left by d steps"
   ]
  },
  {
   "cell_type": "code",
   "execution_count": 70,
   "metadata": {
    "collapsed": true
   },
   "outputs": [],
   "source": [
    "indices = range(len(a))\n",
    "new_arr = [0] * len(a)\n",
    "for i in (range(len(a))):\n",
    "    if (indices[i] + d) > (len(a) - 1):\n",
    "        n = len(a)\n",
    "    else:\n",
    "        n = 0\n",
    "    new_arr[i] = (a[indices[i] + d - n])"
   ]
  },
  {
   "cell_type": "markdown",
   "metadata": {},
   "source": [
    "## Check for a valid binary search tree"
   ]
  },
  {
   "cell_type": "code",
   "execution_count": null,
   "metadata": {
    "collapsed": true
   },
   "outputs": [],
   "source": [
    "def check_binary_search_tree_(root, mini, maxi):\n",
    "    if(root == None):\n",
    "        return True\n",
    "\n",
    "    if(root.data < mini or root.data > maxi):\n",
    "        return False\n",
    "\n",
    "    return check_binary_search_tree_(root.left, mini, root.data - 1) \n",
    "            and check_binary_search_tree_(root.right, root.data + 1, maxi);\n",
    "\n",
    "\n",
    "def checkBST(root):\n",
    "  return check_binary_search_tree_(root, 0, 10000001);"
   ]
  },
  {
   "cell_type": "markdown",
   "metadata": {},
   "source": [
    "## Binary Search"
   ]
  },
  {
   "cell_type": "code",
   "execution_count": null,
   "metadata": {
    "collapsed": true
   },
   "outputs": [],
   "source": [
    "### find the index of last number in array that equals X"
   ]
  },
  {
   "cell_type": "code",
   "execution_count": 81,
   "metadata": {
    "collapsed": true
   },
   "outputs": [],
   "source": [
    "# arr is an ordered array\n",
    "def search_last(arr, x):\n",
    "    n = len(arr)\n",
    "    i = 0\n",
    "    j = n - 1\n",
    "    while(j-i > 1):\n",
    "        m = (i + j) // 2\n",
    "        if(arr[m] <= x):\n",
    "            i = m \n",
    "        else:\n",
    "            j = m\n",
    "    return i"
   ]
  },
  {
   "cell_type": "code",
   "execution_count": 82,
   "metadata": {},
   "outputs": [
    {
     "data": {
      "text/plain": [
       "3"
      ]
     },
     "execution_count": 82,
     "metadata": {},
     "output_type": "execute_result"
    }
   ],
   "source": [
    "search_last([1,2,2,2,3,4,6,8,9,9],2)"
   ]
  },
  {
   "cell_type": "code",
   "execution_count": null,
   "metadata": {
    "collapsed": true
   },
   "outputs": [],
   "source": [
    "# find the index of first number in array that equals X"
   ]
  },
  {
   "cell_type": "code",
   "execution_count": 87,
   "metadata": {
    "collapsed": true
   },
   "outputs": [],
   "source": [
    "# arr is an ordered array\n",
    "def search_first(arr, x):\n",
    "    n = len(arr)\n",
    "    i = 0\n",
    "    j = n - 1\n",
    "    while(j > i):\n",
    "        m = (i + j) // 2\n",
    "        if(arr[m] < x):\n",
    "            i = m + 1 \n",
    "        else:\n",
    "            j = m\n",
    "    if (arr[i] == x):\n",
    "        return i \n",
    "    else:\n",
    "        return None"
   ]
  },
  {
   "cell_type": "code",
   "execution_count": 88,
   "metadata": {},
   "outputs": [
    {
     "data": {
      "text/plain": [
       "1"
      ]
     },
     "execution_count": 88,
     "metadata": {},
     "output_type": "execute_result"
    }
   ],
   "source": [
    "search_first([1,2,2,2,3,4,6,8,9,9],2)"
   ]
  },
  {
   "cell_type": "markdown",
   "metadata": {},
   "source": [
    "### Binary search tree"
   ]
  },
  {
   "cell_type": "code",
   "execution_count": null,
   "metadata": {
    "collapsed": true
   },
   "outputs": [],
   "source": [
    "class Node:\n",
    "    def __init__(self, val):\n",
    "        self.val = val\n",
    "        self.leftChild = None\n",
    "        self.rightChild = None\n",
    "    \n",
    "    def get(self):\n",
    "        return self.val\n",
    "    \n",
    "    def set(self, val):\n",
    "        self.val = val\n",
    "        \n",
    "    def getChildren(self):\n",
    "        children = []\n",
    "        if(self.leftChild != None):\n",
    "            children.append(self.leftChild)\n",
    "        if(self.rightChild != None):\n",
    "            children.append(self.rightChild)\n",
    "        return children\n",
    "        \n",
    "class BST:\n",
    "    def __init__(self):\n",
    "        self.root = None\n",
    "\n",
    "    def setRoot(self, val):\n",
    "        self.root = Node(val)\n",
    "\n",
    "    def insert(self, val):\n",
    "        if(self.root is None):\n",
    "            self.setRoot(val)\n",
    "        else:\n",
    "            self.insertNode(self.root, val)\n",
    "\n",
    "    def insertNode(self, currentNode, val):\n",
    "        if(val <= currentNode.val):\n",
    "            if(currentNode.leftChild):\n",
    "                self.insertNode(currentNode.leftChild, val)\n",
    "            else:\n",
    "                currentNode.leftChild = Node(val)\n",
    "        elif(val > currentNode.val):\n",
    "            if(currentNode.rightChild):\n",
    "                self.insertNode(currentNode.rightChild, val)\n",
    "            else:\n",
    "                currentNode.rightChild = Node(val)\n",
    "\n",
    "    def find(self, val):\n",
    "        return self.findNode(self.root, val)\n",
    "\n",
    "    def findNode(self, currentNode, val):\n",
    "        if(currentNode is None):\n",
    "            return False\n",
    "        elif(val == currentNode.val):\n",
    "            return True\n",
    "        elif(val < currentNode.val):\n",
    "            return self.findNode(currentNode.leftChild, val)\n",
    "        else:\n",
    "            return self.findNode(currentNode.rightChild, val)"
   ]
  },
  {
   "cell_type": "code",
   "execution_count": null,
   "metadata": {
    "collapsed": true
   },
   "outputs": [],
   "source": [
    "# Tries - find contacts/ substrings of real words"
   ]
  },
  {
   "cell_type": "code",
   "execution_count": 90,
   "metadata": {
    "collapsed": true
   },
   "outputs": [],
   "source": [
    "tries = [0, {}]\n",
    "\n",
    "def add(name):\n",
    "    root = tries\n",
    "    for c in name:\n",
    "        if c not in root[1]:\n",
    "            root[1][c] = [0, {}]\n",
    "        root[1][c][0] += 1\n",
    "        root = root[1][c]\n",
    "        \n",
    "def find(name):\n",
    "    root = tries\n",
    "    for e in name:\n",
    "        if e not in root[1]:\n",
    "            return 0\n",
    "        root = root[1][e]\n",
    "    return root[0]\n",
    "        \n",
    "n = int(raw_input().strip())\n",
    "for a0 in range(n):\n",
    "    op, contact = raw_input().strip().split(' ')\n",
    "    if op == 'add': \n",
    "        add(contact)\n",
    "    if op == 'find':\n",
    "        print find(contact)\n",
    "    "
   ]
  },
  {
   "cell_type": "code",
   "execution_count": 7,
   "metadata": {
    "collapsed": true
   },
   "outputs": [],
   "source": [
    "arr = '{[()]}'"
   ]
  },
  {
   "cell_type": "code",
   "execution_count": 13,
   "metadata": {
    "collapsed": true
   },
   "outputs": [],
   "source": [
    "arr_1 = ','.join(arr)"
   ]
  },
  {
   "cell_type": "code",
   "execution_count": 14,
   "metadata": {},
   "outputs": [
    {
     "data": {
      "text/plain": [
       "'{,[,(,),],}'"
      ]
     },
     "execution_count": 14,
     "metadata": {},
     "output_type": "execute_result"
    }
   ],
   "source": [
    "arr_1"
   ]
  },
  {
   "cell_type": "code",
   "execution_count": 15,
   "metadata": {},
   "outputs": [
    {
     "data": {
      "text/plain": [
       "'{,[,(,),],}'"
      ]
     },
     "execution_count": 15,
     "metadata": {},
     "output_type": "execute_result"
    }
   ],
   "source": [
    "arr_1"
   ]
  },
  {
   "cell_type": "code",
   "execution_count": 19,
   "metadata": {
    "collapsed": true
   },
   "outputs": [],
   "source": [
    "arr_2 = arr_1.split(',')"
   ]
  },
  {
   "cell_type": "code",
   "execution_count": 29,
   "metadata": {},
   "outputs": [
    {
     "data": {
      "text/plain": [
       "'{'"
      ]
     },
     "execution_count": 29,
     "metadata": {},
     "output_type": "execute_result"
    }
   ],
   "source": [
    "arr_2[0] "
   ]
  },
  {
   "cell_type": "code",
   "execution_count": 30,
   "metadata": {},
   "outputs": [
    {
     "data": {
      "text/plain": [
       "'}'"
      ]
     },
     "execution_count": 30,
     "metadata": {},
     "output_type": "execute_result"
    }
   ],
   "source": [
    "arr_2[5]"
   ]
  },
  {
   "cell_type": "code",
   "execution_count": 25,
   "metadata": {
    "collapsed": true
   },
   "outputs": [],
   "source": [
    "class queue:\n",
    "    def __init__(self, arr):\n",
    "        self.q_size = len(arr)\n",
    "        self.arr = arr\n",
    "        self.head = arr[0]\n",
    "        self.tail = arr[self.q_size - 1]\n",
    "        self.index = range(len(arr))\n",
    "        \n",
    "    def balnaced_check(self, arr):\n",
    "        if self.head.closed_by(self.tail):\n",
    "            balanced_check(self, arr[1:-1])\n",
    "        if \n",
    "            \n",
    "        \n",
    "    def remove(self):\n",
    "        for i in range(self.q_size):\n",
    "            if self.head == self.tail:\n",
    "                self.arr = self.arr[1:-1]\n",
    "                self.head = self.arr[0]\n",
    "                self.tail = self.arr[len(self.arr) - 1]\n",
    "            else: \n",
    "                return ('NO')\n",
    "        return ('YES')"
   ]
  },
  {
   "cell_type": "code",
   "execution_count": 26,
   "metadata": {
    "collapsed": true
   },
   "outputs": [],
   "source": [
    "trial = queue(arr_2)"
   ]
  },
  {
   "cell_type": "code",
   "execution_count": 27,
   "metadata": {},
   "outputs": [
    {
     "data": {
      "text/plain": [
       "'NO'"
      ]
     },
     "execution_count": 27,
     "metadata": {},
     "output_type": "execute_result"
    }
   ],
   "source": [
    "trial.remove()"
   ]
  },
  {
   "cell_type": "code",
   "execution_count": 34,
   "metadata": {
    "collapsed": true
   },
   "outputs": [],
   "source": [
    "stack = [3, 4, 5]"
   ]
  },
  {
   "cell_type": "code",
   "execution_count": 32,
   "metadata": {},
   "outputs": [
    {
     "data": {
      "text/plain": [
       "5"
      ]
     },
     "execution_count": 32,
     "metadata": {},
     "output_type": "execute_result"
    }
   ],
   "source": [
    "stack.pop()"
   ]
  },
  {
   "cell_type": "code",
   "execution_count": 35,
   "metadata": {},
   "outputs": [
    {
     "data": {
      "text/plain": [
       "5"
      ]
     },
     "execution_count": 35,
     "metadata": {},
     "output_type": "execute_result"
    }
   ],
   "source": [
    "stack.pop(-1)"
   ]
  },
  {
   "cell_type": "markdown",
   "metadata": {},
   "source": [
    "# Balanced brackets "
   ]
  },
  {
   "cell_type": "code",
   "execution_count": null,
   "metadata": {
    "collapsed": true
   },
   "outputs": [],
   "source": [
    "def bracketsMatch(a, b):\n",
    "    if a == \"{\" and b == \"}\":\n",
    "        return True\n",
    "    if a == \"(\" and b == \")\":\n",
    "        return True\n",
    "    if a == \"[\" and b == \"]\":\n",
    "        return True\n",
    "    else:\n",
    "        return False\n",
    "    \n",
    "def isOpen (a):\n",
    "    if a == '{' or a == '(' or a == '[':\n",
    "        return True\n",
    "    else:\n",
    "        return False\n",
    "\n",
    "def is_matched(expression):\n",
    "    stack = ['x']\n",
    "    for char in expression:\n",
    "        if isOpen(char):\n",
    "            stack.append(char)\n",
    "        else:\n",
    "            if bracketsMatch(stack.pop(-1), char) is False:\n",
    "                return False\n",
    "    \n",
    "    if len(stack) == 1:\n",
    "        return True\n",
    "    else:\n",
    "        return False"
   ]
  },
  {
   "cell_type": "markdown",
   "metadata": {},
   "source": [
    "# Naive solution for the exact change back problem "
   ]
  },
  {
   "cell_type": "code",
   "execution_count": 29,
   "metadata": {},
   "outputs": [],
   "source": [
    "def test_change(customer_bill):    \n",
    "    change = [5]\n",
    "    if customer_bill[0] != 5: \n",
    "        return False\n",
    "    else: \n",
    "        for i in range(2, len(customer_bill) - 1):\n",
    "            if customer_bill[i] == 5: \n",
    "                customer_bill.append(5)\n",
    "            elif customer_bill[i] == 10: \n",
    "                indices = [i for i, x in enumerate(a) if x == 5]\n",
    "                if (len(indices)>0):\n",
    "                    customer_bill.remove(5)\n",
    "                    customer_bill.append(10)\n",
    "                else: \n",
    "                    return False\n",
    "            else: \n",
    "                indices = [i for i, x in enumerate(a) if x == 5]\n",
    "                indices_2 = [i for i, x in enumerate(a) if x == 10]\n",
    "                if len(indices) > 2:\n",
    "                    customer_bill.remove(5)\n",
    "                    customer_bill.remove(5)\n",
    "                    customer_bill.remove(5)\n",
    "                    customer_bill.append(20)\n",
    "                if (len(indices) > 0 & len(indices_2) > 0):\n",
    "                    customer_bill.remove(10)\n",
    "                    customer_bill.remove(5)\n",
    "                    customer_bill.append(20)\n",
    "    return True\n"
   ]
  },
  {
   "cell_type": "markdown",
   "metadata": {},
   "source": [
    "# Find minimum number of coins that make a given value"
   ]
  },
  {
   "cell_type": "code",
   "execution_count": 96,
   "metadata": {
    "collapsed": true
   },
   "outputs": [],
   "source": [
    "import sys\n",
    " \n",
    "# m is size of coins array (number of different coins)\n",
    "def min_coins(coins, V):\n",
    "    \n",
    "    # base case\n",
    "    if (V == 0):\n",
    "        return 0\n",
    " \n",
    "    # Initialize result\n",
    "    res = sys.maxsize\n",
    "     \n",
    "    # Try every coin that has smaller value than V\n",
    "    for i in range(len(coins)):\n",
    "        if (coins[i] <= V):\n",
    "            sub_res = 1 + min_coins(coins, V - coins[i])\n",
    " \n",
    "            if (sub_res < res):\n",
    "                res = sub_res \n",
    " \n",
    "    return res"
   ]
  },
  {
   "cell_type": "code",
   "execution_count": 94,
   "metadata": {
    "collapsed": true
   },
   "outputs": [],
   "source": [
    "coin_vals = [9,6,5,1]"
   ]
  },
  {
   "cell_type": "code",
   "execution_count": 97,
   "metadata": {},
   "outputs": [
    {
     "data": {
      "text/plain": [
       "2"
      ]
     },
     "execution_count": 97,
     "metadata": {},
     "output_type": "execute_result"
    }
   ],
   "source": [
    "min_coins(coin_vals, 12)"
   ]
  }
 ],
 "metadata": {
  "kernelspec": {
   "display_name": "Python 2",
   "language": "python",
   "name": "python2"
  },
  "language_info": {
   "codemirror_mode": {
    "name": "ipython",
    "version": 2
   },
   "file_extension": ".py",
   "mimetype": "text/x-python",
   "name": "python",
   "nbconvert_exporter": "python",
   "pygments_lexer": "ipython2",
   "version": "2.7.14"
  }
 },
 "nbformat": 4,
 "nbformat_minor": 2
}
