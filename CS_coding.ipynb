{
 "cells": [
  {
   "cell_type": "code",
   "execution_count": null,
   "metadata": {
    "collapsed": true
   },
   "outputs": [],
   "source": [
    "import numpy as np\n",
    "import itertools\n",
    "from __future__ import division"
   ]
  },
  {
   "cell_type": "code",
   "execution_count": null,
   "metadata": {
    "collapsed": true
   },
   "outputs": [],
   "source": [
    "# We draw N discs on a plane. The discs are numbered from 0 to N − 1.\n",
    "# A zero-indexed array A of N non-negative integers, specifying the radiuses of the discs, is given. \n",
    "# The J-th disc is drawn with its center at (J, 0) and radius A[J].\n",
    "\n",
    "# We say that the J-th disc and K-th disc intersect if J ≠ K and \n",
    "# the J-th and K-th discs have at least one common poin\n",
    "\n",
    "def solution(A):\n",
    "    count_intersections = 0\n",
    "    prvs_discs = []\n",
    "    # write your code in Python 3.6\n",
    "    for index in range(len(A)):\n",
    "        current_circ_low = index - A[index]\n",
    "        current_circ_high = index + A[index]\n",
    "    \n",
    "        if (index > 0):\n",
    "            # case 1: the current max limit is bigger than other lower and also smaller than other max\n",
    "            case1 = [(circ[0] < current_circ_high) & (circ[1] >= current_circ_high) & (circ[0] > current_circ_low) for circ in prvs_discs]\n",
    "            s_case1 = sum(case1)\n",
    "    \n",
    "    \n",
    "            # case 2 current lower is bigger than other lower and also smaller than other max\n",
    "            case2 = [(circ[0] < current_circ_low) & (circ[1] >= current_circ_low) & (circ[1] < current_circ_high) for circ in prvs_discs]\n",
    "\n",
    "            s_case2 = sum(case2)\n",
    "    \n",
    "            # case 3 it is inside the other circle \n",
    "            case3 = [(circ[0] <= current_circ_low) & (circ[1] >= current_circ_high) for circ in prvs_discs]\n",
    "\n",
    "            s_case3 = sum(case3)\n",
    "    \n",
    "    \n",
    "            # case 4 other circles are in it \n",
    "            case4 = [(circ[0] >= current_circ_low) & (circ[1] <= current_circ_high) for circ in prvs_discs]\n",
    "\n",
    "            s_case4 = sum(case4)\n",
    "    \n",
    "            # check = (case1 & case2 & case3 & case4)\n",
    "            # if (any(check)):\n",
    "    \n",
    "            #     print(\"this is a debug message\")\n",
    "    \n",
    "            count_intersections += (s_case1 + s_case2 + s_case3 + s_case4)\n",
    "    \n",
    "        prvs_discs.append([current_circ_low, current_circ_high])\n",
    "    \n",
    "        \n",
    "    return(count_intersections)"
   ]
  },
  {
   "cell_type": "code",
   "execution_count": null,
   "metadata": {
    "collapsed": true
   },
   "outputs": [],
   "source": [
    "def matrix_s(A):\n",
    "    matrix_dim = len(A)\n",
    "    matr = (list(itertools.product([-1, 1], repeat= matrix_dim)))\n",
    "    return (matr)\n"
   ]
  },
  {
   "cell_type": "code",
   "execution_count": null,
   "metadata": {
    "collapsed": true
   },
   "outputs": [],
   "source": [
    "def count_repetitions(A):\n",
    "    max_A = max(A)\n",
    "    num_exists = [0] * (max_A + 1)\n",
    "    for num in xrange(len(A)):\n",
    "        num_exists[A[num]] += 1\n",
    "    return (num_exists, max_A)    \n",
    "\n",
    "def partition_prob(A):\n",
    "    count, max_A = count_repetitions(A)\n",
    "    sum_A = sum(A)\n",
    "    dp = [0] * (sum_A + 1)\n",
    "    dp[0] = 1\n",
    "    for i in xrange(max_A + 1):\n",
    "        if (count[i] > 0):\n",
    "            for j in xrange(sum_A):\n",
    "                if dp[j] > 0: \n",
    "                    dp[j] = count[i]\n",
    "                elif ((j > i) & (dp[j - i] > 0)):\n",
    "                    \n",
    "                    dp[j] = dp[j - i] - 1 # if sum j is acheievable, then we used already \n",
    "    "
   ]
  },
  {
   "cell_type": "code",
   "execution_count": null,
   "metadata": {
    "collapsed": true
   },
   "outputs": [],
   "source": [
    "# we calculate in recurssion the intersection of one line with all other lines\n",
    "# where lines are constructed as A[k]*X + B \n",
    "def calculate_intersection(intersect, A, B, C, k):\n",
    "    len_C = len(C)\n",
    "    if (((B[len_C - 1] - B[k]) == 0) & (len_C > 0)):\n",
    "        return (calculate_intersection(intersect, A, B ,C[:-1], k))\n",
    "    if (((B[len_C - 1] - B[k]) != 0) &  (len_C > 0)):\n",
    "        inter =  (B[len_C - 1]-B[k]) / (A[k] - A[len_C - 1]) \n",
    "        print(len_C)\n",
    "        intersect.append(inter)\n",
    "    if len_C == 0:\n",
    "        return intersect\n",
    "    return(calculate_intersection(intersect, A, B ,C[:-1], k))"
   ]
  },
  {
   "cell_type": "markdown",
   "metadata": {
    "collapsed": true
   },
   "source": [
    "# Tries - find contacts/ substrings of real words"
   ]
  },
  {
   "cell_type": "code",
   "execution_count": null,
   "metadata": {
    "collapsed": true
   },
   "outputs": [],
   "source": [
    "tries = [0, {}]\n",
    "\n",
    "def add(name):\n",
    "    root = tries\n",
    "    for c in name:\n",
    "        if c not in root[1]:\n",
    "            root[1][c] = [0, {}]\n",
    "        root[1][c][0] += 1\n",
    "        root = root[1][c]\n",
    "        \n",
    "def find(name):\n",
    "    root = tries\n",
    "    for e in name:\n",
    "        if e not in root[1]:\n",
    "            return 0\n",
    "        root = root[1][e]\n",
    "    return root[0]\n",
    "        \n",
    "n = int(raw_input().strip())\n",
    "for a0 in range(n):\n",
    "    op, contact = raw_input().strip().split(' ')\n",
    "    if op == 'add': \n",
    "        add(contact)\n",
    "    if op == 'find':\n",
    "        print find(contact)\n",
    "    "
   ]
  },
  {
   "cell_type": "code",
   "execution_count": null,
   "metadata": {
    "collapsed": true
   },
   "outputs": [],
   "source": [
    "def k_th_number_with_factors(k): \n",
    "    if k < 1:\n",
    "        return 0\n",
    "    count = 0\n",
    "    \n",
    "    queue_3 = [3]\n",
    "    queue_5 = [5]\n",
    "    queue_7 = [7]\n",
    "    \n",
    "    while count < k: \n",
    "        mini = (min(queue_3, queue_5, queue_7))[0] \n",
    "        if mini == queue_3[0]:\n",
    "            queue_3.remove(mini)\n",
    "            queue_3.append(3 * mini)\n",
    "            queue_5.append(5 * mini)\n",
    "            queue_7.append(7 * mini)\n",
    "        if mini == queue_5[0]:\n",
    "            queue_5.remove(mini)\n",
    "            queue_5.append(5 * mini)\n",
    "            queue_7.append(7 * mini)\n",
    "        if mini == queue_7[0]:\n",
    "            queue_7.remove(mini)\n",
    "            queue_7.append(7 * mini)\n",
    "        count += 1\n",
    "    \n",
    "    return mini\n",
    "    \n",
    "    \n",
    "    \n",
    "    "
   ]
  },
  {
   "cell_type": "code",
   "execution_count": null,
   "metadata": {
    "collapsed": true
   },
   "outputs": [],
   "source": [
    "def find_error_nums(self, A):\n",
    "    N = len(A)\n",
    "    alpha = sum(A) - N*(N+1)/2\n",
    "    beta = (sum(x*x for x in A) - N*(N+1)*(2*N+1)/6) / alpha\n",
    "    return (alpha + beta) / 2, (beta - alpha) / 2"
   ]
  },
  {
   "cell_type": "markdown",
   "metadata": {},
   "source": [
    "### Given a table A of N integers from 0 to N-1 calculate the smallest such index P, that {A[0],...,A[N-1]} = {A[0],...,A[P]}."
   ]
  },
  {
   "cell_type": "code",
   "execution_count": null,
   "metadata": {
    "collapsed": true
   },
   "outputs": [],
   "source": [
    "def solution(A):\n",
    "    covering_prefix = 0\n",
    "    unique_array = []\n",
    "    for i in range(len(A)):\n",
    "        if (A[i] in unique_array):\n",
    "            continue\n",
    "        else:\n",
    "            unique_array.append(A[i])\n",
    "            covering_prefix = i\n",
    "\n",
    "    return(covering_prefix)  "
   ]
  },
  {
   "cell_type": "markdown",
   "metadata": {},
   "source": [
    "## Array shift/ rotate all elment to the left by d steps"
   ]
  },
  {
   "cell_type": "code",
   "execution_count": null,
   "metadata": {
    "collapsed": true
   },
   "outputs": [],
   "source": [
    "## [2, 5, 6, 4] left rotate by 2 --> [6, 4, 2, 5]\n",
    "## index 0--> 2\n",
    "## index 1--> 3\n",
    "## index 2--> 0\n",
    "## index 3--> 1\n",
    "\n",
    "## if i'm new index + rotation:\n",
    "    ## if > len(old_array) - 1 --> new_array[new_index] = old_array[(new_index + rotation) % len(old_array)]\n",
    "\n",
    "def left_rotate(a, d):\n",
    "    indices = range(len(a))\n",
    "    new_arr = [0] * len(a)\n",
    "    for i in (range(len(a))):\n",
    "        if (indices[i] + d) > (len(a) - 1):\n",
    "            n = len(a)\n",
    "        else:\n",
    "            n = 0\n",
    "        new_arr[i] = (a[indices[i] + d - n])"
   ]
  },
  {
   "cell_type": "code",
   "execution_count": null,
   "metadata": {
    "collapsed": true
   },
   "outputs": [],
   "source": [
    "def right_rotate(nums, k): \n",
    "    n = len(nums) - k  \n",
    "    nums[:] = nums[n:] + nums[:n]"
   ]
  },
  {
   "cell_type": "markdown",
   "metadata": {},
   "source": [
    "# Strings"
   ]
  },
  {
   "cell_type": "markdown",
   "metadata": {},
   "source": [
    "### get all substrings from a string"
   ]
  },
  {
   "cell_type": "code",
   "execution_count": null,
   "metadata": {
    "collapsed": true
   },
   "outputs": [],
   "source": [
    "def get_all_substrings(input_string):\n",
    "    length = len(input_string)\n",
    "    return [input_string[i:j+1] for i in xrange(length) for j in xrange(i,length)]"
   ]
  },
  {
   "cell_type": "markdown",
   "metadata": {},
   "source": [
    "### turn a string with brackets/parenthesis to a binary tree"
   ]
  },
  {
   "cell_type": "code",
   "execution_count": null,
   "metadata": {
    "collapsed": true
   },
   "outputs": [],
   "source": [
    "# https://www.geeksforgeeks.org/construct-binary-tree-string-bracket-representation/\n",
    "def str2tree(self, S):\n",
    "    ix = S.find('(') # get first index of '('\n",
    "    if ix < 0:\n",
    "        return TreeNode(int(S)) if S else None\n",
    "        \n",
    "    bal = 0\n",
    "    for jx, u in enumerate(S):\n",
    "        if u == '(': bal += 1\n",
    "        if u == ')': bal -= 1\n",
    "        if jx > ix and bal == 0:\n",
    "            break\n",
    "\n",
    "    root = TreeNode(int(S[:ix]))\n",
    "    root.left = self.str2tree(S[ix+1:jx])\n",
    "    # jx + 1 opens the second right parenthesis \n",
    "    root.right = self.str2tree(S[jx+2:-1])\n",
    "    return root\n",
    "            "
   ]
  },
  {
   "cell_type": "markdown",
   "metadata": {},
   "source": [
    "### is string 2 permutation of string 1"
   ]
  },
  {
   "cell_type": "code",
   "execution_count": null,
   "metadata": {
    "collapsed": true
   },
   "outputs": [],
   "source": [
    "# n^2 solution \n",
    "# how expensive is the comparison I did\n",
    "def is_str2_perm_of_str1(str1, str2):\n",
    "    char_set = [0] * 26 \n",
    "    for i in range(len(str1)):\n",
    "        val = ord(str1[i]) - 97\n",
    "        char_set[val] += 1\n",
    "        \n",
    "    for j in range(len(str2)): \n",
    "        val = ord(str2[j]) - 97\n",
    "        char_set[val] = char_set[val] - 1\n",
    "        if char_set[val] < 0:            \n",
    "            return False\n",
    "    return True \n",
    "    \n",
    "    "
   ]
  },
  {
   "cell_type": "code",
   "execution_count": null,
   "metadata": {
    "collapsed": true
   },
   "outputs": [],
   "source": [
    "def insert_chars_in_whiteapce(chars, string):\n",
    "    string = chars.join(string.split(\" \"))\n",
    "    \n",
    "    return string\n",
    "insert_chars_in_whiteapce('%20', 'Mr John Smith')"
   ]
  },
  {
   "cell_type": "markdown",
   "metadata": {},
   "source": [
    "### is string comprised of unique chars"
   ]
  },
  {
   "cell_type": "code",
   "execution_count": null,
   "metadata": {
    "collapsed": true
   },
   "outputs": [],
   "source": [
    "def is_unique_chara_string(string): \n",
    "    if len(string) - 1 > 26 : \n",
    "        return False\n",
    "    else: \n",
    "        char_set = [False] * 26 # number of possible characters\n",
    "        for i in range(len(string)):\n",
    "            val = ord(string[i]) - 97\n",
    "            if(char_set[val]):\n",
    "                return False\n",
    "            char_set[val] = True\n",
    "    return True  "
   ]
  },
  {
   "cell_type": "markdown",
   "metadata": {},
   "source": [
    "### string rotation"
   ]
  },
  {
   "cell_type": "code",
   "execution_count": null,
   "metadata": {
    "collapsed": true
   },
   "outputs": [],
   "source": [
    "def is_rotation(s1, s2):\n",
    "    if ((len(s1)==len(s2)) & len(s1) > 0):\n",
    "        return s2 in (s1+s1)\n",
    "    return False\n",
    "is_rotation('waterbottle', 'erbottlwat')"
   ]
  },
  {
   "cell_type": "markdown",
   "metadata": {},
   "source": [
    "### string compression"
   ]
  },
  {
   "cell_type": "code",
   "execution_count": null,
   "metadata": {
    "collapsed": true
   },
   "outputs": [],
   "source": [
    "# aabbbbbccc --> return a2b5c3\n",
    "def compress_string(string): \n",
    "    com_string = []\n",
    "    last = string[0]\n",
    "    count = 1\n",
    "    for i in range(len(string)): \n",
    "        if(string[i] == last): \n",
    "            count +=1\n",
    "        else: \n",
    "            com_string.append(last)\n",
    "            com_string.append(count)\n",
    "            last = string[i]\n",
    "            count = 1\n",
    "    # last character wouldn't reach the else\n",
    "    com_string.append(string[i])\n",
    "    com_string.append(count)\n",
    "        \n",
    "    str1 = ''.join(str(e) for e in com_string)\n",
    "    if (len(str1) > len(string)):\n",
    "        return string\n",
    "    return str1"
   ]
  },
  {
   "cell_type": "markdown",
   "metadata": {},
   "source": [
    "### Tiny URL"
   ]
  },
  {
   "cell_type": "code",
   "execution_count": null,
   "metadata": {
    "collapsed": true
   },
   "outputs": [],
   "source": [
    "import string\n",
    "import random\n",
    "class Codec:\n",
    "\n",
    "    alphabet = string.ascii_letters + '0123456789'\n",
    "\n",
    "    def __init__(self):\n",
    "        self.url2code = {}\n",
    "        self.code2url = {}\n",
    "\n",
    "    def encode(self, longUrl):\n",
    "        while longUrl not in self.url2code:\n",
    "            code = ''.join(random.choice(Codec.alphabet) for _ in range(6))\n",
    "            if code not in self.code2url:\n",
    "                self.code2url[code] = longUrl\n",
    "                self.url2code[longUrl] = code\n",
    "        return 'http://tinyurl.com/' + self.url2code[longUrl]\n",
    "\n",
    "    def decode(self, shortUrl):\n",
    "        return self.code2url[shortUrl[-6:]]"
   ]
  },
  {
   "cell_type": "markdown",
   "metadata": {},
   "source": [
    "### sort characters desc according to how often they appear in a string"
   ]
  },
  {
   "cell_type": "code",
   "execution_count": null,
   "metadata": {
    "collapsed": true
   },
   "outputs": [],
   "source": [
    "def frequency_sort(s):\n",
    "    if not s:\n",
    "        return \"\"\n",
    "    counter = {}; rs = ''\n",
    "    for i in s:\n",
    "        counter[i] = 1 if i not in counter else counter[i]+1\n",
    "    sorted_counter = sorted(counter.items(),  key=lambda x: x[1], reverse=True)\n",
    "    for i in sorted_counter:\n",
    "        rs += i[0] * i[1]\n",
    "    return rs"
   ]
  },
  {
   "cell_type": "markdown",
   "metadata": {},
   "source": [
    "### coursera strings"
   ]
  },
  {
   "cell_type": "code",
   "execution_count": null,
   "metadata": {
    "collapsed": true
   },
   "outputs": [],
   "source": [
    "a = ['apple', 'coconut','banana', 'apple', 'banana', 'apple']"
   ]
  },
  {
   "cell_type": "code",
   "execution_count": null,
   "metadata": {
    "collapsed": true
   },
   "outputs": [],
   "source": [
    "b = ['apple','banana', 'apple']"
   ]
  },
  {
   "cell_type": "code",
   "execution_count": null,
   "metadata": {
    "collapsed": true
   },
   "outputs": [],
   "source": [
    "my_list = a"
   ]
  },
  {
   "cell_type": "markdown",
   "metadata": {},
   "source": [
    "[https://stackoverflow.com/questions/24907913/explain-combination-function-of-python-module-itertools]"
   ]
  },
  {
   "cell_type": "code",
   "execution_count": null,
   "metadata": {
    "collapsed": true
   },
   "outputs": [],
   "source": [
    "def combinations(iterable, r):\n",
    "    pool = tuple(iterable)\n",
    "    n = len(pool)\n",
    "    if r > n: # if length subset > length of full list end\n",
    "        return\n",
    "    # if the length of the desired permutation is higher than the length of the tuple \n",
    "    # it is not possible to create permutations so return without doing something\n",
    "    \n",
    "    indices = list(range(r)) ## 0 1 2\n",
    "      # create the first list of indices in normal order ( indices = [0,1,2,3,...,r])\n",
    "    # up to the desired range r\n",
    "\n",
    "    \n",
    "    yield tuple(pool[i] for i in indices)\n",
    "     # return the first permutation which is a tuple of the input with the original \n",
    "    # indices up to r tuple(tuple[0], tuple[1],....,tuple[r])\n",
    "    \n",
    "    \n",
    "    while True: # infinite looping \n",
    "        for i in reversed(range(r)):  ## 2 1 0 \n",
    "            if indices[i] < i + n - r: \n",
    "            # after reversed, i will be r-1, r-2, r-3, ....,0\n",
    "            # something we should know before we start the 'for' loop\n",
    "            # the value of indices[r-1] should not greater than n-1\n",
    "            # the value of indices[r-2] should not greater than n-2\n",
    "            # and the maximum of indices[i] should be indices[r-1]\n",
    "            # so the value of indices[r-1] should between r-1 and n-r + r-1, like this:\n",
    "            #       r-1 <= indics[r-1] <= n-r + r-1\n",
    "            # so, to r-2:\n",
    "            #       r-2 <= indics[r-1] <= n-r + r-2\n",
    "            # let's set i = r-1:\n",
    "            #       i <= indices[i] <= n-r+i (n-1 is the maximum value)\n",
    "            # since we will keep plusing the value of indices[i], let's ignore i <= indices[i]\n",
    "            # and we just want to know if indices[i] can plus or not,\n",
    "            # so indices[i] can be equal with n-r+i\n",
    "            # then we got:\n",
    "            #       indices[i] < i + n - r\n",
    "            # the offical document give: indices[i] != i + n - r,\n",
    "            # cause when indices[i] == i + n - r, it arrived the boundry, \n",
    "            # the \"for\" loop will get into indices[i-1], there will be no judgement for \">i+n-r\"\n",
    "            # so to use indices[i] != i + n - r is still a good way, \n",
    "            # but i prefer indices[i] < i + n - r, which is easier to understand for me.\n",
    "            # so next question is \"break\" in here, \n",
    "            # it means the value of indices[i] doesn't reach the boundry still can plus one,\n",
    "            # let break out to continue the iteration\n",
    "            # when it hit the boundry, i will be r-2\n",
    "            # So we can see the result:\n",
    "            # 1, 2, 3\n",
    "            # 1, 2, 4\n",
    "            # 1, 2, 5\n",
    "            # 1, 3, 4\n",
    "            # always loop the last index, hit the boundry, check the last but one.\n",
    "                break\n",
    "        else:\n",
    "            return\n",
    "        indices[i] += 1 \n",
    "        for j in range(i + 1, r): \n",
    "            indices[j] = indices[j-1] + 1 # indices[1] = indices[0] + 1\n",
    "            \n",
    "            # this for loop is increase every indices which is after indices[i].\n",
    "            # cause, current index increased, and we need to confirm every one behind is orderd\n",
    "            # for example: current we got i = 2, indices[i]+1 will be 3, \n",
    "            # so the next loop will start with [1, 3, 4], not [1, 3, 3]\n",
    "            \n",
    "        yield tuple(pool[i] for i in indices)"
   ]
  },
  {
   "cell_type": "code",
   "execution_count": null,
   "metadata": {
    "collapsed": true
   },
   "outputs": [],
   "source": [
    "my_list = ['apple', 'banana', 'apple']"
   ]
  },
  {
   "cell_type": "code",
   "execution_count": null,
   "metadata": {},
   "outputs": [],
   "source": [
    "for i in combinations(my_list, 2):\n",
    "    print i"
   ]
  },
  {
   "cell_type": "code",
   "execution_count": null,
   "metadata": {
    "collapsed": true
   },
   "outputs": [],
   "source": [
    "a = []\n",
    "for j in range(1, len(my_list)):\n",
    "    for i in combinations(my_list, j):\n",
    "        t = sorted(list(i[:]))\n",
    "        try :\n",
    "            if any(x == t for x in a):\n",
    "                break\n",
    "            else:\n",
    "                a.append(t)\n",
    "        except:\n",
    "            a.append(t)"
   ]
  },
  {
   "cell_type": "code",
   "execution_count": null,
   "metadata": {
    "scrolled": false
   },
   "outputs": [],
   "source": [
    "\",\".join([str(x) for x in a])  "
   ]
  },
  {
   "cell_type": "markdown",
   "metadata": {},
   "source": [
    "### Palindrome"
   ]
  },
  {
   "cell_type": "code",
   "execution_count": null,
   "metadata": {
    "collapsed": true
   },
   "outputs": [],
   "source": [
    "def palindromic_string(strng):\n",
    "    p = 0\n",
    "\n",
    "    if(((len(strng) == 2) | (len(strng) == 3)) & (strng[0] == strng[-1])):\n",
    "        p = 1\n",
    "        print ('here +1')\n",
    "\n",
    "\n",
    "    if(((len(strng) == 2) | (len(strng) == 3)) & (strng[0] != strng[-1])):\n",
    "        p = 0\n",
    "        print ('here +0')\n",
    "\n",
    "\n",
    "    if((len(strng) > 3) & (strng[0] == strng[-1])): \n",
    "\n",
    "        print(strng)\n",
    "\n",
    "        return(palindromic_string(strng[1:-1]))\n",
    "\n",
    "    return(p)"
   ]
  },
  {
   "cell_type": "code",
   "execution_count": null,
   "metadata": {
    "collapsed": true
   },
   "outputs": [],
   "source": [
    "def full_str(t):\n",
    "    count = 0\n",
    "    if  len(t) >= 2:\n",
    "        count = palindromic_string(t)\n",
    "        return(count + full_str(t[:-1]))\n",
    "    else:\n",
    "        return (count + 0)\n",
    "\n"
   ]
  },
  {
   "cell_type": "code",
   "execution_count": null,
   "metadata": {
    "collapsed": true
   },
   "outputs": [],
   "source": [
    "def solution(S):\n",
    "    count = 0\n",
    "    for i in range(len(S)-1):\n",
    "        strng = S[i:]\n",
    "        count += full_str(strng)\n",
    "    return (count)"
   ]
  },
  {
   "cell_type": "markdown",
   "metadata": {},
   "source": [
    "### find first unique character in a string"
   ]
  },
  {
   "cell_type": "code",
   "execution_count": null,
   "metadata": {
    "collapsed": true
   },
   "outputs": [],
   "source": [
    "def first_uni_char(s):\n",
    "    counts = {}\n",
    "    \n",
    "    for i in range(len(s)):\n",
    "        counts[s[i]] = [1 if s[i] not in counts else counts[s[i]][0] + 1, i]\n",
    "        \n",
    "    for j in s:\n",
    "        if counts[j][0] == 1:\n",
    "            return counts[j][1]\n",
    "            \n",
    "            \n",
    "            "
   ]
  },
  {
   "cell_type": "markdown",
   "metadata": {},
   "source": [
    "### get first name from a list of full names"
   ]
  },
  {
   "cell_type": "code",
   "execution_count": null,
   "metadata": {
    "collapsed": true
   },
   "outputs": [],
   "source": [
    "first_name_list = [] \n",
    "for i in range(len(names)): \n",
    "    first_name = (names[i].split(\" \"))[0]\n",
    "    first_name_list.append(first_name)"
   ]
  },
  {
   "cell_type": "markdown",
   "metadata": {},
   "source": [
    "### get all permutations of a string"
   ]
  },
  {
   "cell_type": "code",
   "execution_count": null,
   "metadata": {
    "collapsed": true
   },
   "outputs": [],
   "source": [
    "def insert_char_at(word, c ,j):\n",
    "    start = word[:j]\n",
    "    end = word[j:]\n",
    "    return start + c + end\n",
    "\n",
    "def get_string_perms(string):\n",
    "\n",
    "    perms = []\n",
    "    if len(string) == 0 :\n",
    "        perms.append(\"\")\n",
    "        return perms\n",
    "    \n",
    "    first = string[0]    \n",
    "    for word in get_string_perms(string[1:]):\n",
    "        print word\n",
    "        for j in range(len(word) + 1):\n",
    "            st = insert_char_at(word, first, j)\n",
    "            perms.append(st)\n",
    "    \n",
    "    return perms "
   ]
  },
  {
   "cell_type": "code",
   "execution_count": null,
   "metadata": {},
   "outputs": [],
   "source": [
    "get_string_perms('hel')"
   ]
  },
  {
   "cell_type": "markdown",
   "metadata": {},
   "source": [
    "### Top K Frequent Words"
   ]
  },
  {
   "cell_type": "code",
   "execution_count": null,
   "metadata": {
    "collapsed": true
   },
   "outputs": [],
   "source": [
    "# [\"i\", \"love\", \"leetcode\", \"i\", \"love\", \"coding\"]\n",
    "\n",
    "def topKFrequent( words, k):\n",
    "    d = {}\n",
    "    for word in words:\n",
    "        d[word] = 1 if word not in d else d[word] + 1\n",
    "\n",
    "    # sort by appearence descending and starting character ascending \n",
    "    ret = sorted(d, key=lambda word: (-d[word], word))\n",
    "\n",
    "    return ret[:k]"
   ]
  },
  {
   "cell_type": "markdown",
   "metadata": {},
   "source": [
    "# Mathematics"
   ]
  },
  {
   "cell_type": "code",
   "execution_count": null,
   "metadata": {
    "collapsed": true
   },
   "outputs": [],
   "source": [
    "### calculate angle between hour and minute"
   ]
  },
  {
   "cell_type": "code",
   "execution_count": null,
   "metadata": {
    "collapsed": true
   },
   "outputs": [],
   "source": [
    "def calculate_angle(hr, m):\n",
    "    # hr is 0-23\n",
    "    # m is 0-60\n",
    "    minute_ang = 360 * m / 60\n",
    "    hour_ang = 360 / 12 * (hr % 12) + (m * 360/60) / 12 \n",
    "    result = hour_ang - minute_ang\n",
    "    return abs(result)"
   ]
  },
  {
   "cell_type": "markdown",
   "metadata": {},
   "source": [
    "### calculate n choose r"
   ]
  },
  {
   "cell_type": "code",
   "execution_count": null,
   "metadata": {
    "collapsed": true
   },
   "outputs": [],
   "source": [
    "import operator as op\n",
    "def ncr(n, r):\n",
    "    r = min(r, n-r)\n",
    "    numer = reduce(op.mul, xrange(n, n-r, -1), 1)\n",
    "    denom = reduce(op.mul, xrange(1, r+1), 1)\n",
    "    return numer//denom"
   ]
  },
  {
   "cell_type": "markdown",
   "metadata": {},
   "source": [
    "### Pwerset get all subsets of a set"
   ]
  },
  {
   "cell_type": "code",
   "execution_count": null,
   "metadata": {
    "collapsed": true
   },
   "outputs": [],
   "source": [
    "# no duplicates\n",
    "def powerset(seq):\n",
    "    if not seq:\n",
    "        return [[]]\n",
    "    ps = powerset(seq[1:])\n",
    "    return ps + [[seq[0]] + n for n in ps]"
   ]
  },
  {
   "cell_type": "code",
   "execution_count": null,
   "metadata": {},
   "outputs": [],
   "source": [
    "powerset([0,1,2])"
   ]
  },
  {
   "cell_type": "code",
   "execution_count": null,
   "metadata": {
    "collapsed": true
   },
   "outputs": [],
   "source": [
    "def power_set(A):\n",
    "    if A == []:\n",
    "        yield []\n",
    "    else:\n",
    "        a = A[0]\n",
    "        for tail in powerset(A[1:]):\n",
    "            yield tail\n",
    "            yield [a] + tail\n",
    "for i in powerset([0,1,2]):\n",
    "    print i"
   ]
  },
  {
   "cell_type": "markdown",
   "metadata": {},
   "source": [
    "### Median"
   ]
  },
  {
   "cell_type": "code",
   "execution_count": null,
   "metadata": {
    "collapsed": true
   },
   "outputs": [],
   "source": [
    "# complexity of sorting - depending on algorithm worst is nlog(n)\n",
    "def find_median(A, B):\n",
    "    join = np.concatenate((np.array(A).reshape(-1, 1), np.array(B).reshape(-1, 1)), 1)\n",
    "    join_sort = join[join[:,0].argsort()]\n",
    "    join_sort_2 = np.concatenate((join_sort, np.cumsum(join_sort[:, 1]).reshape(-1, 1)), 1)\n",
    "    join_sort_3 = np.concatenate((join_sort_2, (join_sort_2[:, 2] / sum(join_sort_2[:, 1])).reshape(-1, 1)), 1)\n",
    "    if(sum(join_sort_2[:, 1]) % 2 != 0):\n",
    "        median = join_sort_3[join_sort_3[:, 3] >= 0.5, 0][0]    \n",
    "    \n",
    "    else:\n",
    "        median = (join_sort_3[join_sort_3[:, 3] >= 0.5, 0][0] + join_sort_3[join_sort_3[:, 3] >= 0.5, 0][1]) / 2 \n",
    "    return(median)"
   ]
  },
  {
   "cell_type": "markdown",
   "metadata": {},
   "source": [
    "### Running median"
   ]
  },
  {
   "cell_type": "code",
   "execution_count": null,
   "metadata": {
    "collapsed": true
   },
   "outputs": [],
   "source": [
    "from heapq import *\n",
    "\n",
    "class MedianFinder:\n",
    "\n",
    "    def __init__(self):\n",
    "        self.heaps = [], []\n",
    "\n",
    "    def addNum(self, num):\n",
    "        small, large = self.heaps\n",
    "        # pushpop pushes a new item, then pops and returns smallest item from heap\n",
    "        heappush(small, -heappushpop(large, num))\n",
    "        if len(large) < len(small):\n",
    "            heappush(large, -heappop(small))\n",
    "\n",
    "    def findMedian(self):\n",
    "        small, large = self.heaps\n",
    "        if len(large) > len(small):\n",
    "            return float(large[0])\n",
    "        return (large[0] - small[0]) / 2.0"
   ]
  },
  {
   "cell_type": "code",
   "execution_count": null,
   "metadata": {
    "collapsed": true
   },
   "outputs": [],
   "source": [
    "def gcd(x, y):\n",
    "\n",
    "    if(y == 0):\n",
    "        return x\n",
    "    \n",
    "    return gcd(y, x%y)"
   ]
  },
  {
   "cell_type": "code",
   "execution_count": null,
   "metadata": {
    "collapsed": true
   },
   "outputs": [],
   "source": [
    "def lcm(x, y):\n",
    "    return(abs(x*y) / gcd(x, y))"
   ]
  },
  {
   "cell_type": "code",
   "execution_count": null,
   "metadata": {
    "collapsed": true
   },
   "outputs": [],
   "source": [
    "a =\"78+-76i\"\n",
    "b = \"-86+72i\"\n",
    "def complex_number_multiply(a, b):\n",
    "\n",
    "    a1, a2 = map(int, a[:-1].split('+'))\n",
    "    b1, b2 = map(int, b[:-1].split('+'))\n",
    "    return '%d+%di' % (a1 * b1 - a2 * b2, a1 * b2 + a2 * b1)"
   ]
  },
  {
   "cell_type": "markdown",
   "metadata": {},
   "source": [
    "# Prime numbers "
   ]
  },
  {
   "cell_type": "code",
   "execution_count": null,
   "metadata": {
    "collapsed": true
   },
   "outputs": [],
   "source": [
    "def is_prime(n): \n",
    "    if n < 2:\n",
    "        return False\n",
    "    for i in range(2, int(n ** (0.5) + 1)):\n",
    "        if (n % i == 0):\n",
    "            return False \n",
    "    return True"
   ]
  },
  {
   "cell_type": "code",
   "execution_count": null,
   "metadata": {},
   "outputs": [],
   "source": [
    "prime(7)"
   ]
  },
  {
   "cell_type": "code",
   "execution_count": null,
   "metadata": {
    "collapsed": true
   },
   "outputs": [],
   "source": [
    "def find_all_primes_up_to_max(m): \n",
    "    flags = [True] * (len(range(m)))\n",
    "    flags[0] = flags[1] = False \n",
    "    prime = 2\n",
    "    while prime <= int(m ** 0.5):\n",
    "        \n",
    "        cross_off_non_prime(flags, prime)\n",
    "        prime = get_next_prime(flags, prime)\n",
    "        \n",
    "        if (prime >= len(flags)):\n",
    "            break\n",
    "    return flags"
   ]
  },
  {
   "cell_type": "code",
   "execution_count": null,
   "metadata": {
    "collapsed": true
   },
   "outputs": [],
   "source": [
    "def cross_off_non_prime(flags, prime): \n",
    "    for i in range(prime * prime, len(flags), prime):\n",
    "        flags[i] = False\n",
    "    "
   ]
  },
  {
   "cell_type": "code",
   "execution_count": null,
   "metadata": {
    "collapsed": true
   },
   "outputs": [],
   "source": [
    "def get_next_prime(flags, prime): \n",
    "    nex = prime + 1\n",
    "    while((nex < len(flags)) & ~flags[nex]):\n",
    "        nex += 1\n",
    "    return nex"
   ]
  },
  {
   "cell_type": "code",
   "execution_count": null,
   "metadata": {},
   "outputs": [],
   "source": [
    "[i for i, x in enumerate(find_all_primes_up_to_max(54)) if x]\n"
   ]
  },
  {
   "cell_type": "markdown",
   "metadata": {
    "collapsed": true
   },
   "source": [
    "###  Do two lines interesect"
   ]
  },
  {
   "cell_type": "code",
   "execution_count": null,
   "metadata": {
    "collapsed": true
   },
   "outputs": [],
   "source": [
    "# 7.3\n",
    "class line: \n",
    "    epsilon = 0.000001\n",
    "    \n",
    "    def __init__(self, slope, intercept):\n",
    "        self.slope = slope\n",
    "        self.intercept = intercept\n",
    "    \n",
    "    \n",
    "    def interesect(self, line_2, epsilon):\n",
    "        return ((abs(self.slope - line_2.slope) > epsilon) | (abs(self.intercept - line_2.intercept) < epsilon))"
   ]
  },
  {
   "cell_type": "code",
   "execution_count": null,
   "metadata": {
    "collapsed": true
   },
   "outputs": [],
   "source": [
    "line_1 = line(3, 5)\n",
    "line_2 = line(3, 7)"
   ]
  },
  {
   "cell_type": "code",
   "execution_count": null,
   "metadata": {},
   "outputs": [],
   "source": [
    "line_1.interesect(line_2, line_1.epsilon)"
   ]
  },
  {
   "cell_type": "markdown",
   "metadata": {
    "collapsed": true
   },
   "source": [
    "### Multiply / divide / subtract only with +"
   ]
  },
  {
   "cell_type": "code",
   "execution_count": null,
   "metadata": {
    "collapsed": true
   },
   "outputs": [],
   "source": [
    "def multiply(num_1, num_2): \n",
    "    count = 1 \n",
    "    add = abs(num_1)\n",
    "    \n",
    "    if(num_1 < num_2):\n",
    "        return multiply(num_2, num_1)\n",
    "     \n",
    "    while (count) < abs(num_2):\n",
    "        num_1 += add\n",
    "        count += 1\n",
    "    \n",
    "    if (num_2 < 0) | (num_1 < 0) :\n",
    "        return -num_1\n",
    "    \n",
    "    return num_1"
   ]
  },
  {
   "cell_type": "code",
   "execution_count": null,
   "metadata": {
    "collapsed": true
   },
   "outputs": [],
   "source": [
    "def int_divide(num_1, num_2):\n",
    "    i = abs(num_2)\n",
    "    d = 0\n",
    "        \n",
    "    while i <  abs(num_1):\n",
    "        i += abs(num_2)\n",
    "        d += 1\n",
    "    \n",
    "    if (num_2 < 0) | (num_1 < 0) :\n",
    "        return -d\n",
    "    return d"
   ]
  },
  {
   "cell_type": "code",
   "execution_count": null,
   "metadata": {
    "collapsed": true
   },
   "outputs": [],
   "source": [
    "def divide(num_1, num_2):\n",
    "    i = int_divide(num_1, num_2)\n",
    "    d = 0\n",
    "    \n",
    "    for j in range(abs(multiply(abs(num_2), i)), abs(num_1)):\n",
    "        d += 1\n",
    "    \n",
    "    if (num_2 < 0) | (num_1 < 0) :\n",
    "        return [i, -d]\n",
    "    \n",
    "    return [i, d]"
   ]
  },
  {
   "cell_type": "code",
   "execution_count": null,
   "metadata": {
    "collapsed": true
   },
   "outputs": [],
   "source": [
    "def subtract(num_1, num_2): \n",
    "    d = 0 \n",
    "    if num_1 <= num_2:\n",
    "        for i in range(num_1, num_2):\n",
    "            d += 1\n",
    "        return - d\n",
    "    else: \n",
    "        for i in range(num_2, num_1):\n",
    "            d += 1\n",
    "        return d"
   ]
  },
  {
   "cell_type": "code",
   "execution_count": null,
   "metadata": {
    "collapsed": true
   },
   "outputs": [],
   "source": [
    "def negate(num):\n",
    "    return - num"
   ]
  },
  {
   "cell_type": "code",
   "execution_count": null,
   "metadata": {
    "collapsed": true
   },
   "outputs": [],
   "source": [
    "def subtract_2(num_1, num_2): \n",
    "    # a-b = a + (-1)*b\n",
    "    return num_1 + negate(num_2)"
   ]
  },
  {
   "cell_type": "markdown",
   "metadata": {},
   "source": [
    "### Solving an equation"
   ]
  },
  {
   "cell_type": "code",
   "execution_count": null,
   "metadata": {
    "collapsed": true
   },
   "outputs": [],
   "source": [
    "def solve_equation(equation):\n",
    "    \"\"\"\n",
    "    :type equation: str\n",
    "    :rtype: str\n",
    "    \"\"\"\n",
    "    def helper(s):\n",
    "        sign, n = 1, len(s)\n",
    "        # i, coef, const stand for current index, and accumulative 'x' coefficient and constant\n",
    "        i = coef = const = 0\n",
    "        while i < n:\n",
    "            if s[i] == '+':\n",
    "                sign = 1\n",
    "            elif s[i] == '-':\n",
    "                sign = -1\n",
    "            elif s[i].isdigit():\n",
    "                j = i\n",
    "                while j < n and s[j].isdigit():\n",
    "                    j += 1\n",
    "                tmp = int(s[i:j])\n",
    "                if j < n and s[j] == 'x':\n",
    "                    coef += tmp * sign\n",
    "                    j += 1\n",
    "                else:\n",
    "                    const += tmp * sign\n",
    "                i = j-1\n",
    "            else:\n",
    "                coef += 1 * sign\n",
    "            i += 1\n",
    "        return coef, const\n",
    "\n",
    "    left, right = equation.split('=')\n",
    "    k1, b1 = helper(left)\n",
    "    k2, b2 = helper(right)\n",
    "    # k1x + b1 = k2x + b2\n",
    "    ans = 'x=' + str((b2 - b1) / (k1 - k2)) if k1 != k2 and b1 != b2 \\\n",
    "          else \"Infinite solutions\" if k1 == k2 and b1 == b2 \\\n",
    "          else \"No solution\" if b2 != b1 else 'x=0'\n",
    "    return ans"
   ]
  },
  {
   "cell_type": "markdown",
   "metadata": {},
   "source": [
    "### Sums"
   ]
  },
  {
   "cell_type": "code",
   "execution_count": null,
   "metadata": {
    "collapsed": true
   },
   "outputs": [],
   "source": [
    "# O(n) solution\n",
    "def two_sums(self, nums, target):\n",
    "    if len(nums) <= 1:\n",
    "        return False\n",
    "    buff_dict = {}\n",
    "    for i in range(len(nums)):\n",
    "        if nums[i] in buff_dict:\n",
    "            return [buff_dict[nums[i]], i]\n",
    "        else:\n",
    "            buff_dict[target - nums[i]] = i"
   ]
  },
  {
   "cell_type": "code",
   "execution_count": null,
   "metadata": {
    "collapsed": true
   },
   "outputs": [],
   "source": [
    "def three_sum(self, nums):\n",
    "    res = []\n",
    "    nums.sort()\n",
    "    for i in xrange(len(nums)-2):\n",
    "        if i > 0 and nums[i] == nums[i-1]:\n",
    "            continue\n",
    "        l, r = i+1, len(nums)-1\n",
    "        while l < r:\n",
    "            s = nums[i] + nums[l] + nums[r]\n",
    "            if s < 0:\n",
    "                l +=1 \n",
    "            elif s > 0:\n",
    "                r -= 1\n",
    "            else:\n",
    "                res.append((nums[i], nums[l], nums[r]))\n",
    "                while l < r and nums[l] == nums[l+1]:\n",
    "                    l += 1\n",
    "                while l < r and nums[r] == nums[r-1]:\n",
    "                    r -= 1\n",
    "                l += 1; r -= 1\n",
    "    return res"
   ]
  },
  {
   "cell_type": "code",
   "execution_count": null,
   "metadata": {
    "collapsed": true
   },
   "outputs": [],
   "source": [
    "# https://codility.com/media/train/solution-min-abs-sum.pdf\n",
    "\n",
    "def golden_min_abs_sum(A): \n",
    "    N = len(A)\n",
    "    M = 0\n",
    "    for i in xrange(N):\n",
    "        A[i] = abs(A[i])\n",
    "        M = max(A[i], M)  # get max A\n",
    "    S = sum(A) # sum abs of A\n",
    "    count = [0] * (M + 1) \n",
    "    for i in xrange(N): # N >> M M is max 100 this will count repeating values\n",
    "        count[A[i]] += 1 \n",
    "    dp = [-1] * (S + 1)  # dp[j] means how many values a left after acieving sum j\n",
    "    dp[0] = 0\n",
    "    \n",
    "    for a in xrange(1, M + 1):\n",
    "        if count[a] > 0: # if value appears in A\n",
    "            for j in xrange(S):\n",
    "                if dp[j] >= 0:\n",
    "                    dp[j] = count[a]\n",
    "                elif (j >= a and dp[j - a] > 0): \n",
    "                    dp[j] = dp[j - a] - 1\n",
    "    result = S # thats worst case\n",
    "    for i in xrange(S // 2+1):\n",
    "        if dp[i] >= 0:\n",
    "            result = min(result, S - 2 * i)\n",
    "   \n",
    "    return result"
   ]
  },
  {
   "cell_type": "markdown",
   "metadata": {},
   "source": [
    "### Division"
   ]
  },
  {
   "cell_type": "code",
   "execution_count": null,
   "metadata": {
    "collapsed": true
   },
   "outputs": [],
   "source": [
    "#Regardless of parentheses, \n",
    "#every element is either in the numerator or denominator of the\n",
    "#final fraction. The expression A[0] / ( A[1] / A[2] / ... / A[N-1] )\n",
    "#has every element in the numerator except A[1], \n",
    "#and it is impossible for A[1] to be in the numerator, \n",
    "#so it is the largest. We must also be careful with corner cases.\n",
    "\n",
    "def optimal_division(A):\n",
    "    A = map(str, A)\n",
    "    if len(A) <= 2: return '/'.join(A)\n",
    "    return '{}/({})'.format(A[0], '/'.join(A[1:]))  "
   ]
  },
  {
   "cell_type": "markdown",
   "metadata": {},
   "source": [
    "# linked lists"
   ]
  },
  {
   "cell_type": "code",
   "execution_count": null,
   "metadata": {
    "collapsed": true
   },
   "outputs": [],
   "source": [
    "class node:\n",
    "    def __init__(self, data = None):\n",
    "        self.data = data\n",
    "        self.next = None\n",
    "    \n",
    "class linked_list:\n",
    "    def __init__(self):\n",
    "        self.head = node()\n",
    "    \n",
    "    # append to the end of the list\n",
    "    def _append(self, data):\n",
    "        new_node = node(data)\n",
    "        cur = self.head\n",
    "        while cur.next != None:\n",
    "            cur = cur.next\n",
    "        cur.next = new_node\n",
    "    \n",
    "    # adds a node to the start of the linked list\n",
    "    def add_node(self, n):\n",
    "        n.next = self.head\n",
    "        self.head = n\n",
    "    \n",
    "    def length(self):\n",
    "        cur = self.head\n",
    "        total = 0\n",
    "        while cur.next != None:\n",
    "            total += 1\n",
    "            cur = cur.next\n",
    "        return total\n",
    "    \n",
    "    def display(self):\n",
    "        elems = []\n",
    "        cur_node = self.head\n",
    "        while cur_node.next != None:\n",
    "            cur_node = cur_node.next\n",
    "            elems.append(cur_node.data)\n",
    "        print elems\n",
    "    \n",
    "    def get(self, index):\n",
    "        if index >= self.length():\n",
    "            print \"Error - index out of range\"\n",
    "            return None\n",
    "        cur_idx = 0\n",
    "        cur_node = self.head\n",
    "        while True:\n",
    "            cur_node = cur_node.next\n",
    "            if cur_idx == index:\n",
    "                return cur_node.data\n",
    "            cur_idx += 1\n",
    "            \n",
    "    def erase(self, index):\n",
    "        if index >= self.length():\n",
    "            print \"Error - index out of range\"\n",
    "            return None\n",
    "        cur_idx = 0\n",
    "        cur_node = self.head\n",
    "        while True:\n",
    "            last_node = cur_node\n",
    "            cur_node = cur_node.next\n",
    "            if cur_idx == index:\n",
    "                last_node.next = cur_node.next\n",
    "            cur_idx += 1\n",
    "            \n",
    "    def erase_specific(self, node):\n",
    "        if ((node == None) | (node.next == None)):\n",
    "            return False\n",
    "        nex = node.next\n",
    "        node.data = nex.data\n",
    "        node.next = nex.next\n",
    "        return True\n",
    "    \n",
    "    def removeDups(self):\n",
    "        current = second = self.head\n",
    "        while current is not None:\n",
    "            while second.next is not None:   # check second.next here rather than second\n",
    "                if second.next.data == current.data:   # check second.next.data, not second.data\n",
    "                    second.next = second.next.next   # cut second.next out of the list\n",
    "                else:\n",
    "                    second = second.next   # put this line in an else, to avoid skipping items\n",
    "            current = second = current.next\n",
    "\n",
    "    def find_kth_to_last_elemt(self, k):\n",
    "        if (k <= 0):\n",
    "            return None\n",
    "        \n",
    "        p1 = self.head\n",
    "        p2 = self.head\n",
    "        \n",
    "        for i in range(k):\n",
    "            if (p2==None) :\n",
    "                return None\n",
    "            p2 = p2.next\n",
    "        \n",
    "        if (p2 == None) :\n",
    "            return None\n",
    "        while (p2.next != None):\n",
    "            p1 = p1.next\n",
    "            p2 = p2.next\n",
    "        \n",
    "        return p1\n",
    "    \n",
    "    def reverse_linked_list(self):\n",
    "\n",
    "        current = self.head\n",
    "        previous = None\n",
    "\n",
    "        while current:\n",
    "            nex = current.next\n",
    "            current.next = previous   # None, first time round.\n",
    "            previous = current        # Used in the next iteration.\n",
    "            current = nex            # Move to next node.\n",
    "\n",
    "        head = previous\n",
    "        return head\n",
    "    \n",
    "    \n",
    "    def partition_on_val_x(self, x):\n",
    "        _node = self.head.next\n",
    "        before_start = node()\n",
    "        before_end = node()\n",
    "        after_start = node()\n",
    "        after_end = node()\n",
    "        \n",
    "        while(_node != None):\n",
    "            nex = _node.next\n",
    "            \n",
    "            if(_node.data < x):\n",
    "                if(before_start.data == None):\n",
    "                    before_start = _node\n",
    "                    before_end = before_start\n",
    "                \n",
    "                else:\n",
    "                    before_end.next = _node\n",
    "                    before_end = before_end.next\n",
    "            else: \n",
    "                if(after_start.data == None):\n",
    "                    after_start = _node\n",
    "                    after_end = after_start\n",
    "                else:\n",
    "                    after_end.next = _node\n",
    "                    after_end = after_end.next\n",
    "            _node = nex\n",
    "            \n",
    "        if (before_start == None):\n",
    "            return after_start\n",
    "        \n",
    "        before_end.next = after_start\n",
    "        \n",
    "        \n",
    "        return self\n",
    "    \n",
    "    def _sorted(self):\n",
    "        if (self.length() > 1):\n",
    "            new_list = []\n",
    "            current = self.head\n",
    "            new_list.append(current)\n",
    "            while (current.next != None):\n",
    "                current = current.next\n",
    "                new_list.append(current)\n",
    "            new_list = sorted(new_list, key = lambda node: node.data, reverse = True)\n",
    "            new_link_list = linked_list()\n",
    "            for node in new_list:\n",
    "                new_link_list.add_node(node)\n",
    "            return new_link_list\n",
    "        return self"
   ]
  },
  {
   "cell_type": "code",
   "execution_count": null,
   "metadata": {
    "collapsed": true
   },
   "outputs": [],
   "source": [
    "a = linked_list()"
   ]
  },
  {
   "cell_type": "code",
   "execution_count": null,
   "metadata": {
    "collapsed": true
   },
   "outputs": [],
   "source": [
    "a._append(7)\n",
    "a._append(3)\n",
    "a._append(5)\n",
    "a._append(12)\n",
    "a._append(2)\n",
    "a._append(9)\n",
    "a._append(11)\n",
    "a._append(6)"
   ]
  },
  {
   "cell_type": "code",
   "execution_count": null,
   "metadata": {},
   "outputs": [],
   "source": [
    "a.display()"
   ]
  },
  {
   "cell_type": "code",
   "execution_count": null,
   "metadata": {
    "collapsed": true
   },
   "outputs": [],
   "source": [
    "b = a._sorted()"
   ]
  },
  {
   "cell_type": "code",
   "execution_count": null,
   "metadata": {},
   "outputs": [],
   "source": [
    "b.display()"
   ]
  },
  {
   "cell_type": "markdown",
   "metadata": {},
   "source": [
    "### merge linked lists"
   ]
  },
  {
   "cell_type": "code",
   "execution_count": null,
   "metadata": {
    "collapsed": true
   },
   "outputs": [],
   "source": [
    "def merge_lists(head1, head2):\n",
    "    if head1 is None:\n",
    "        return head2\n",
    "    if head2 is None:\n",
    "        return head1\n",
    "\n",
    "    # create dummy node to avoid additional checks in loop\n",
    "    s = t = node() \n",
    "    while ((head1 !=None) and (head2 != None)):\n",
    "        if (head1.value < head2.value):\n",
    "            # remember current low-node\n",
    "            c = head1\n",
    "            # follow ->next\n",
    "            head1 = head1.next\n",
    "        else:\n",
    "            # remember current low-node\n",
    "            c = head2\n",
    "            # follow ->next\n",
    "            head2 = head2.next\n",
    "\n",
    "        # only mutate the node AFTER we have followed ->next\n",
    "        t.next = c          \n",
    "        # and make sure we also advance the temp\n",
    "        t = t.next\n",
    "\n",
    "    t.next = head1 or head2\n",
    "\n",
    "    # return tail of dummy node\n",
    "    return s.next"
   ]
  },
  {
   "cell_type": "code",
   "execution_count": null,
   "metadata": {},
   "outputs": [],
   "source": [
    "def sum_linked_list(a, b):\n",
    "    nex_a = a.head\n",
    "    nex_b = b.head\n",
    "\n",
    "    str1 = ''\n",
    "    str2 = ''\n",
    "    new_linked_list = linked_list()\n",
    "    \n",
    "    while(nex_a.next != None):\n",
    "        str1 += str(nex_a.next.data)\n",
    "        nex_a = nex_a.next\n",
    "    print str1[::-1]\n",
    "        \n",
    "    while(nex_b.next != None):\n",
    "        str2 += str(nex_b.next.data)\n",
    "        nex_b = nex_b.next\n",
    "    print str2[::-1]\n",
    "\n",
    "        \n",
    "    str_summ = str(int(str1[::-1]) + int(str2[::-1]))[::-1]\n",
    "    print str_summ\n",
    "    for i in str_summ:\n",
    "        new_linked_list.append(int(i))\n",
    "    \n",
    "    return new_linked_list\n",
    "\n",
    "a = linked_list()\n",
    "b = linked_list()\n",
    "a.append(3)\n",
    "a.append(2)\n",
    "a.append(1)\n",
    "b.append(4)\n",
    "b.append(5)\n",
    "b.append(1)\n",
    "s = sum_linked_list(a, b)"
   ]
  },
  {
   "cell_type": "code",
   "execution_count": null,
   "metadata": {
    "collapsed": true
   },
   "outputs": [],
   "source": [
    "def get_length(root):\n",
    "    ans = 0\n",
    "    while root is not None:\n",
    "        root = root.next\n",
    "        ans += 1\n",
    "    return ans\n",
    "\n",
    "class Solution:\n",
    "    def split_list_to_parts(self, root, k):\n",
    "        ans = [None]*k\n",
    "        cur = root\n",
    "        length = get_length(root)\n",
    "        \n",
    "        for i in range(k):\n",
    "            no_elems = (length // k) + (1 if i < (length % k) else 0)\n",
    "            for j in range(no_elems):\n",
    "                if j == 0:\n",
    "                    ans[i] = cur\n",
    "\n",
    "                if j == no_elems - 1:\n",
    "                    temp = cur.next\n",
    "                    cur.next = None\n",
    "                    cur = temp\n",
    "                else:\n",
    "                    cur = cur.next\n",
    "        \n",
    "        return ans"
   ]
  },
  {
   "cell_type": "code",
   "execution_count": null,
   "metadata": {
    "collapsed": true
   },
   "outputs": [],
   "source": [
    "def find_loop_start(listo):\n",
    "    slow = head\n",
    "    fast = head\n",
    "    \n",
    "    # find meeting point\n",
    "    # firstly after k steps slow will arrive loop start and fast will be at loop - k\n",
    "    # after loop - k extra steps they will meet. \n",
    "    while((fast != None) & (fast.next != None)):\n",
    "        slow = slow.next\n",
    "        fast = fast.next.next\n",
    "        if(slow == fast):\n",
    "            break\n",
    "    \n",
    "    if (fast == None | fast.next == None):\n",
    "        return None\n",
    "    \n",
    "    slow = head\n",
    "    # if we put slow back to start and walk with fast one step at a time we will find k - number of steps till\n",
    "    # loop start.\n",
    "    while(slow !=fast):\n",
    "        slow = slow.next\n",
    "        fast = fast.next\n",
    "    \n",
    "    return fast"
   ]
  },
  {
   "cell_type": "markdown",
   "metadata": {},
   "source": [
    "### Linked list palindrome"
   ]
  },
  {
   "cell_type": "code",
   "execution_count": null,
   "metadata": {
    "collapsed": true
   },
   "outputs": [],
   "source": [
    "def is_linked_list_palindrome(linked_list):\n",
    "    slow = head\n",
    "    fast = head\n",
    "    stack = _stack_zero(None)\n",
    "    reverse_linked_list = linked_list()\n",
    "    \n",
    "    while((fast != None) & (fast.next != None)):\n",
    "        stack.push(slow.next)\n",
    "        slow = slow.next\n",
    "        fast = fast.next.next\n",
    "        \n",
    "    if(fast != None):\n",
    "        slow = slow.next\n",
    "    \n",
    "    while(slow != None):\n",
    "        if((stack.pop().data) != slow.data):\n",
    "            return False\n",
    "        slow = slow.next\n",
    "    return True"
   ]
  },
  {
   "cell_type": "markdown",
   "metadata": {},
   "source": [
    "### get linked lists intersection"
   ]
  },
  {
   "cell_type": "code",
   "execution_count": null,
   "metadata": {
    "collapsed": true
   },
   "outputs": [],
   "source": [
    "    def getIntersectionNode(self, headA, headB):\n",
    "        if headA is None or headB is None:\n",
    "            return None\n",
    "\n",
    "        pa = headA # 2 pointers\n",
    "        pb = headB\n",
    "\n",
    "        while pa is not pb:\n",
    "            # if either pointer hits the end, switch head and continue the second traversal, \n",
    "            # if not hit the end, just move on to next\n",
    "            pa = headB if pa is None else pa.next\n",
    "            pb = headA if pb is None else pb.next\n",
    "\n",
    "        return pa # only 2 ways to get out of the loop, they meet or the both hit the end=None\n",
    "\n",
    "# the idea is if you switch head, the possible difference between length would be countered. \n",
    "# On the second traversal, they either hit or miss. \n",
    "# if they meet, pa or pb would be the node we are looking for, \n",
    "# if they didn't meet, they will hit the end at the same iteration, pa == pb == None, return either one of them is the same,None"
   ]
  },
  {
   "cell_type": "markdown",
   "metadata": {},
   "source": [
    "# Stacks"
   ]
  },
  {
   "cell_type": "markdown",
   "metadata": {},
   "source": [
    "## Stacks from zero "
   ]
  },
  {
   "cell_type": "code",
   "execution_count": null,
   "metadata": {
    "collapsed": true
   },
   "outputs": [],
   "source": [
    "\n",
    "class node:\n",
    "    def __init__(self, data = None):\n",
    "        self.data = data\n",
    "        self.min = None\n",
    "        self.next = None\n",
    "    \n",
    "class _stack_zero:\n",
    "    \n",
    "    def __init__(self, data, capacity=None):\n",
    "        self.top = node(data)\n",
    "        self.capacity = capacity\n",
    "        self.size = 1\n",
    "    \n",
    "    # append to the end of the list\n",
    "    def push(self, data):\n",
    "        curMin = self.getMin()\n",
    "        new_node = node(data)\n",
    "        new_node.next = self.top\n",
    "        if ((curMin == None) or (data < curMin)):\n",
    "            curMin = data\n",
    "        \n",
    "        self.top = new_node\n",
    "        self.top.min = curMin\n",
    "        self.size += 1\n",
    "        \n",
    "    def is_full(self):\n",
    "        if (self.size == self.capacity):\n",
    "            return True\n",
    "        return False\n",
    "\n",
    "        \n",
    "    def is_empty(self):\n",
    "        return (self.peek() == None)\n",
    "    \n",
    "    def peek(self):\n",
    "        if (self.top != None):\n",
    "            return self.top.data\n",
    "        return None\n",
    "            \n",
    "    def _pop(self):\n",
    "        if (self.top != None):\n",
    "            item = self.top.data\n",
    "            self.top = self.top.next\n",
    "            self.size -= 1\n",
    "            return item\n",
    "        return None \n",
    "    \n",
    "    def sort_stack_with_one_array(self):\n",
    "        # self is unsorted array\n",
    "        # new stack is the sorted one\n",
    "        new_stack = _stack_zero(None)\n",
    "        while (self.is_empty() == False):\n",
    "            tmp = self._pop()\n",
    "            while ((new_stack.is_empty() == False) & (new_stack.peek()> tmp)):\n",
    "                self.push(new_stack.pop())\n",
    "            new_stack.push(tmp)\n",
    "        return new_stack  \n",
    "    \n",
    "        # @return an integer\n",
    "    def getMin(self):\n",
    "        if (self.is_empty()):\n",
    "            return None\n",
    "        else:\n",
    "            return self.top.min\n",
    "    \n",
    "    def get_min(self):\n",
    "        self.mini = self._pop()\n",
    "        temp_stack = _stack_zero(self.mini)\n",
    "        while(self.is_empty() == False):\n",
    "            n_mini = self._pop()\n",
    "            temp_stack.push(n_mini)\n",
    "            self.mini= min(self.mini, n_mini)\n",
    "\n",
    "        while(temp_stack.is_empty() == False): \n",
    "            self.push(temp_stack._pop())\n",
    "\n",
    "        return self.mini"
   ]
  },
  {
   "cell_type": "markdown",
   "metadata": {},
   "source": [
    "### Two stacks single array"
   ]
  },
  {
   "cell_type": "code",
   "execution_count": null,
   "metadata": {
    "collapsed": true
   },
   "outputs": [],
   "source": [
    "class two_stacks:\n",
    "     \n",
    "    def __init__(self, n):     #constructor\n",
    "        self.size = n\n",
    "        self.arr = [None] * n\n",
    "        self.top1 = -1\n",
    "        self.top2 = self.size\n",
    "         \n",
    "    # Method to push an element x to stack1\n",
    "    def push1(self, x):\n",
    "         \n",
    "        # There is at least one empty space for new element\n",
    "        if (self.top1 < self.top2 - 1):\n",
    "            self.top1 = self.top1 + 1\n",
    "            self.arr[self.top1] = x\n",
    " \n",
    "        else:\n",
    "            print(\"Stack Overflow\")\n",
    " \n",
    "    # Method to push an element x to stack2\n",
    "    def push2(self, x):\n",
    " \n",
    "        # There is at least one empty space for new element\n",
    "        if (self.top1 < self.top2 - 1):\n",
    "            self.top2 = self.top2 - 1\n",
    "            self.arr[self.top2] = x\n",
    " \n",
    "        else :\n",
    "           print(\"Stack Overflow\")\n",
    " \n",
    "    # Method to pop an element from first stack\n",
    "    def pop1(self):\n",
    "        if (self.top1 >= 0):\n",
    "            x = self.arr[self.top1]\n",
    "            self.top1 = self.top1 -1\n",
    "            return x\n",
    "        else:\n",
    "            print(\"Stack Underflow\")\n",
    "            exit(1)\n",
    " \n",
    "    # Method to pop an element from second stack\n",
    "    def pop2(self):\n",
    "        if (self.top2 < self.size):\n",
    "            x = self.arr[self.top2]\n",
    "            self.top2 = self.top2 + 1\n",
    "            return x\n",
    "        else:\n",
    "            print(\"Stack Underflow\")\n",
    "            \n",
    "    \n",
    "    \n"
   ]
  },
  {
   "cell_type": "markdown",
   "metadata": {},
   "source": [
    "### implement k stacks in a single array"
   ]
  },
  {
   "cell_type": "code",
   "execution_count": 350,
   "metadata": {},
   "outputs": [],
   "source": [
    "# use next_idx for two purposes:\n",
    "# 1. when elemnt is set --> point to idx of previous item\n",
    "# 2. when it's not set --> point to next available item\n",
    "\n",
    "# Time complexities of operations push() and pop() is O(1).\n",
    "# The best part of above implementation is, \n",
    "# if there is a slot available in stack, then an item can be pushed \n",
    "# in any of the stacks, i.e., no wastage of space.\n",
    "# python program to demonstrate implementation of k stacks in a single \n",
    "# array in time and space efficient way\n",
    "class k_stacks:\n",
    "    \n",
    "    next_available = 0\n",
    "    \n",
    "    def __init__(self, k, n):\n",
    "        self.arr = [0] * n\n",
    "        self.top = [-1] * k   #   // Array of size k to store indexes of top elements of stacks\n",
    "        self._next = range(1, (n+1), 1) #  // Array of size n to store next entry in all stacks. Here arr[] is actual array that stores k stacks.\n",
    "        self._next[n-1] = -1\n",
    "\n",
    "    # A utility function to check if there is space available\n",
    "    def is_full(self): \n",
    "        return (self.next_available == -1)\n",
    "\n",
    "    # To push an item in stack number 'sn' where sn is from 0 to k-1\n",
    "    def push(self, item, sn): \n",
    "        # Overflow check\n",
    "        if (self.is_full()):\n",
    "            return \"Stack Overflow\"\n",
    "\n",
    "        i = self.next_available # Store index of first free slot\n",
    "\n",
    "        # Update index of free slot to index of next slot in free list\n",
    "        self.next_available = self._next[i] # 0-->1\n",
    "\n",
    "        # Update next of top and then top for stack number 'sn'\n",
    "        self._next[i] = self.top[sn] # next points now to -1\n",
    "        self.top[sn] = i # top points to 0\n",
    "\n",
    "        # Put the item in array\n",
    "        self.arr[i] = item\n",
    "\n",
    "    # To pop an from stack number 'sn' where sn is from 0 to k-1\n",
    "    def pop(self, sn): \n",
    "        # Underflow check\n",
    "        if (self.is_empty(sn)) :\n",
    "            return (\"Stack Underflow\")\n",
    "\n",
    "        # Find index of top item in stack number 'sn'\n",
    "        i = self.top[sn]\n",
    "\n",
    "        self.top[sn] = self._next[i] # Change top to store next of previous top\n",
    "\n",
    "        # Attach the previous top to the beginning of free list\n",
    "        self._next[i] = self.next_available # reverse next to point on next item in list\n",
    "        self.next_available = i\n",
    "\n",
    "        # Return the previous top item\n",
    "        return self.arr[i]\n",
    "\n",
    "    # To check whether stack number 'sn' is empty or not\n",
    "    def is_empty(self, sn):\n",
    "        return (self.top[sn] == -1)\n",
    "\n"
   ]
  },
  {
   "cell_type": "markdown",
   "metadata": {},
   "source": [
    "### Stacks from python lists"
   ]
  },
  {
   "cell_type": "code",
   "execution_count": null,
   "metadata": {
    "collapsed": true
   },
   "outputs": [],
   "source": [
    "class stack(list):\n",
    "\n",
    "    def __init__(self):\n",
    "        pass\n",
    "    \n",
    "    def is_empty(self):\n",
    "        return not self\n",
    "\n",
    "    def push(self,p):\n",
    "        self.append(p)\n",
    "\n",
    "    def _pop(self):\n",
    "        return self.pop()\n",
    "        \n",
    "    def top(self):\n",
    "        return self[0]\n",
    "    \n",
    "    def get_min(self):\n",
    "        self.mini = self._pop()\n",
    "        temp_stack = stack()\n",
    "        temp_stack.push(self.mini)\n",
    "        while(self.is_empty() == False):\n",
    "            n_mini = self._pop()\n",
    "            temp_stack.push(n_mini)\n",
    "            self.mini= min(self.mini, n_mini)\n",
    "        \n",
    "        while(temp_stack.is_empty() == False): \n",
    "            self.push(temp_stack._pop())\n",
    "            \n",
    "        return self.mini  "
   ]
  },
  {
   "cell_type": "markdown",
   "metadata": {},
   "source": [
    "### arange boxes one on top of the other "
   ]
  },
  {
   "cell_type": "code",
   "execution_count": null,
   "metadata": {
    "collapsed": true
   },
   "outputs": [],
   "source": [
    "# 9.10\n",
    "def create_stack(boxes = [], box_bottom):\n",
    "    \n",
    "    max_height = 0\n",
    "    max_stack = []\n",
    "    \n",
    "    for i in range(len(boxes)):\n",
    "        if can_be_above(boxes[i], box_bottom):\n",
    "            new_stack = create_stack(boxes, boxes[i])\n",
    "            new_height = stack_height(new_stack)\n",
    "            if (new_height > max_height) : \n",
    "                max_stack = new_stack\n",
    "                max_height = new_height\n",
    "    \n",
    "    if max_stack == []:\n",
    "        max_stack  = []\n",
    "        \n",
    "    if box_bottom :\n",
    "        max_stack.append(box_bottom)\n",
    "    \n",
    "    return max_stack\n",
    "\n",
    "def stack_height(stack):\n",
    "    return sum(stack.h)\n",
    "\n",
    "def can_be_above(box_above, box_below):\n",
    "    if ((box_below.h > box_above.h) & (box_below.w > box_above.w) & \n",
    "                                        (box_below.d > box_above.d)):\n",
    "        return True \n",
    "    return False "
   ]
  },
  {
   "cell_type": "markdown",
   "metadata": {},
   "source": [
    "### build set of stacks with all operations of regular stack"
   ]
  },
  {
   "cell_type": "code",
   "execution_count": null,
   "metadata": {
    "collapsed": true
   },
   "outputs": [],
   "source": [
    "# 3.3 \n",
    "class set_of_stacks:\n",
    "    stacks = []       \n",
    "    \n",
    "    def _push(self, data, capacity= None):\n",
    "        last = self._get_last_stack()\n",
    "        if (last == None):\n",
    "            stack = _stack_zero(data, capacity)\n",
    "            self.stacks.append(stack)\n",
    "            \n",
    "        elif ((last != None) & (last.is_full() == False)):\n",
    "            last.push(data)\n",
    "        else: \n",
    "            # create new stack\n",
    "            stack = _stack_zero(data, capacity)\n",
    "            self.stacks.append(stack) \n",
    "        \n",
    "    def _pop(self):\n",
    "        last = self._get_last_stack()\n",
    "        v = last._pop()\n",
    "        if ((last.size == 0)):\n",
    "            stacks.remove(last)\n",
    "        return v\n",
    "        \n",
    "    def _get_last_stack(self):\n",
    "        if (len(self.stacks) == 0):\n",
    "            return None\n",
    "        return self.stacks[-1] "
   ]
  },
  {
   "cell_type": "markdown",
   "metadata": {},
   "source": [
    "### Hanoi towera"
   ]
  },
  {
   "cell_type": "code",
   "execution_count": null,
   "metadata": {
    "collapsed": true
   },
   "outputs": [],
   "source": [
    "# 3.4\n",
    "class tower: \n",
    "    \n",
    "    def __init__(self, i):\n",
    "        self.disks = _stack_zero(None)\n",
    "        self.index = i \n",
    "        \n",
    "    def add_disk(self, disk_size):\n",
    "        if ((self.disks.is_empty() == False) & (self.disks.peek() <= disk_size)):\n",
    "            print (\"Error placing disk\")\n",
    "        else:\n",
    "            self.disks.push(disk_size)\n",
    "    \n",
    "    def move_top(self, to_tower):\n",
    "        top = self.disks._pop()\n",
    "        to_tower.add_disk(top)\n",
    "        print(\"move disk\", top, \"from\", self.index, \"to\", to_tower.index)\n",
    "        \n",
    "    def move_disks(self, n, destination_tower, buffer_tower):\n",
    "        if(n > 0):\n",
    "            self.move_disks(n-1, buffer_tower, destination_tower)\n",
    "            self.move_top(destination_tower)\n",
    "            buffer_tower.move_disks(n-1, destination_tower, self)\n",
    "\n",
    "n = 3\n",
    "towers = [] * n\n",
    "for i in range(n):\n",
    "    towers.append(tower(i))\n",
    "for i in range(15, 0, -1):\n",
    "    towers[0].add_disk(i)\n",
    "towers[0].move_disks(15, towers[2], towers[1])"
   ]
  },
  {
   "cell_type": "markdown",
   "metadata": {},
   "source": [
    "# Queues "
   ]
  },
  {
   "cell_type": "markdown",
   "metadata": {},
   "source": [
    "## Generic queue"
   ]
  },
  {
   "cell_type": "code",
   "execution_count": null,
   "metadata": {
    "collapsed": true
   },
   "outputs": [],
   "source": [
    "class Queue:\n",
    "    \n",
    "    def __init__(self, max_size=0):\n",
    "        self.size = max_size\n",
    "        self.arr = []\n",
    "\n",
    "    def enqueue(self, item):\n",
    "        if self.is_full():\n",
    "            print \"Queue is full.\"\n",
    "        else:\n",
    "            self.arr.append(item)\n",
    "\n",
    "    def dequeue(self):\n",
    "        if self.is_empty():\n",
    "            print \"Queue is empty.\"\n",
    "        else:\n",
    "            self.arr.pop(0)\n",
    "\n",
    "                \n",
    "    def is_empty(self):\n",
    "        return len(self.arr) == 0\n",
    "\n",
    "    def is_full(self):\n",
    "        return len(self.arr) == self.size\n",
    "\n",
    "    def front(self):\n",
    "        if self.is_empty():\n",
    "            print \"Queue is empty.\"\n",
    "        else:\n",
    "            print self.arr[0]\n",
    "\n",
    "    def rear(self):\n",
    "        if self.is_empty():\n",
    "            print \"Queue is empty.\"\n",
    "        else:\n",
    "            print self.arr[len(self.arr)-1]"
   ]
  },
  {
   "cell_type": "markdown",
   "metadata": {},
   "source": [
    "### implement a qeueue using two stacks "
   ]
  },
  {
   "cell_type": "code",
   "execution_count": null,
   "metadata": {
    "collapsed": true
   },
   "outputs": [],
   "source": [
    "# 3.5 \n",
    "class my_qeueue:\n",
    "    \n",
    "    def __init__(self):\n",
    "        self.old = _stack_zero()\n",
    "        self.new = _stack_zero()\n",
    "        \n",
    "    def add(self, data):\n",
    "        self.new.push(data)\n",
    "    \n",
    "    def size(self):\n",
    "        return self.new.size() + self.old.size()\n",
    "    \n",
    "    def shift_stacks(self):\n",
    "        if(self.old.is_empty()):\n",
    "            while (self.new.is_empty() === False):\n",
    "                self.old.push(self.new._pop())\n",
    "    \n",
    "    def _peek(self):\n",
    "        self.shift_stacks()\n",
    "        return self.old.peek()\n",
    "    \n",
    "    def remove(self):\n",
    "        self.shift_stacks()\n",
    "        return self.old.pop()"
   ]
  },
  {
   "cell_type": "markdown",
   "metadata": {},
   "source": [
    "### find if a string is comprised of repition of one of its substrings"
   ]
  },
  {
   "cell_type": "code",
   "execution_count": null,
   "metadata": {
    "collapsed": true
   },
   "outputs": [],
   "source": [
    "def repeated_substring_pattern(s):\n",
    "    \n",
    "    for i in range(1, int(len(s) / 2)):\n",
    "        if ((len(s) % i ==0) and (s[:i] * int(len(s) /i )) == s):\n",
    "            print s[:i]\n",
    "            return True \n",
    "\n",
    "    return False \n",
    "            "
   ]
  },
  {
   "cell_type": "markdown",
   "metadata": {
    "collapsed": true
   },
   "source": [
    "### atoi - return a valid number from a string if there is one"
   ]
  },
  {
   "cell_type": "code",
   "execution_count": null,
   "metadata": {
    "collapsed": true
   },
   "outputs": [],
   "source": [
    " def my_atoi( _str):\n",
    "        \"\"\"\n",
    "        :type str: str\n",
    "        :rtype: int\n",
    "        \"\"\"\n",
    "        _str = _str.strip()\n",
    "        number = \"\"\n",
    "        \n",
    "        \n",
    "        for x in _str:\n",
    "            if x.isalpha() and number == \"\":\n",
    "                return 0\n",
    "            elif x.isalpha():\n",
    "                break\n",
    "            elif x == \".\":\n",
    "                break\n",
    "            elif x == \" \":\n",
    "                break\n",
    "            elif (x == \"+\" or x == \"-\") and number == \"\":\n",
    "                number = number + x\n",
    "            elif (x == \"+\" or x == \"-\") and number != \"\":\n",
    "                break\n",
    "            elif (x == \"+\" or x == \"-\") and (number[-1] == \"+\" or number[-1] == \"-\"):\n",
    "                return 0\n",
    "            elif (x == \"+\" or x == \"-\") and (\"+\" in number or \"-\" in number):\n",
    "                break\n",
    "            elif x.isdigit():\n",
    "                number = number + x\n",
    "        if number == \"\" or number == \"+\" or number == \"-\":\n",
    "            return 0\n",
    "        else:\n",
    "            if int(number) > ((2**31)-1):\n",
    "                return (2**31)-1\n",
    "            elif int(number) < -(2**31):\n",
    "                return -(2**31)\n",
    "            else:\n",
    "                return int(number)"
   ]
  },
  {
   "cell_type": "markdown",
   "metadata": {},
   "source": [
    "### can you build the string using the given strings"
   ]
  },
  {
   "cell_type": "code",
   "execution_count": null,
   "metadata": {
    "collapsed": true
   },
   "outputs": [],
   "source": [
    "def _word_break(s, words):\n",
    "    d = [False] * len(s)    \n",
    "    for i in range(len(s)):\n",
    "        for w in words:\n",
    "            if w == s[i-len(w)+1:i+1] and (d[i-len(w)] or i-len(w) == -1):\n",
    "                d[i] = True\n",
    "    return d[-1]"
   ]
  },
  {
   "cell_type": "code",
   "execution_count": null,
   "metadata": {
    "collapsed": true
   },
   "outputs": [],
   "source": [
    "def word_break(s, wordDict):\n",
    "    \n",
    "        val = False\n",
    "        \n",
    "        if (len(s) == 0):\n",
    "            return True \n",
    "        \n",
    "        for i in range(len(wordDict)):\n",
    "            word_len = len(wordDict[i])\n",
    "            print s\n",
    "            print(\"dictionary word:\", wordDict[i],\"string to match:\", s[:word_len])\n",
    "            if (wordDict[i] == s[:word_len]):\n",
    "                new_s = s[word_len:]\n",
    "                val = word_break(new_s, wordDict)\n",
    "\n",
    "        \n",
    "        return val"
   ]
  },
  {
   "cell_type": "markdown",
   "metadata": {},
   "source": [
    "# Binary search trees"
   ]
  },
  {
   "cell_type": "code",
   "execution_count": null,
   "metadata": {
    "collapsed": true
   },
   "outputs": [],
   "source": [
    "class Node:\n",
    "    def __init__(self, val):\n",
    "        self.val = val\n",
    "        self.leftChild = None\n",
    "        self.rightChild = None\n",
    "        self.visited = False\n",
    "    \n",
    "    def get(self):\n",
    "        return self.val\n",
    "    \n",
    "    def set(self, val):\n",
    "        self.val = val\n",
    "        \n",
    "    def getChildren(self):\n",
    "        children = []\n",
    "        if(self.leftChild != None):\n",
    "            children.append(self.leftChild)\n",
    "        if(self.rightChild != None):\n",
    "            children.append(self.rightChild)\n",
    "        return children\n",
    "        \n",
    "class BST:\n",
    "    def __init__(self):\n",
    "        self.root = None\n",
    "\n",
    "    def setRoot(self, val):\n",
    "        self.root = Node(val)\n",
    "\n",
    "    def insert(self, val):\n",
    "        if(self.root is None):\n",
    "            self.setRoot(val)\n",
    "        else:\n",
    "            self.insertNode(self.root, val)\n",
    "\n",
    "    def insertNode(self, currentNode, val):\n",
    "        if(val <= currentNode.val):\n",
    "            if(currentNode.leftChild):\n",
    "                self.insertNode(currentNode.leftChild, val)\n",
    "            else:\n",
    "                currentNode.leftChild = Node(val)\n",
    "        elif(val > currentNode.val):\n",
    "            if(currentNode.rightChild):\n",
    "                self.insertNode(currentNode.rightChild, val)\n",
    "            else:\n",
    "                currentNode.rightChild = Node(val)\n",
    "\n",
    "    def find(self, val):\n",
    "        return self.findNode(self.root, val)\n",
    "\n",
    "    def findNode(self, currentNode, val):\n",
    "        if(currentNode is None):\n",
    "            return False\n",
    "        elif(val == currentNode.val):\n",
    "            return True\n",
    "        elif(val < currentNode.val):\n",
    "            return self.findNode(currentNode.leftChild, val)\n",
    "        else:\n",
    "            return self.findNode(currentNode.rightChild, val)\n",
    "    \n",
    "    # in-order - left->root->right\n",
    "    # flatten in the same way it was created\n",
    "    # pre-order - root-> left-> right\n",
    "    # post-order - left->right->root\n",
    "    \n",
    "    \n",
    "    def in_order_traversal(self):\n",
    "        root = self.root\n",
    "        if (root == None):\n",
    "            return \n",
    "        temp_stack = _stack_zero(None)\n",
    "        while True:\n",
    "            if (root != None):\n",
    "                temp_stack.push(root)\n",
    "                root = root.left\n",
    "            else:\n",
    "                if(temp_stack.is_empty()):\n",
    "                    break\n",
    "                root = temp_stack._pop()\n",
    "                print root.data\n",
    "                root = root.right\n",
    "                \n",
    "    def pre_order_traversal(self, root = self.root): \n",
    "        if (root == None):\n",
    "            return \n",
    " \n",
    "        # First print the data of node\n",
    "        print(root.val)\n",
    "\n",
    "        # Then recur on left child\n",
    "        self.pre_order_traversal(root.left)\n",
    "\n",
    "        # Finally recur on right child\n",
    "        self.pre_order_traversal(root.right)\n",
    "        \n",
    "        \n",
    "    def post_order(self, root = None):\n",
    "        if (root == None):\n",
    "            return \n",
    "        # First recur on left child\n",
    "        self.post_order(root.left)\n",
    "\n",
    "        # the recur on right child\n",
    "        self.post_order(root.right)\n",
    "\n",
    "        # now print the data of node\n",
    "        print(root.val)\n",
    "\n",
    "    \n",
    "    def BFS(self):\n",
    "        queue = Queue()\n",
    "        self.root.visited = True\n",
    "        \n",
    "        queue.enqueue(root)\n",
    "        \n",
    "        while(~queue.is_empty()):\n",
    "            r = queue.dequeue()\n",
    "            for (node in r.getChildren()):\n",
    "                if (node.visited == False):\n",
    "                    node.visited = True\n",
    "                    queue.enqueue(node)\n",
    "        \n",
    "                \n",
    "                \n",
    "    def split_bst(self, root, V):\n",
    "        # split the tree into two subtrees where one subtree has nodes that are\n",
    "        # all smaller or equal to the target value, while the other subtree has \n",
    "        # all nodes that are greater than the target value\n",
    "        \n",
    "        \n",
    "        ### whichever node that is smaller than root but bigger than \n",
    "        ### V would be on the left side of root but on the right side of split.\n",
    "        if not self.root: return [None, None]\n",
    "        if root.val > V:\n",
    "            left, right = self.split_bst(root.left, V)\n",
    "            root.left = right\n",
    "            return [left, root]\n",
    "        # left is all the nodes that are smaller than V\n",
    "        # right needs to be combined with all the other \n",
    "        # right nodes of original tree\n",
    "        left, right = self.split_bst(root.right, V)\n",
    "        root.right = left\n",
    "        return [root, right]\n",
    "    \n",
    "    \n",
    "    def convertBST(self, root):\n",
    "        def visit1(root):\n",
    "            if root:\n",
    "                visit1(root.left)\n",
    "                vals.append(root.val)\n",
    "                visit1(root.right)\n",
    "        vals = []\n",
    "        visit1(root)\n",
    "\n",
    "        self.s = 0\n",
    "        def visit2(root):\n",
    "            if root:\n",
    "                visit2(root.right)\n",
    "                self.s += vals.pop()\n",
    "                root.val = self.s\n",
    "                visit2(root.left)\n",
    "        visit2(root)\n",
    "\n",
    "        return root\n",
    "\n",
    "        "
   ]
  },
  {
   "cell_type": "markdown",
   "metadata": {},
   "source": [
    "### Iterative method to find height of Binary Tree"
   ]
  },
  {
   "cell_type": "code",
   "execution_count": null,
   "metadata": {
    "collapsed": true
   },
   "outputs": [],
   "source": [
    "\n",
    "def tree_height(root):\n",
    "     \n",
    "    # Base Case\n",
    "    if root is None:\n",
    "        return 0\n",
    "     \n",
    "    # Create a empty queue for level order traversal\n",
    "    q = []\n",
    "     \n",
    "    # Enqueue Root and Initialize Height \n",
    "    q.append(root)\n",
    "    height = 0\n",
    " \n",
    "    while(True):\n",
    "         \n",
    "        # nodeCount(queue size) indicates number of nodes\n",
    "        # at current level\n",
    "        nodeCount = len(q)\n",
    "        if nodeCount == 0 :\n",
    "            return height \n",
    "     \n",
    "        height += 1\n",
    " \n",
    "        # Dequeue all nodes of current level and Enqueue\n",
    "        # all nodes of next level\n",
    "        while(nodeCount > 0):\n",
    "            node = q[0]\n",
    "            q.pop(0)\n",
    "            if node.left is not None:\n",
    "                q.append(node.left)\n",
    "            if node.right is not None:\n",
    "                q.append(node.right)\n",
    " \n",
    "            nodeCount -= 1\n",
    " "
   ]
  },
  {
   "cell_type": "code",
   "execution_count": null,
   "metadata": {
    "collapsed": true
   },
   "outputs": [],
   "source": [
    "# 4.6\n",
    "def next_node_successor(self, node_n):\n",
    "    if (node_n == None): return None\n",
    "    \n",
    "    if (node_n.right != None):\n",
    "        return left_most_child(node_n.right)\n",
    "    else:\n",
    "        q = node_n\n",
    "        x = q.parent \n",
    "        while((x != None) & (x.left != q)):\n",
    "            q = x\n",
    "            x = x.parent\n",
    "        return x\n",
    "    \n",
    "def left_most_child(self, node_n):\n",
    "    if(node_n == None):\n",
    "        return None\n",
    "    while(node_n.left != None):\n",
    "        node_n = node_n.left\n",
    "    \n",
    "    return node_n\n",
    "        \n",
    "    "
   ]
  },
  {
   "cell_type": "code",
   "execution_count": null,
   "metadata": {
    "collapsed": true
   },
   "outputs": [],
   "source": [
    "# 4.7\n",
    "\n",
    "def covers(self, root, p):\n",
    "    if (root == None) : return False\n",
    "    \n",
    "    if (root == p):\n",
    "        return True\n",
    "    \n",
    "    return (self.covers(root.left, p) | self.covers(root.right, p)):\n",
    "    \n",
    "\n",
    "def common_ances_helper(self, root, p, q):\n",
    "    if (root == None) : return None\n",
    "    \n",
    "    if ((root == p) | (root == q)):\n",
    "        return root\n",
    "    \n",
    "    is_p_on_left = self.covers(root.left, p)\n",
    "    is_q_on_left =  self.covers(root.left, q)\n",
    "    \n",
    "    if (is_p_on_left != is_q_on_left):\n",
    "        return root\n",
    "    \n",
    "    else:\n",
    "        if(is_p_on_left):\n",
    "            child_side = root.left\n",
    "        else:\n",
    "            child_side = root.right\n",
    "            \n",
    "    return common_ances_helper(child_side, p, q)\n",
    "    \n",
    "    \n",
    "def first_common_ancestor(self, root, p, q):\n",
    "    if ((~covers(root, p)) | (~covers(root, q))):\n",
    "        return None\n",
    "    \n",
    "    return common_ances_helper(root, p, q)\n",
    "    "
   ]
  },
  {
   "cell_type": "code",
   "execution_count": null,
   "metadata": {
    "collapsed": true
   },
   "outputs": [],
   "source": [
    "# 4.8\n",
    "\n",
    "def contains_tree(t1, t2):\n",
    "    if (t2 == None):\n",
    "        return True \n",
    "    return sub_tree(t1, t2)\n",
    "\n",
    "def sub_tree(node_r1, node_r2):\n",
    "    if (node_r1 == None):\n",
    "        return False\n",
    "    \n",
    "    if (node_r1.data == node_r2.data):\n",
    "        if(match_tree(node_r1, node_r2)):\n",
    "            return True\n",
    "    \n",
    "    return (sub_tree(r1.left, r2) | sub_tree(r1.right, r2))\n",
    "\n",
    "def match_tree(r1, r2):\n",
    "    if ((r1 == None) & (r2 == None)):\n",
    "        return True\n",
    "    \n",
    "    if((r1 == None) | (r2 == None)):\n",
    "        return False \n",
    "    \n",
    "    if (r1.data != r2.data):\n",
    "        return False\n",
    "    \n",
    "    return (match_tree(r1.left, r2.left) & match_tree(r1.right, r2.right))\n"
   ]
  },
  {
   "cell_type": "code",
   "execution_count": null,
   "metadata": {
    "collapsed": true
   },
   "outputs": [],
   "source": [
    "# 4.9\n",
    "\n",
    "def all_paths_sum(root, target, path = []):\n",
    "    if root == None:\n",
    "        return \n",
    "    \n",
    "    if (root == target):\n",
    "        path.append(root.data)\n",
    "        print path\n",
    "        all_paths_sum(root.left, target - root.data, path)\n",
    "        all_paths_sum(root.right, target - root.data, path)\n",
    "    \n",
    "    if (root > target):\n",
    "        \n",
    "        all_paths_sum(root.left, target, path)\n",
    "        all_paths_sum(root.right, target, path)\n",
    "        \n",
    "    if (root < target):\n",
    "        path.append(root.data)\n",
    "        all_paths_sum(root.left, target - root.data, path)\n",
    "        all_paths_sum(root.right, target - root.data, path)\n",
    "        "
   ]
  },
  {
   "cell_type": "code",
   "execution_count": null,
   "metadata": {
    "collapsed": true
   },
   "outputs": [],
   "source": [
    "def check_binary_search_tree_(root, mini, maxi):\n",
    "    if(root == None):\n",
    "        return True\n",
    "\n",
    "    if(root.data < mini or root.data > maxi):\n",
    "        return False\n",
    "\n",
    "    return check_binary_search_tree_(root.left, mini, root.data - 1) \n",
    "            and check_binary_search_tree_(root.right, root.data + 1, maxi);\n",
    "\n",
    "\n",
    "def checkBST(root):\n",
    "    return check_binary_search_tree_(root, 0, 10000001);"
   ]
  },
  {
   "cell_type": "markdown",
   "metadata": {},
   "source": [
    "### convert bst such that each node equals all nodes smaller equal to it"
   ]
  },
  {
   "cell_type": "code",
   "execution_count": null,
   "metadata": {
    "collapsed": true
   },
   "outputs": [],
   "source": [
    "def convert_BST(self, root):\n",
    "    def visit1(root):\n",
    "        if root:\n",
    "            visit1(root.left)\n",
    "            vals.append(root.val)\n",
    "            visit1(root.right)\n",
    "    vals = []\n",
    "    visit1(root)\n",
    "    \n",
    "    self.s = 0\n",
    "    def visit2(root):\n",
    "        if root:\n",
    "            visit2(root.right)\n",
    "            self.s += vals.pop()\n",
    "            root.val = self.s\n",
    "            visit2(root.left)\n",
    "    visit2(root)\n",
    "\n",
    "    return root"
   ]
  },
  {
   "cell_type": "markdown",
   "metadata": {},
   "source": [
    "## Binary tree - is balanced?"
   ]
  },
  {
   "cell_type": "code",
   "execution_count": null,
   "metadata": {
    "collapsed": true
   },
   "outputs": [],
   "source": [
    "# 4.1 \n",
    "# height of a tree is the longest path from root to leaf \n",
    "# O(N) solution \n",
    "def check_height(root):\n",
    "    if (root == None):\n",
    "        return 0\n",
    "    \n",
    "    left_height = check_height(root.left)\n",
    "    if (left_height == -1):\n",
    "        return -1\n",
    "    \n",
    "    right_height = check_height(root.right)\n",
    "    if (right_height == -1):\n",
    "        return -1\n",
    "    \n",
    "    height_diff = left_height - right_height\n",
    "    if (abs(height_diff) > 1):\n",
    "        return -1\n",
    "    else:\n",
    "        return max(left_height, right_height) + 1\n",
    "\n",
    "def is_balanced_binary_tree(root):\n",
    "    if (check_height(root) == -1):\n",
    "        return False\n",
    "    else: \n",
    "        return True"
   ]
  },
  {
   "cell_type": "markdown",
   "metadata": {},
   "source": [
    "### create minimal height BST from a sorted array"
   ]
  },
  {
   "cell_type": "code",
   "execution_count": null,
   "metadata": {
    "collapsed": true
   },
   "outputs": [],
   "source": [
    "# 4.3  \n",
    "def create_minimal_bst(arr, start, end):\n",
    "    if (end < start):\n",
    "        return None\n",
    "    \n",
    "    mid = (start + end) / 2\n",
    "    n = insertNode(arr[mid])\n",
    "    n.left = create_minimal_bst(arr, start, mid - 1)\n",
    "    n.right = create_minimal_bst(arr, mid + 1, end)\n",
    "    return n\n"
   ]
  },
  {
   "cell_type": "markdown",
   "metadata": {},
   "source": [
    "### create a linked list of all nodes at each depth "
   ]
  },
  {
   "cell_type": "code",
   "execution_count": null,
   "metadata": {
    "collapsed": true
   },
   "outputs": [],
   "source": [
    "# 4.4 \n",
    "# we use pre-order traversal - DFS\n",
    "def create_linked_list_of_nodes_at_each_level(root, lists = [], level):\n",
    "    if(root == None):\n",
    "        return\n",
    "    \n",
    "    linked_list = linked_list()\n",
    "    if (len(lists) == level):\n",
    "        lists.append(linked_list)\n",
    "    else:\n",
    "        linked_list = lists[level]\n",
    "    \n",
    "    linked_list.append(root)\n",
    "    create_linked_list_of_nodes_at_each_level(root.left, lists, level + 1)\n",
    "    create_linked_list_of_nodes_at_each_level(root.right, lists, level + 1)\n",
    "    \n",
    "# BFS solution \n",
    "def linked_list_per_level(root):\n",
    "    result = []\n",
    "    current = linked_list()\n",
    "    if(root != None):\n",
    "        current.append(root)\n",
    "    \n",
    "    while(len(current) > 0):\n",
    "        result.append(current)\n",
    "        parents = current\n",
    "        current = linked_list()\n",
    "        for (parent in parents):\n",
    "            if(parent.left != None):\n",
    "                current.append(parent.left)\n",
    "            if(parent.right != None):\n",
    "                current.append(parent.right)\n",
    "    \n",
    "    return result"
   ]
  },
  {
   "cell_type": "markdown",
   "metadata": {},
   "source": [
    "### is one node reachable from another in directed graph"
   ]
  },
  {
   "cell_type": "code",
   "execution_count": null,
   "metadata": {
    "collapsed": true
   },
   "outputs": [],
   "source": [
    "from collections import defaultdict\n",
    "  \n",
    "#This class represents a directed graph using adjacency list representation\n",
    "class Graph:\n",
    "  \n",
    "    def __init__(self, vertices):\n",
    "        self.V= vertices #No. of vertices\n",
    "        self.graph = defaultdict(list) # default dictionary to store graph\n",
    "  \n",
    "    # function to add an edge to graph\n",
    "    def add_edge(self, u, v):\n",
    "        self.graph[u].append(v)\n",
    "      \n",
    "     # Use BFS to check path between s and d\n",
    "    def is_reachable(self, start, destination):\n",
    "        # Mark all the vertices as not visited\n",
    "        visited =[False]*(self.V)\n",
    "  \n",
    "        # Create a queue for BFS (FIFO)\n",
    "        queue=[]\n",
    "  \n",
    "        # Mark the source node as visited and enqueue it\n",
    "        queue.append(start)\n",
    "        visited[start] = True\n",
    "  \n",
    "        while queue:\n",
    " \n",
    "            # Dequeue a vertex from queue \n",
    "            n = queue.pop(0)\n",
    "             \n",
    "            # If this adjacent node is the destination node,\n",
    "            # then return true\n",
    "             if n == destination:\n",
    "                return True\n",
    " \n",
    "            # Else, continue to do BFS\n",
    "            for i in self.graph[n]:\n",
    "                if visited[i] == False:\n",
    "                    queue.append(i)\n",
    "                    visited[i] = True\n",
    "         # If BFS is complete without visited d\n",
    "         return False"
   ]
  },
  {
   "cell_type": "markdown",
   "metadata": {
    "collapsed": true
   },
   "source": [
    "### right side view of Binary tree"
   ]
  },
  {
   "cell_type": "code",
   "execution_count": null,
   "metadata": {},
   "outputs": [],
   "source": [
    "    class Node:\n",
    "        # A constructor to create a new Binary tree Node\n",
    "        def __init__(self, item):\n",
    "            self.data = item\n",
    "            self.left = None\n",
    "            self.right = None\n",
    "\n",
    "    # Recursive function to print right view of Binary Tree\n",
    "    # used max_level as reference list ..only max_level[0] \n",
    "    # is helpful to us\n",
    "    def rightViewUtil(root, level, max_level):\n",
    "\n",
    "        # Base Case\n",
    "        if root is None:\n",
    "            return\n",
    "\n",
    "        # If this is the last node of its level\n",
    "        if (max_level[0] < level):\n",
    "            print \"%d   \" %(root.data),\n",
    "            max_level[0] = level\n",
    "\n",
    "        # Recur for right subtree first, then left subtree\n",
    "        rightViewUtil(root.right, level+1, max_level)\n",
    "        rightViewUtil(root.left, level+1, max_level)\n",
    "\n",
    "\n",
    "    def rightView(root):\n",
    "        max_level = [0]\n",
    "        rightViewUtil(root, 1, max_level)\n",
    "\n",
    "\n",
    "    # Driver program to test above function\n",
    "    root = Node(1)\n",
    "    root.left = Node(2)\n",
    "    root.right = Node(3)\n",
    "    root.left.left = Node(4)\n",
    "    root.left.right = Node(5)\n",
    "    root.right.left = Node(6)\n",
    "    root.right.right = Node(7)\n",
    "    root.right.left.right = Node(8)\n",
    "\n",
    "    rightView(root)"
   ]
  },
  {
   "cell_type": "code",
   "execution_count": null,
   "metadata": {
    "collapsed": true
   },
   "outputs": [],
   "source": [
    "def lowestCommonAncestor(self, root, p, q):\n",
    "    if root in (None, p, q): return root\n",
    "    left, right = (self.lowestCommonAncestor(kid, p, q)\n",
    "                   for kid in (root.left, root.right))\n",
    "    return root if left and right else left or right\n",
    "\n",
    "def lowestCommonAncestor(self, root, p, q):\n",
    "    stack = [root]\n",
    "    parent = {root: None}\n",
    "    while p not in parent or q not in parent:\n",
    "        node = stack.pop()\n",
    "        if node.left:\n",
    "            parent[node.left] = node\n",
    "            stack.append(node.left)\n",
    "        if node.right:\n",
    "            parent[node.right] = node\n",
    "            stack.append(node.right)\n",
    "    ancestors = set()\n",
    "    while p:\n",
    "        ancestors.add(p)\n",
    "        p = parent[p]\n",
    "    while q not in ancestors:\n",
    "        q = parent[q]\n",
    "    return q"
   ]
  },
  {
   "cell_type": "markdown",
   "metadata": {},
   "source": [
    "### possible to partition the tree to two trees which have the equal sum of values after removing exactly one edge"
   ]
  },
  {
   "cell_type": "code",
   "execution_count": null,
   "metadata": {
    "collapsed": true
   },
   "outputs": [],
   "source": [
    "    def checkEqualTree(self, root):\n",
    "        seen = []\n",
    "\n",
    "        def sum_(node):\n",
    "            if not node: return 0\n",
    "            seen.append(sum_(node.left) + sum_(node.right) + node.val)\n",
    "            return seen[-1]\n",
    "\n",
    "        total = sum_(root)\n",
    "        seen.pop()\n",
    "        return total / 2.0 in seen"
   ]
  },
  {
   "cell_type": "markdown",
   "metadata": {},
   "source": [
    "### Find the closest leaf in a Binary Tree\n"
   ]
  },
  {
   "cell_type": "code",
   "execution_count": null,
   "metadata": {
    "collapsed": true
   },
   "outputs": [],
   "source": [
    "# Python program to find closest leaf of a\n",
    "# given key in binary tree\n",
    " \n",
    "INT_MAX = 2**32\n",
    " \n",
    "# A binary tree node\n",
    "class Node:\n",
    "    # Constructor to create a binary tree\n",
    "    def __init__(self ,key):\n",
    "        self.key = key\n",
    "        self.left  = None\n",
    "        self.right = None\n",
    " \n",
    "def closestDown(root):\n",
    "    #Base Case\n",
    "    if root is None:\n",
    "        return INT_MAX\n",
    "    if root.left is None and root.right is None:\n",
    "        return 0\n",
    "     \n",
    "    # Return minum of left and right plus one\n",
    "    return 1 + min(closestDown(root.left),\n",
    "                   closestDown(root.right))\n",
    " \n",
    "# Returns distance of the closest leaf to a given key k\n",
    "# The array ancestors is used to keep track of ancestors\n",
    "# of current node and 'index' is used to keep track of\n",
    "# current index in 'ancestors[i]'\n",
    "def findClosestUtil(root, k, ancestors, index):\n",
    "    # Base Case \n",
    "    if root is None:\n",
    "        return INT_MAX\n",
    "     \n",
    "    # if key found\n",
    "    if root.key == k:\n",
    "        # Find closest leaf under the subtree rooted\n",
    "        # with given key\n",
    "        res = closestDown(root)\n",
    "         \n",
    "        # Traverse ll ancestors and update result if any\n",
    "        # parent node gives smaller distance\n",
    "        for i in reversed(range(0, index)):\n",
    "            res = min(res, index - i + closestDown(ancestors[i]))\n",
    "        return res\n",
    " \n",
    "    # if key node found, store current node and recur for left\n",
    "    # and right childrens\n",
    "    ancestors[index] = root\n",
    "    return min(\n",
    "        findClosestUtil(root.left, k, ancestors, index + 1),\n",
    "        findClosestUtil(root.right, k, ancestors, index + 1))\n",
    " \n",
    "# The main function that return distance of the clses key to\n",
    "# 'key'. It mainly uses recursive function findClosestUtil()\n",
    "# to find the closes distance\n",
    "def findClosest(root, k):\n",
    "    # Create an arrray to store ancestors\n",
    "    # Assumption: Maximum height of tree is 100\n",
    "    ancestors = [None for i in range(100)]\n",
    " \n",
    "    return findClosestUtil(root, k, ancestors, 0)\n",
    " "
   ]
  },
  {
   "cell_type": "markdown",
   "metadata": {},
   "source": [
    "# Parenthesis / Brackets"
   ]
  },
  {
   "cell_type": "markdown",
   "metadata": {},
   "source": [
    "###  print all combinations of valid parenthesis "
   ]
  },
  {
   "cell_type": "code",
   "execution_count": null,
   "metadata": {
    "collapsed": true
   },
   "outputs": [],
   "source": [
    "# 9.6 \n",
    "def print_all_parens(n):\n",
    "    def print_parens(left, right, s):\n",
    "        if right == n:\n",
    "            print(s)\n",
    "            return\n",
    "        if left < n:\n",
    "            print_parens(left + 1, right, s + \"(\")\n",
    "        if right < left:\n",
    "            print_parens(left, right + 1, s + \")\")\n",
    "\n",
    "    print_parens(0, 0, \"\")"
   ]
  },
  {
   "cell_type": "code",
   "execution_count": null,
   "metadata": {},
   "outputs": [],
   "source": [
    "print_all_parens(3)"
   ]
  },
  {
   "cell_type": "markdown",
   "metadata": {},
   "source": [
    "### check if brackets match"
   ]
  },
  {
   "cell_type": "code",
   "execution_count": null,
   "metadata": {
    "collapsed": true
   },
   "outputs": [],
   "source": [
    "def bracketsMatch(a, b):\n",
    "    if a == \"{\" and b == \"}\":\n",
    "        return True\n",
    "    if a == \"(\" and b == \")\":\n",
    "        return True\n",
    "    if a == \"[\" and b == \"]\":\n",
    "        return True\n",
    "    else:\n",
    "        return False\n",
    "    \n",
    "def isOpen (a):\n",
    "    if a == '{' or a == '(' or a == '[':\n",
    "        return True\n",
    "    else:\n",
    "        return False\n",
    "\n",
    "def is_matched(expression):\n",
    "    stack = ['x']\n",
    "    for char in expression:\n",
    "        if isOpen(char):\n",
    "            stack.append(char)\n",
    "        else:\n",
    "            if bracketsMatch(stack.pop(-1), char) is False:\n",
    "                return False\n",
    "    \n",
    "    if len(stack) == 1:\n",
    "        return True\n",
    "    else:\n",
    "        return False"
   ]
  },
  {
   "cell_type": "markdown",
   "metadata": {},
   "source": [
    "# Pairs"
   ]
  },
  {
   "cell_type": "markdown",
   "metadata": {},
   "source": [
    "### find pairs which has absolute value k"
   ]
  },
  {
   "cell_type": "code",
   "execution_count": null,
   "metadata": {
    "collapsed": true
   },
   "outputs": [],
   "source": [
    "def find_pairs(nums, k):\n",
    "    count = 0\n",
    "    nums = sorted(nums)\n",
    "    i = 0\n",
    "    j = 1\n",
    "\n",
    "    while (j < len(nums)):\n",
    "        j = max(i+1, j)\n",
    "        print (\"outer j\", j)\n",
    "        if j >= len(nums):\n",
    "            return count\n",
    "        while((j < (len(nums) - 1 )) & (abs (nums[i] - nums[j]) < k)):\n",
    "            j += 1\n",
    "            print j\n",
    "\n",
    "\n",
    "        if (abs(nums[i] - nums[j]) == k):\n",
    "            print (\"pair\",nums[i], nums[j])\n",
    "            count += 1\n",
    "\n",
    "        i += 1\n",
    "        while ((i < (len(nums) - 1)) & (nums[i] == nums[i-1])):\n",
    "            i += 1\n",
    "            print i\n",
    "            print (\"j\",j)\n",
    "\n",
    "        return count"
   ]
  },
  {
   "cell_type": "code",
   "execution_count": null,
   "metadata": {
    "collapsed": true
   },
   "outputs": [],
   "source": [
    "def pairs( nums):\n",
    "    diction = []\n",
    "    i = 0\n",
    "    j = 1\n",
    "\n",
    "    while (i < len(nums) - 1):\n",
    "        while(j < (len(nums) )):\n",
    "            diction.append((nums[i], nums[j]))\n",
    "            j += 1                \n",
    "\n",
    "        i += 1\n",
    "        j = i + 1\n",
    "\n",
    "    return diction\n",
    "set((a,b) if a<=b else (b,a) for a,b in pairs([-1, 0, 1, 2, -1, -4]))"
   ]
  },
  {
   "cell_type": "code",
   "execution_count": null,
   "metadata": {
    "collapsed": true
   },
   "outputs": [],
   "source": [
    "def findLongestChain(pairs):\n",
    "    cur, res = float('-inf'), 0\n",
    "    for p in sorted(pairs, key=lambda x: x[1]):\n",
    "        if cur < p[0]:\n",
    "            cur = p[1] \n",
    "            res += 1\n",
    "    return res"
   ]
  },
  {
   "cell_type": "markdown",
   "metadata": {},
   "source": [
    "# Change and cents"
   ]
  },
  {
   "cell_type": "code",
   "execution_count": null,
   "metadata": {
    "collapsed": true
   },
   "outputs": [],
   "source": [
    "customer_bill = [20, 10]\n",
    "# 5, 5, 10 -> true, \n",
    "# 10, 10 -> false\n",
    "\n"
   ]
  },
  {
   "cell_type": "code",
   "execution_count": null,
   "metadata": {
    "collapsed": true
   },
   "outputs": [],
   "source": [
    "def do_i_have_change(customer_bill):\n",
    "    change = {}\n",
    "    for i in customer_bill:\n",
    "        if (i == 5):\n",
    "            change[i] = 1 if i not in change else change[i] + 1 \n",
    "        if (i == 10):\n",
    "            if 5 in change: \n",
    "                if (change[5] > 0):\n",
    "                    change[5] -= 1\n",
    "                    change[i] = 1 if i not in change else change[i] + 1\n",
    "                else:\n",
    "                    return False \n",
    "            else: \n",
    "                return False \n",
    "        if (i == 20):\n",
    "            if 10 in change:\n",
    "                if (change[10] > 0):\n",
    "                    change[10] -= 1\n",
    "                    if (change[5] > 0):\n",
    "                        change[5] -= 1\n",
    "                    else:\n",
    "                        return False\n",
    "            elif 5 in change:\n",
    "                if(change[5] >= 3):\n",
    "                    change[5] -= 3\n",
    "                else: \n",
    "                    return False \n",
    "            else:\n",
    "                return False\n",
    "            change[i] = 1 if i not in change else change[i] + 1 \n",
    "    \n",
    "    return True "
   ]
  },
  {
   "cell_type": "code",
   "execution_count": null,
   "metadata": {},
   "outputs": [],
   "source": [
    "do_i_have_change(customer_bill)"
   ]
  },
  {
   "cell_type": "code",
   "execution_count": null,
   "metadata": {
    "collapsed": true
   },
   "outputs": [],
   "source": [
    "def test_change(customer_bill):    \n",
    "    change = [5]\n",
    "    if customer_bill[0] != 5: \n",
    "        return False\n",
    "    else: \n",
    "        for i in range(2, len(customer_bill) - 1):\n",
    "            if customer_bill[i] == 5: \n",
    "                customer_bill.append(5)\n",
    "            elif customer_bill[i] == 10: \n",
    "                indices = [i for i, x in enumerate(a) if x == 5]\n",
    "                if (len(indices)>0):\n",
    "                    customer_bill.remove(5)\n",
    "                    customer_bill.append(10)\n",
    "                else: \n",
    "                    return False\n",
    "            else: \n",
    "                indices = [i for i, x in enumerate(a) if x == 5]\n",
    "                indices_2 = [i for i, x in enumerate(a) if x == 10]\n",
    "                if len(indices) > 2:\n",
    "                    customer_bill.remove(5)\n",
    "                    customer_bill.remove(5)\n",
    "                    customer_bill.remove(5)\n",
    "                    customer_bill.append(20)\n",
    "                if (len(indices) > 0 & len(indices_2) > 0):\n",
    "                    customer_bill.remove(10)\n",
    "                    customer_bill.remove(5)\n",
    "                    customer_bill.append(20)\n",
    "    return True\n",
    "\n"
   ]
  },
  {
   "cell_type": "markdown",
   "metadata": {},
   "source": [
    "### Find minimum number of coins that make a given value"
   ]
  },
  {
   "cell_type": "code",
   "execution_count": null,
   "metadata": {
    "collapsed": true
   },
   "outputs": [],
   "source": [
    "import sys\n",
    " \n",
    "# m is size of coins array (number of different coins)\n",
    "def min_coins(coins, V):\n",
    "    \n",
    "    # base case\n",
    "    if (V == 0):\n",
    "        return 0\n",
    " \n",
    "    # Initialize result\n",
    "    res = sys.maxsize\n",
    "     \n",
    "    # Try every coin that has smaller value than V\n",
    "    for i in range(len(coins)):\n",
    "        if (coins[i] <= V):\n",
    "            sub_res = 1 + min_coins(coins, V - coins[i])\n",
    " \n",
    "            if (sub_res < res):\n",
    "                res = sub_res \n",
    " \n",
    "    return res"
   ]
  },
  {
   "cell_type": "markdown",
   "metadata": {},
   "source": [
    " ### write number of ways to represent n cents (given: 1,5, 10, 25)\n"
   ]
  },
  {
   "cell_type": "code",
   "execution_count": null,
   "metadata": {
    "collapsed": true
   },
   "outputs": [],
   "source": [
    "# 9.8\n",
    "def ways_to_represent_cents(n, ways = []):\n",
    "    if n < 0:\n",
    "        return 0\n",
    "    \n",
    "    if n==0:\n",
    "        return 1\n",
    "    \n",
    "    elif ways[n] > -1:\n",
    "        return ways[n]\n",
    "    \n",
    "    else:\n",
    "        ways[n] = (ways_to_represent_cents(n-1, ways) + ways_to_represent_cents(n-5, ways)\n",
    "                    + ways_to_represent_cents(n-10, ways) + ways_to_represent_cents(n-25, ways))\n",
    "        \n",
    "    return ways[n]"
   ]
  },
  {
   "cell_type": "markdown",
   "metadata": {},
   "source": [
    "# Sort"
   ]
  },
  {
   "cell_type": "markdown",
   "metadata": {
    "collapsed": true
   },
   "source": [
    "## Quick sort "
   ]
  },
  {
   "cell_type": "markdown",
   "metadata": {},
   "source": [
    "Worst Case: The worst case occurs when the partition process always picks greatest or smallest element as pivot.  \n",
    "T(n) = T(n-1) + O(n) = O(n^2)\n",
    "Best Case: Best Case: The best case occurs when the partition process always picks the middle element as pivot\n",
    " T(n) = 2T(n/2) + \\theta(n) = O(NlogN) \n"
   ]
  },
  {
   "cell_type": "code",
   "execution_count": null,
   "metadata": {
    "collapsed": true
   },
   "outputs": [],
   "source": [
    "def partition(arr, low, high):\n",
    "    pivot = arr[(low + high) // 2]     # pivot\n",
    "    \n",
    "    while (low <= high - 1):\n",
    "\n",
    "        # If current element is smaller than or\n",
    "        # equal to pivot\n",
    "        while (arr[low] < pivot):\n",
    "\n",
    "            # increment index of smaller element\n",
    "            low += 1\n",
    "        while (arr[high] > pivot) :\n",
    "\n",
    "            high -= 1\n",
    "\n",
    "        if (low <= high):\n",
    "            temp = arr[high] \n",
    "            arr[high] = arr[low]\n",
    "            arr[low] = temp \n",
    "            low += 1\n",
    "            high -= 1 \n",
    "        \n",
    "        \n",
    "    print arr\n",
    "    return low\n",
    " \n",
    "def quickSort(arr, low, high):\n",
    "    if low < high:\n",
    " \n",
    "        # pi is partitioning index, arr[p] is now\n",
    "        # at right place cause we have moved everything smaller to the left \n",
    "        # and bigger to the right.\n",
    "        pi = partition(arr, low, high)\n",
    "        print pi\n",
    "        # Separately sort elements before\n",
    "        # partition and after partition\n",
    "        quickSort(arr, low, pi-1)\n",
    "        quickSort(arr, pi, high)\n",
    "    return arr"
   ]
  },
  {
   "cell_type": "markdown",
   "metadata": {},
   "source": [
    "## Merge sort "
   ]
  },
  {
   "cell_type": "markdown",
   "metadata": {},
   "source": [
    "T(n) = 2T(n/2) + \\Theta(n)\n",
    "linear time to merge "
   ]
  },
  {
   "cell_type": "code",
   "execution_count": null,
   "metadata": {
    "collapsed": true
   },
   "outputs": [],
   "source": [
    "# Merges two subarrays of arr[].\n",
    "# First subarray is arr[l..m]\n",
    "# Second subarray is arr[m+1..r]\n",
    "def merge(arr, l, m, r):\n",
    "    swap = 0 \n",
    "    n1 = m - l + 1\n",
    "    n2 = r- m\n",
    " \n",
    "    # create temp arrays\n",
    "    L = [0] * (n1)\n",
    "    R = [0] * (n2)\n",
    " \n",
    "    # Copy data to temp arrays L[] and R[]\n",
    "    for i in range(0 , n1):\n",
    "        L[i] = arr[l + i]\n",
    " \n",
    "    for j in range(0 , n2):\n",
    "        R[j] = arr[m + 1 + j]\n",
    " \n",
    "    # Merge the temp arrays back into arr[l..r]\n",
    "    i = 0     # Initial index of first subarray\n",
    "    j = 0     # Initial index of second subarray\n",
    "    k = l     # Initial index of merged subarray\n",
    " \n",
    "    while i < n1 and j < n2 :\n",
    "        if L[i] <= R[j]:\n",
    "            arr[k] = L[i]\n",
    "            i += 1\n",
    "        else:\n",
    "            arr[k] = R[j]\n",
    "            j += 1\n",
    "            swap += 1\n",
    "        k += 1\n",
    " \n",
    "    # Copy the remaining elements of L[], if there\n",
    "    # are any\n",
    "    while i < n1:\n",
    "        arr[k] = L[i]\n",
    "        i += 1\n",
    "        k += 1\n",
    " \n",
    "    # Copy the remaining elements of R[], if there\n",
    "    # are any\n",
    "    while j < n2:\n",
    "        arr[k] = R[j]\n",
    "        j += 1\n",
    "        k += 1\n",
    "    return swap\n",
    " \n",
    "# l is for left index and r is right index of the\n",
    "# sub-array of arr to be sorted\n",
    "def mergeSort(arr, l, r, a =[]):\n",
    "    count = 0\n",
    "    if l < r:\n",
    " \n",
    "        # Same as (l+r)/2, but avoids overflow for\n",
    "        # large l and h\n",
    "        m = (l+(r-1))/2\n",
    " \n",
    "        # Sort first and second halves\n",
    "        mergeSort(arr, l, m)\n",
    "        mergeSort(arr, m+1, r)\n",
    "        count += merge(arr, l, m, r)\n",
    "        a.append(count)\n",
    "        return a"
   ]
  },
  {
   "cell_type": "markdown",
   "metadata": {},
   "source": [
    "### Heapsort"
   ]
  },
  {
   "cell_type": "code",
   "execution_count": null,
   "metadata": {
    "collapsed": true
   },
   "outputs": [],
   "source": [
    "def swap(A, i, j):\n",
    "    temp = A[i] \n",
    "    A[i] = A[j]\n",
    "    A[j] = temp\n",
    "    return A\n",
    "\n",
    "\n",
    "def max_heapify(A, index):\n",
    "    heap_size = len(A)\n",
    "    left_child = 2 * index + 1\n",
    "    right_child = 2 * index + 2\n",
    "    largest = index\n",
    "    if (left_child < heap_size):\n",
    "        if((left_child <= heap_size) & (A[left_child] > A[index])):\n",
    "            largest = left_child\n",
    "\n",
    "    if(right_child < heap_size):\n",
    "        if (A[right_child] > A[largest]):\n",
    "            largest = right_child\n",
    "    if (largest != index):\n",
    "        swap(A, index, largest)\n",
    "        max_heapify(A, largest)\n",
    "    return A\n",
    "\n",
    "def build_max_heap(A):\n",
    "    n = len(A)\n",
    "    for index in range(((n // 2) - 1), -1, -1):\n",
    "        max_heapify(A, index)\n",
    "    return A\n",
    "       \n",
    "    \n",
    "def heap_sort(A):\n",
    "    sorted_array = []\n",
    "    n = len(A)\n",
    "    for length in range(n, 0, -1):\n",
    "        A = build_max_heap(A[0:length])\n",
    "        A = swap(A, (length - 1), 0)\n",
    "        sorted_array.append(A[length - 1])\n",
    "    return (sorted_array)\n",
    "\n",
    "\n",
    "sqc = [2, 7, 1, -2, 56, 5, 3]\n",
    "heap_sort(sqc)\n",
    "# print(sqc)"
   ]
  },
  {
   "cell_type": "markdown",
   "metadata": {
    "collapsed": true
   },
   "source": [
    "### Given two sorted arrays A, B, where A has extra buffer\n",
    "### write a method to merge 11.1"
   ]
  },
  {
   "cell_type": "code",
   "execution_count": null,
   "metadata": {
    "collapsed": true
   },
   "outputs": [],
   "source": [
    "def _merge(a, b, last_a, last_b):\n",
    "    idx_a = last_a -1\n",
    "    idx_b = last_b -1\n",
    "    idx_merged = last_a + last_b - 1\n",
    "    \n",
    "    while((idx_a >= 0) & (idx_b >= 0)):\n",
    "        if(a[idx_a] > b[idx_b]):\n",
    "            a[idx_merged] = a[idx_a]\n",
    "            idx_merged -= 1\n",
    "            idx_a -= 1\n",
    "        else:\n",
    "            a[idx_merged] = b[idx_b]\n",
    "            idx_merged -= 1\n",
    "            idx_b -= 1\n",
    "            \n",
    "    while(idx_b >= 0):\n",
    "        a[idx_merged] = b[idx_b]\n",
    "        idx_merged -= 1\n",
    "        idx_b -= 1\n",
    "        \n",
    "            "
   ]
  },
  {
   "cell_type": "code",
   "execution_count": null,
   "metadata": {
    "collapsed": true
   },
   "outputs": [],
   "source": [
    "# 11.2"
   ]
  },
  {
   "cell_type": "code",
   "execution_count": null,
   "metadata": {
    "collapsed": true
   },
   "outputs": [],
   "source": [
    "from collections import defaultdict\n",
    "def anagram_grouping(strings):\n",
    "    new_list = []\n",
    "    diction = defaultdict(list)\n",
    "\n",
    "    for s in strings:\n",
    "        diction[''.join(sorted(s))].append(s)\n",
    "        print diction\n",
    "\n",
    "    for k, v in diction.items():\n",
    "        new_list.append(v)\n",
    "        \n",
    "    flat_list = [item for sublist in new_list for item in sublist]\n",
    "    ## equivalent to \n",
    "#     for sublist in l:\n",
    "#         for item in sublist:\n",
    "#             flat_list.append(item)\n",
    "    return flat_list"
   ]
  },
  {
   "cell_type": "code",
   "execution_count": null,
   "metadata": {},
   "outputs": [],
   "source": [
    "anagram_grouping(['race','care','acre', 'cat', 'tac'])"
   ]
  },
  {
   "cell_type": "code",
   "execution_count": null,
   "metadata": {
    "collapsed": true
   },
   "outputs": [],
   "source": [
    "# 11.3"
   ]
  },
  {
   "cell_type": "markdown",
   "metadata": {
    "collapsed": true
   },
   "source": [
    "### sorted array has been rotated/ shifted --> find an element in the array"
   ]
  },
  {
   "cell_type": "code",
   "execution_count": null,
   "metadata": {
    "collapsed": true
   },
   "outputs": [],
   "source": [
    "def rotated_bin_search(arr, left, right, x):\n",
    "    mid = (left + right) / 2\n",
    "    if (x == arr[mid]):\n",
    "        return mid\n",
    "    if (right < left):\n",
    "        return -1\n",
    "    \n",
    "    if(arr[left] < arr[mid]):\n",
    "        if (x >= arr[left] & x <= arr[mid]):\n",
    "            return (rotated_bin_search(arr, left, mid - 1, x))\n",
    "        \n",
    "        else:\n",
    "            return (rotated_bin_search(arr, mid + 1, right, x))\n",
    "    elif (arr[mid] < arr[left]):\n",
    "        if(x >= arr[mid] & x<= arr[right]):\n",
    "            return (rotated_bin_search(arr, mid + 1, right, x))\n",
    "        else:\n",
    "            return (rotated_bin_search(arr, left, mid - 1, x))\n",
    "        \n",
    "    elif (arr[mid] == arr[left]):\n",
    "        if (arr[mid] != arr[right]):\n",
    "             return (rotated_bin_search(arr, mid + 1, right, x))\n",
    "        else:\n",
    "            result = rotated_bin_search(arr, left, mid - 1, x)\n",
    "            if (result == -1):\n",
    "                return (rotated_bin_search(arr, mid + 1, right, x))\n",
    "            else:\n",
    "                return result\n",
    "    return -1\n",
    "        "
   ]
  },
  {
   "cell_type": "code",
   "execution_count": null,
   "metadata": {
    "collapsed": true
   },
   "outputs": [],
   "source": [
    "# 11.5"
   ]
  },
  {
   "cell_type": "code",
   "execution_count": null,
   "metadata": {
    "collapsed": true
   },
   "outputs": [],
   "source": [
    "# Given sorted array of strings with empty ones find location of a string"
   ]
  },
  {
   "cell_type": "code",
   "execution_count": null,
   "metadata": {
    "collapsed": true
   },
   "outputs": [],
   "source": [
    "def search_r(strings, search_str, first, last):\n",
    "    if(first > last): \n",
    "        return -1\n",
    "    \n",
    "    mid = (last + first) / 2\n",
    "    if (strings[mid] == \"\"):\n",
    "        left = mid - 1\n",
    "        right = mid + 1\n",
    "        while True: \n",
    "            if((left < first) & (right > last)):\n",
    "                return -1\n",
    "            elif((right <= last) & (strings[right] != \"\")):\n",
    "                mid = right\n",
    "                break\n",
    "            elif((left >= first) & (strings[left] != \"\")):\n",
    "                mid = left\n",
    "                break\n",
    "            right += 1\n",
    "            left -= 1\n",
    "            \n",
    "    if(search_str == strings[mid]):\n",
    "        return mid\n",
    "    elif(strings[mid] < search_str):\n",
    "        return search_r(strings, search_str, mid + 1, last)\n",
    "     else:\n",
    "        return search_r(strings, search_str, first, mid - 1)\n",
    "    \n",
    "    "
   ]
  },
  {
   "cell_type": "code",
   "execution_count": null,
   "metadata": {
    "collapsed": true
   },
   "outputs": [],
   "source": [
    "# 11.6 "
   ]
  },
  {
   "cell_type": "code",
   "execution_count": null,
   "metadata": {
    "collapsed": true
   },
   "outputs": [],
   "source": [
    "# find an elemnt in a ascending order matrix "
   ]
  },
  {
   "cell_type": "code",
   "execution_count": null,
   "metadata": {
    "collapsed": true
   },
   "outputs": [],
   "source": [
    "def find_element_in_matrix(matrix, elem):\n",
    "    row = 0\n",
    "    col = len(matrix[0]) - 1\n",
    "    while(row < len(matrix) & (col >= 0)):\n",
    "        if(matrix[row][col] == elem):\n",
    "            return True\n",
    "        elif(matrix[row][col] > elem):\n",
    "            col -= 1\n",
    "        else:\n",
    "            row += 1\n",
    "            \n",
    "    return False"
   ]
  },
  {
   "cell_type": "markdown",
   "metadata": {},
   "source": [
    "# Search algo."
   ]
  },
  {
   "cell_type": "markdown",
   "metadata": {},
   "source": [
    "### Depth first"
   ]
  },
  {
   "cell_type": "code",
   "execution_count": null,
   "metadata": {},
   "outputs": [],
   "source": [
    "graph = {'A': set(['B', 'C']),\n",
    "         'B': set(['A', 'D', 'E']),\n",
    "         'C': set(['A', 'F']),\n",
    "         'D': set(['B']),\n",
    "         'E': set(['B', 'F']),\n",
    "         'F': set(['C', 'E'])}\n",
    "\n",
    "def dfs(graph, start):\n",
    "    visited, stack = list(), [start]\n",
    "    while stack:\n",
    "        vertex = stack.pop()\n",
    "        if vertex not in visited:\n",
    "            visited.append(vertex)\n",
    "            stack.extend(graph[vertex] - set(visited))\n",
    "    return visited\n",
    "\n",
    "dfs(graph, 'A') # {'E', 'D', 'F', 'A', 'C', 'B'}\n"
   ]
  },
  {
   "cell_type": "code",
   "execution_count": null,
   "metadata": {},
   "outputs": [],
   "source": [
    "def dfs_paths(graph, start, goal):\n",
    "    stack = [(start, [start])]\n",
    "    while stack:\n",
    "        (vertex, path) = stack.pop()\n",
    "        for next in graph[vertex] - set(path):\n",
    "            if next == goal:\n",
    "                yield path + [next]\n",
    "            else:\n",
    "                stack.append((next, path + [next]))\n",
    "\n",
    "list(dfs_paths(graph, 'A', 'F')) "
   ]
  },
  {
   "cell_type": "markdown",
   "metadata": {},
   "source": [
    "# Dynammic programming/ recurssion"
   ]
  },
  {
   "cell_type": "code",
   "execution_count": null,
   "metadata": {
    "collapsed": true
   },
   "outputs": [],
   "source": [
    "def min_cost_climbing_stairs(cost):\n",
    "\n",
    "    dp = [0]*(len(cost))\n",
    "    dp[0], dp[1]=cost[0], cost[1]\n",
    "\n",
    "    for i in range(2,len(cost)):\n",
    "        dp[i] = min(dp[i-2] + cost[i], dp[i-1] + cost[i])\n",
    "\n",
    "\n",
    "    return min(dp[-2], dp[-1])"
   ]
  },
  {
   "cell_type": "code",
   "execution_count": null,
   "metadata": {
    "collapsed": true
   },
   "outputs": [],
   "source": [
    "floors = 4\n",
    "ways = (floors + 1) * [-1]\n",
    "\n",
    "def run_staircae(floors, ways):\n",
    "    if floors < 0:\n",
    "        return 0\n",
    "    \n",
    "    elif floors == 0:\n",
    "        return 1\n",
    "    \n",
    "    elif ways[floors ] > -1:\n",
    "        return ways[floors]\n",
    "  \n",
    "    else:\n",
    "        ways[floors] = long(run_staircae(floors - 1, ways) + run_staircae(floors - 2, ways) + run_staircae(floors-3, ways))\n",
    "        print ways\n",
    "        \n",
    "        return ways[floors] \n",
    "    "
   ]
  },
  {
   "cell_type": "code",
   "execution_count": null,
   "metadata": {
    "collapsed": true
   },
   "outputs": [],
   "source": [
    "def check_valid(columns, row_1, column_1):\n",
    "    \n",
    "    for row_2 in range(row_1):\n",
    "        \n",
    "        column_2 = columns[row_2]\n",
    "        if (column_1 == column_2):\n",
    "            return False\n",
    "        \n",
    "        column_dist = abs(column_2 - column_1)\n",
    "        row_dist = (row_1 - row_2)\n",
    "        \n",
    "        if (column_dist == row_dist):\n",
    "            return False\n",
    "    \n",
    "    return True\n",
    "\n",
    "def queen_arrange(new_row , occupied_columns = [], results = []):\n",
    "    grid_size = 8\n",
    "    \n",
    "    if(new_row == grid_size):\n",
    "        return results.append(occupied_columns[:])\n",
    "    \n",
    "    for new_col in range(grid_size):\n",
    "        if(check_valid(occupied_columns, new_row, new_col) is True):\n",
    "            occupied_columns[new_row] = new_col\n",
    "            queen_arrange(new_row + 1, occupied_columns, results)\n",
    "            \n",
    "    return results"
   ]
  },
  {
   "cell_type": "markdown",
   "metadata": {},
   "source": [
    "### maguic when A[i] = i"
   ]
  },
  {
   "cell_type": "code",
   "execution_count": null,
   "metadata": {
    "collapsed": true
   },
   "outputs": [],
   "source": [
    "def magic_index_distinct_vals(arr, start, end):\n",
    "    \n",
    "    if(end < start | start < 0 | end >= len(arr)):\n",
    "        return 'None'\n",
    "    \n",
    "    mid = (start + end)//2\n",
    "     \n",
    "    if arr[mid] == mid:\n",
    "        return mid \n",
    "    \n",
    "    elif arr[mid] < mid:\n",
    "        return magic_index_distinct_vals(arr, mid + 1, end)\n",
    "    else:\n",
    "        return magic_index_distinct_vals(arr, start, mid - 1)\n",
    "        \n",
    "    "
   ]
  },
  {
   "cell_type": "code",
   "execution_count": null,
   "metadata": {
    "collapsed": true
   },
   "outputs": [],
   "source": [
    "def magic_index_non_distinct_vals(arr, start, end):\n",
    "    if((end < start) | (start < 0) | (end >= len(arr))):\n",
    "        return -1\n",
    "    \n",
    "    mid = (start + end)//2\n",
    "     \n",
    "    if arr[mid] == mid:\n",
    "        return mid \n",
    "    \n",
    "    left_idx = min(mid - 1, arr[mid])\n",
    "    left =  magic_index_non_distinct_vals(arr, start, left_idx)\n",
    "    \n",
    "    if left >= 0:\n",
    "        return left\n",
    "    \n",
    "    right_idx = max(mid + 1, arr[mid])\n",
    "    right = magic_index_non_distinct_vals(arr, right_idx, end)\n",
    "    \n",
    "    if right >= 0:\n",
    "        return right\n",
    "    \n",
    "    return  "
   ]
  },
  {
   "cell_type": "code",
   "execution_count": null,
   "metadata": {
    "collapsed": true
   },
   "outputs": [],
   "source": [
    "def robot_walk(x, y, ways = [], count=0):\n",
    "    \n",
    "    # short answer is x+y choose x\n",
    "    \n",
    "    if count == 0:\n",
    "        ways = [-1] * (-x + 1) \n",
    "        for i in range(-x + 1):\n",
    "            ways[i] = [-1] * (y + 1)\n",
    "    \n",
    "    if x > 0:\n",
    "        return 0\n",
    "    \n",
    "    if x==0:\n",
    "        return 1\n",
    "        \n",
    "    if y==0:\n",
    "        return 1\n",
    "    \n",
    "    if y < 0: \n",
    "        return 0\n",
    "    \n",
    "    elif ways[-x][y] > -1:\n",
    "        return ways[-x][y]\n",
    "    \n",
    "    else:\n",
    "        count += 1\n",
    "        ways[-x][y] = robot_walk(x + 1, y, ways, count) + robot_walk(x, y - 1, ways, count)\n",
    "    \n",
    "    return ways[-x][y]"
   ]
  },
  {
   "cell_type": "markdown",
   "metadata": {},
   "source": [
    "# Matrix"
   ]
  },
  {
   "cell_type": "code",
   "execution_count": null,
   "metadata": {
    "collapsed": true
   },
   "outputs": [],
   "source": [
    "Grid  = [1]*10 \n",
    "for i in range(len(Grid)):\n",
    "    Grid[i] = [1]*7 # columns"
   ]
  },
  {
   "cell_type": "code",
   "execution_count": null,
   "metadata": {},
   "outputs": [],
   "source": [
    "Grid[9][2]"
   ]
  },
  {
   "cell_type": "code",
   "execution_count": null,
   "metadata": {
    "collapsed": true
   },
   "outputs": [],
   "source": [
    "def zero_row_col_with_zero_elem(matrix):\n",
    "    \n",
    "    rows = [False]*len(matrix)\n",
    "    columns = [False]*len(matrix[0][:])\n",
    "    \n",
    "    n_matrix = [0] * len(rows)\n",
    "    for i in range(n):\n",
    "        n_matrix[i] = [0] * len(columns)\n",
    "    \n",
    "    for r in range(len(rows)):\n",
    "        for c in range(len(columns)):\n",
    "            if matrix[r][c] == 0:\n",
    "                rows[r] = True\n",
    "                columns[c] = True\n",
    "                break\n",
    "    \n",
    "    for r in range(len(rows)):\n",
    "        for c in range(len(columns)):\n",
    "            if (rows[r] | columns[c]):\n",
    "                n_matrix[r][c] = 0\n",
    "            else: \n",
    "                n_matrix[r][c] = matrix[r][c]\n",
    "    \n",
    "    return n_matrix"
   ]
  },
  {
   "cell_type": "markdown",
   "metadata": {},
   "source": [
    "# Binary Search"
   ]
  },
  {
   "cell_type": "markdown",
   "metadata": {},
   "source": [
    "### find the index of last number in array that equals X\n"
   ]
  },
  {
   "cell_type": "code",
   "execution_count": null,
   "metadata": {
    "collapsed": true
   },
   "outputs": [],
   "source": [
    "# arr is an ordered array\n",
    "def search_last(arr, x):\n",
    "    n = len(arr)\n",
    "    i = 0\n",
    "    j = n - 1\n",
    "    while(j-i > 1):\n",
    "        m = (i + j) // 2\n",
    "        if(arr[m] <= x):\n",
    "            i = m \n",
    "        else:\n",
    "            j = m\n",
    "    return i"
   ]
  },
  {
   "cell_type": "markdown",
   "metadata": {},
   "source": [
    "### find the index of first number in array that equals X"
   ]
  },
  {
   "cell_type": "code",
   "execution_count": null,
   "metadata": {
    "collapsed": true
   },
   "outputs": [],
   "source": [
    "# arr is an ordered array\n",
    "def search_first(arr, x):\n",
    "    n = len(arr)\n",
    "    i = 0\n",
    "    j = n - 1\n",
    "    while(j > i):\n",
    "        m = (i + j) // 2\n",
    "        if(arr[m] < x):\n",
    "            i = m + 1 \n",
    "        else:\n",
    "            j = m\n",
    "    if (arr[i] == x):\n",
    "        return i \n",
    "    else:\n",
    "        return None"
   ]
  },
  {
   "cell_type": "markdown",
   "metadata": {},
   "source": [
    "###  find the reset point (minimum element in a shifted/ rotated sorted array)"
   ]
  },
  {
   "cell_type": "code",
   "execution_count": null,
   "metadata": {
    "collapsed": true
   },
   "outputs": [],
   "source": [
    "# naive way - loop all elments \n",
    "# binary search approach\n",
    "def min_search_shitfed_sorted_array(arr):\n",
    "    # arr is a sorted array \n",
    "    i = 0 \n",
    "    j = len(arr) - 1\n",
    "    while (j-i > 1):\n",
    "        m = (i + j) // 2\n",
    "        if (arr[m] > arr[i]):\n",
    "            i = m \n",
    "        else: \n",
    "            j = m \n",
    "    \n",
    "\n",
    "    return j\n",
    "        "
   ]
  },
  {
   "cell_type": "code",
   "execution_count": null,
   "metadata": {
    "collapsed": true
   },
   "outputs": [],
   "source": [
    "# shortest path /max product/ knapsack/"
   ]
  },
  {
   "cell_type": "code",
   "execution_count": null,
   "metadata": {
    "collapsed": true
   },
   "outputs": [],
   "source": [
    "def shortest_path(log_transition, start_pos, end_pos):\n",
    "    N = shape(log_transition)[0]\n",
    "    messages = {}\n",
    "    E = [0]*N\n",
    "\n",
    "    # given start position s1 = a\n",
    "    # given end state st = b\n",
    "    E[0] = log_transition(start_pos, end_pos)\n",
    "    for i in range(N):\n",
    "        log_transition[i, i] = 0\n",
    "    \n",
    "    \n",
    "    messages[0] = log_transition[state_from, :] \n",
    "    for t in range(1, N, 1):\n",
    "        message[t] = [0] * N\n",
    "        for state_from in range(N):\n",
    "            message[t][state_from] = max(message[t-1] + log_transition[state_from, :])\n",
    "        E[t] = message[t][end_pos]   \n",
    "        \n",
    "    # backtrack\n",
    "\n",
    "    t_opt = np.argmax(E)\n",
    "    log_prob = max(E)\n",
    "    optimal_state = [-1] * t_opt\n",
    "    optimal_state[0] = start_pos\n",
    "    if(np.isfinite(log_prob)):\n",
    "        optimal_state[t_opt] = end_pos\n",
    "        for t in range(t_opt, 2, -1):\n",
    "            optimal_state[t-1] = np.argmax(message[t-1] + logtransition[optimal_state[t,:]]\n",
    "    return optimal_state"
   ]
  },
  {
   "cell_type": "code",
   "execution_count": null,
   "metadata": {
    "collapsed": true
   },
   "outputs": [],
   "source": [
    "def leaders(arr):\n",
    "    leaders = [] \n",
    "    biggest = - 2**32\n",
    "    for i in range(len(arr) - 1, -1, -1):\n",
    "        if(arr[i] > biggest):\n",
    "            biggest = arr[i]\n",
    "            leaders.append(arr[i])\n",
    "    if (len(leaders) != 0):        \n",
    "        return  ', '.join(str(e) for e in leaders[::-1]) #(leaders[::-1]) #\n",
    "          \n",
    "    else:\n",
    "        return \n",
    "\n",
    "    "
   ]
  },
  {
   "cell_type": "markdown",
   "metadata": {},
   "source": [
    "### Find if there is a subarray with 0 sum"
   ]
  },
  {
   "cell_type": "code",
   "execution_count": null,
   "metadata": {
    "collapsed": true
   },
   "outputs": [],
   "source": [
    "def is_subarray_zero(arr):\n",
    "    sums = {}\n",
    "    _sum = 0 \n",
    "    \n",
    "    for i in range(len(arr)):\n",
    "        _sum += arr[i]\n",
    "        if ((_sum == 0) | (_sum in sums)):\n",
    "            return True\n",
    "        sums[_sum] = 1\n",
    "    return False"
   ]
  },
  {
   "cell_type": "code",
   "execution_count": null,
   "metadata": {},
   "outputs": [],
   "source": [
    "#is_subarray_zero([4, 2, -3, 1, 6])\n",
    "is_subarray_zero([-3, 2, 3, 1, 6])"
   ]
  },
  {
   "cell_type": "markdown",
   "metadata": {},
   "source": [
    "### function to merge two sorted arrays"
   ]
  },
  {
   "cell_type": "code",
   "execution_count": null,
   "metadata": {
    "collapsed": true
   },
   "outputs": [],
   "source": [
    "def _merge_sorted_arrays(arr1, arr2):\n",
    "    n1 = 0\n",
    "    n2 = 0\n",
    "    n3 = 0\n",
    "    merged_arr = [0] * ((len(arr1) + len(arr2)))\n",
    "    \n",
    "    if ((len(arr2) == 0) & (len(arr1) == 0)):\n",
    "        return \"Error - both arrays are empty\"\n",
    "    \n",
    "    elif (len(arr1) == 0):\n",
    "        return arr2\n",
    "    \n",
    "    elif (len(arr2) == 0):\n",
    "        return arr1\n",
    "    \n",
    "    else: \n",
    "        while((n1 <= (len(arr1) - 1 )) & (n2 <= (len(arr2) - 1 ))):\n",
    "            if (arr1[n1] >= arr2[n2]):\n",
    "                merged_arr[n3] = arr2[n2]\n",
    "                n2 += 1\n",
    "                n3 += 1\n",
    "            else: \n",
    "                merged_arr[n3] = arr1[n1]\n",
    "                n1 += 1\n",
    "                n3 += 1\n",
    "\n",
    "              \n",
    "        while ((n1 <= (len(arr1)) - 1) & (n3 <= len(merged_arr) -1)):\n",
    "            merged_arr[n3] = arr1[n1]\n",
    "            n1 += 1\n",
    "            n3 += 1\n",
    "            \n",
    "        while ((n2 <= (len(arr2) -1)) & (n3 <= len(merged_arr) -1)):\n",
    "            merged_arr[n3] = arr2[n2]\n",
    "            n2 += 1\n",
    "            n3 += 1\n",
    "    \n",
    "    return merged_arr"
   ]
  },
  {
   "cell_type": "code",
   "execution_count": null,
   "metadata": {
    "collapsed": true
   },
   "outputs": [],
   "source": [
    "def is_valid_crossword_puzzle(mat):\n",
    "    \n",
    "    for i in rows:\n",
    "        for j in cols:\n",
    "            if(i == 0):\n",
    "                if (j==0):\n",
    "                    if((mat[i][j+1] == 'white') | (mat[i+1][j] == 'white')):\n",
    "                        continue\n",
    "                    else:\n",
    "                        return False\n",
    "                elif (j == max_col):   \n",
    "                    if((mat[i][j-1] == 'white') | (mat[i+1][j] == 'white')):\n",
    "                        continue\n",
    "                    else:\n",
    "                        return False\n",
    "                else:\n",
    "                    if((mat[i][j-1] == 'white') | (mat[i+1][j] == 'white') | (mat[i][j+1] == 'white')):\n",
    "                        continue\n",
    "                    else: \n",
    "                        return False\n",
    "            elif(i == max_rows):\n",
    "                if (j==0):\n",
    "                    if((mat[i][j+1] == 'white') | (mat[i-1][j] == 'white')):\n",
    "                        continue\n",
    "                    else:\n",
    "                        return False\n",
    "                elif (j == max_col):   \n",
    "                    if((mat[i][j-1] == 'white') | (mat[i-1][j] == 'white')):\n",
    "                        continue\n",
    "                    else:\n",
    "                        return False\n",
    "                else:\n",
    "                    if((mat[i][j-1] == 'white') | (mat[i][j + 1] == 'white') | (mat[i-1][j] == 'white')):\n",
    "                        continue\n",
    "                    else: \n",
    "                        return False\n",
    "            else: \n",
    "                if(j == 0):\n",
    "                    if((mat[i][j+1] == 'white') | (mat[i-1][j] == 'white') | (mat[i+1][j] == 'white')):\n",
    "                        continue\n",
    "                    else: \n",
    "                        return False\n",
    "                elif(j == max_col):\n",
    "                    if((mat[i][j-1] == 'white') | (mat[i-1][j] == 'white') | (mat[i+1][j] == 'white')):\n",
    "                        continue\n",
    "                    else: \n",
    "                        return False\n",
    "                else:\n",
    "                    if((mat[i+1][j] == 'white') | (mat[i-1][j] == 'white') | (mat[i][j+1] == 'white') | (mat[i][j-1] == 'white')):\n",
    "                        continue\n",
    "                    else: \n",
    "                        return False\n",
    "    return True"
   ]
  },
  {
   "cell_type": "code",
   "execution_count": null,
   "metadata": {
    "collapsed": true
   },
   "outputs": [],
   "source": [
    "#Generate 0 and 1 with 25% and 75% probability"
   ]
  },
  {
   "cell_type": "code",
   "execution_count": null,
   "metadata": {
    "collapsed": true
   },
   "outputs": [],
   "source": [
    "def bit_or_to_probability_change(): \n",
    "    return (rand_01() | rand_01())"
   ]
  },
  {
   "cell_type": "code",
   "execution_count": null,
   "metadata": {
    "collapsed": true
   },
   "outputs": [],
   "source": [
    "#Generate integer from 1 to 7 with equal probability"
   ]
  },
  {
   "cell_type": "code",
   "execution_count": null,
   "metadata": {
    "collapsed": true
   },
   "outputs": [],
   "source": [
    "import random "
   ]
  },
  {
   "cell_type": "code",
   "execution_count": null,
   "metadata": {},
   "outputs": [],
   "source": [
    "# rand7 from rand 5\n",
    "def my_rand() : # returns 1 to 7 with equal probability\n",
    "    i = 5*random.randint(1, 5) + random.randint(1, 5) - 5\n",
    "    if (i < 22):\n",
    "        return (i%7 + 1)\n",
    "    return my_rand()"
   ]
  },
  {
   "cell_type": "code",
   "execution_count": null,
   "metadata": {
    "collapsed": true
   },
   "outputs": [],
   "source": [
    "# rand7 from rand2\n",
    "def rand_7():\n",
    "    res = 0\n",
    "    bits = [random.randint(0, 1), random.randint(0, 1), random.randint(0, 1)]\n",
    "    \n",
    "    for i in range(len(bits)):\n",
    "        res += bits[i] * (2**i)\n",
    "    \n",
    "    if (res < 7):\n",
    "        return res\n",
    "    else:\n",
    "        return rand_7()"
   ]
  },
  {
   "cell_type": "code",
   "execution_count": null,
   "metadata": {},
   "outputs": [],
   "source": [
    "rand_7()"
   ]
  },
  {
   "cell_type": "code",
   "execution_count": 1,
   "metadata": {
    "collapsed": true
   },
   "outputs": [],
   "source": [
    "    integer = 0\n",
    "    remainder = 0.72"
   ]
  },
  {
   "cell_type": "code",
   "execution_count": 62,
   "metadata": {},
   "outputs": [],
   "source": [
    "res = str(remainder * 2).split('.')\n",
    "integer, remainder = int(res[0]), float('0.' + res[1])"
   ]
  },
  {
   "cell_type": "code",
   "execution_count": 63,
   "metadata": {},
   "outputs": [
    {
     "data": {
      "text/plain": [
       "1"
      ]
     },
     "execution_count": 63,
     "metadata": {},
     "output_type": "execute_result"
    }
   ],
   "source": [
    "integer"
   ]
  },
  {
   "cell_type": "code",
   "execution_count": 64,
   "metadata": {},
   "outputs": [
    {
     "data": {
      "text/plain": [
       "0.44"
      ]
     },
     "execution_count": 64,
     "metadata": {},
     "output_type": "execute_result"
    }
   ],
   "source": [
    "remainder"
   ]
  },
  {
   "cell_type": "code",
   "execution_count": null,
   "metadata": {
    "collapsed": true
   },
   "outputs": [],
   "source": [
    "# 5.2 print binary representation of a fraction"
   ]
  },
  {
   "cell_type": "code",
   "execution_count": 81,
   "metadata": {
    "collapsed": true
   },
   "outputs": [],
   "source": [
    "# 0.375 --> 0.011\n",
    "def deciaml_fraction_to_binary(fraction):\n",
    "    binary_rep = []\n",
    "    integer = 0\n",
    "    remainder = fraction\n",
    "    while(remainder != 0.0):\n",
    "        res = (remainder * 2)\n",
    "        if (res > 1):\n",
    "            binary_rep.append(str(1))\n",
    "            remainder = res - 1\n",
    "        else:\n",
    "            binary_rep,append(str(0))\n",
    "            remainder = res\n",
    "        if(len(binary_rep) >= 32):\n",
    "            return \"Error\"\n",
    "\n",
    "    return ('0.' + ''.join(binary_rep)).strip()"
   ]
  },
  {
   "cell_type": "code",
   "execution_count": 82,
   "metadata": {},
   "outputs": [
    {
     "name": "stdout",
     "output_type": "stream",
     "text": [
      "['0', '1', '1']\n"
     ]
    },
    {
     "data": {
      "text/plain": [
       "'0.011'"
      ]
     },
     "execution_count": 82,
     "metadata": {},
     "output_type": "execute_result"
    }
   ],
   "source": [
    "binary_rep_of_deciaml_fraction(0.375)"
   ]
  },
  {
   "cell_type": "code",
   "execution_count": 146,
   "metadata": {},
   "outputs": [
    {
     "data": {
      "text/plain": [
       "'0b1100'"
      ]
     },
     "execution_count": 146,
     "metadata": {},
     "output_type": "execute_result"
    }
   ],
   "source": [
    "bin(12)"
   ]
  },
  {
   "cell_type": "code",
   "execution_count": 92,
   "metadata": {
    "collapsed": true
   },
   "outputs": [],
   "source": [
    "# 0.011 --> 0.375\n",
    "def binary_fraction_to_decimal(fraction):\n",
    "    bin_rep = str(fraction).split('.')[1]\n",
    "    n = len(str(fraction).split('.')[1])\n",
    "    remainder = 0\n",
    "    for i in range(n-1, -1, -1):\n",
    "        remainder = 0.5 * (int(bin_rep[i]) + remainder)\n",
    "    return remainder"
   ]
  },
  {
   "cell_type": "code",
   "execution_count": 93,
   "metadata": {},
   "outputs": [
    {
     "data": {
      "text/plain": [
       "0.6875"
      ]
     },
     "execution_count": 93,
     "metadata": {},
     "output_type": "execute_result"
    }
   ],
   "source": [
    "binary_fraction_to_decimal(0.1011)"
   ]
  },
  {
   "cell_type": "code",
   "execution_count": null,
   "metadata": {
    "collapsed": true
   },
   "outputs": [],
   "source": [
    "### Amazon coding interview\n",
    "\n",
    "'''\n",
    "Write a function that, given a matrix representing a maze, a start point, and a goal, returns a boolean that indicates whether there is a path from the start to the goal.\n",
    "The maze is represented by a matrix of 1 and 0 where 1 represents a tile that is walkable and 0 represents an obstacle.\n",
    "From the start point being a walkable tile, you can move to any adjacent tile in any cardinal direction but not diagonally.\n",
    " \n",
    "For example:\n",
    " \n",
    "start: 0,0\n",
    "goal: 3,3\n",
    "matrix:\n",
    "1111\n",
    "0101\n",
    "0110\n",
    "0011\n",
    "return: True\n",
    " \n",
    "start: 0,0\n",
    "goal: 3,3\n",
    "matrix:\n",
    "1111\n",
    "0100\n",
    "0100\n",
    "0001\n",
    "return: False\n",
    " \n",
    "start: 9,8\n",
    "goal: 9,9\n",
    "matrix:\n",
    "1000000000\n",
    "1111111110\n",
    "0000000010\n",
    "0111111110\n",
    "0100000000\n",
    "0111111110\n",
    "0001000100\n",
    "0111010000\n",
    "0001111111\n",
    "0000000001\n",
    "return: True\n",
    "'''\n",
    "\n",
    "# get_neighbors(matrix, tile): Returns a collection of valid walkable tile neighbors given a tile.\n",
    "# get_neighbors(matrix (0,0)): [(1,0)]\n",
    "# get_neighbors(matrix (1,0)): [(0,0),(2,0),(1,1)]\n",
    "# get_neighbors(matrix (9,8)): [(9,9),(8,8)]\n",
    "\n",
    "def check_path(matrix, start, goal):\n",
    "    \n",
    "    \n",
    "    new_neihg = get_neighbors(strat)\n",
    "    \n",
    "    if gaol is in new_neihb:\n",
    "        return True\n",
    "        \n",
    "    else: \n",
    "        for i in range(len(get_neigh)):\n",
    "            return check_path(matrix, get_neigh[i], goal)\n",
    "    \n",
    "    return False  "
   ]
  },
  {
   "cell_type": "code",
   "execution_count": null,
   "metadata": {
    "collapsed": true
   },
   "outputs": [],
   "source": [
    "# Given string \"2011051945\", insert operators +, -, *, / between the digits so that it evaluates to 196. \n",
    "# For example:\n",
    "\n",
    "# 2+0+1-1+0+5+194-5 = 196\n",
    "# 2+0+1-1+0+5*194/5 = 196\n",
    "print('Hello world - Python!')\n",
    "\n",
    "\n",
    "# num: string \"2011051945\"\n",
    "# target: int\n",
    "# ret: list of all answers\n",
    "def addOperators(num, target):\n",
    "    answers = [] \n",
    "\n",
    "    \n",
    "\n",
    "\n",
    "for i in range(len(num) - 1):\n",
    "    for j in range(i+1, len(num)):\n",
    "        current_number = int num[i:j]\n",
    "        addOperators(num, target - current number)\n",
    "        addOperators(num, target + current number)\n",
    "        addOperators(num, target * current number)\n",
    "        addOperators(num, target / current number)\n",
    "        answers.append()\n"
   ]
  },
  {
   "cell_type": "code",
   "execution_count": 173,
   "metadata": {},
   "outputs": [],
   "source": [
    "# 5.3 \n",
    "def get_next(x):\n",
    "    c =  str(x)\n",
    "    c0 = 0\n",
    "    c1 = 0\n",
    "    i = n = len(str(x)) - 1\n",
    "    while(i > 0):\n",
    "        if ((i <= (len(str(x)) - 2))):\n",
    "            if(int(c[i + 1]) == 1):\n",
    "                if(int(c[i]) == 0):\n",
    "                    break\n",
    "                elif(int(c[i]) == 1):\n",
    "                    c1 += 1\n",
    "            else:\n",
    "                if(int(c[i]) == 0):\n",
    "                    c0 += 1\n",
    "                elif(int(c[i]) == 1):\n",
    "                    c1 += 1\n",
    "        else:\n",
    "            if(int(c[i]) == 0):\n",
    "                c0 += 1\n",
    "        \n",
    "            elif(int(c[i]) == 1):\n",
    "                c1 += 1\n",
    "        i -= 1\n",
    "    \n",
    "    p = c0 + c1\n",
    "    c = c[:n-p ] + '1' + str(0)*(p)\n",
    "    c = c[:n-(c1-1) + 1] + (str(1) * (c1-1))\n",
    "    return c"
   ]
  },
  {
   "cell_type": "code",
   "execution_count": 180,
   "metadata": {
    "collapsed": true
   },
   "outputs": [],
   "source": [
    "def get_prev(x):\n",
    "    c =  str(x)\n",
    "    c0 = 0\n",
    "    c1 = 0\n",
    "    i = n = len(str(x)) - 1\n",
    "    while(i > 0):\n",
    "        if ((i <= (len(str(x)) - 2))):\n",
    "            if(int(c[i + 1]) == 0):\n",
    "                if(int(c[i]) == 1):\n",
    "                    break\n",
    "                elif(int(c[i]) == 0):\n",
    "                    c0 += 1\n",
    "            else:\n",
    "                if(int(c[i]) == 0):\n",
    "                    c0 += 1\n",
    "                elif(int(c[i]) == 1):\n",
    "                    c1 += 1\n",
    "        else:\n",
    "            if(int(c[i]) == 0):\n",
    "                c0 += 1\n",
    "        \n",
    "            elif(int(c[i]) == 1):\n",
    "                c1 += 1\n",
    "        i -= 1\n",
    "    \n",
    "    p = c0 + c1\n",
    "    c = c[:n-p ] + '0' + str(0)*(p)\n",
    "    c = c[:(n-p+1)] + (str(1) * (c1+1)) + c[(n - p + 1 + c1 + 1):]\n",
    "    return c"
   ]
  },
  {
   "cell_type": "code",
   "execution_count": 181,
   "metadata": {
    "collapsed": true
   },
   "outputs": [],
   "source": [
    "# 5.4\n",
    "# subtracting 1 from a binary representation will either:\n",
    "# 1. change least significant 1 bit to 0\n",
    "# 2. change each bit from 0 to 1 till the first 1 and flip to zero\n",
    "((n & (n-1)) == 0) # check if n is a power of 2 or 0"
   ]
  },
  {
   "cell_type": "code",
   "execution_count": null,
   "metadata": {
    "collapsed": true
   },
   "outputs": [],
   "source": [
    "# 5.5\n",
    "# how many bits are required to convert integer A to integer B\n",
    "def bits_to_convert_a_to_b(a, b):\n",
    "    return bin(b ^ a ).count('1')"
   ]
  },
  {
   "cell_type": "code",
   "execution_count": null,
   "metadata": {
    "collapsed": true
   },
   "outputs": [],
   "source": [
    "# a in binary is 1010 "
   ]
  },
  {
   "cell_type": "code",
   "execution_count": 278,
   "metadata": {
    "collapsed": true
   },
   "outputs": [],
   "source": [
    "# 5.6 \n",
    "# write a programme to swap odd and even bits \n",
    "def swap_bits(x) :\n",
    "     \n",
    "    # Get all even bits of x\n",
    "    even_bits = (x & 0xAAAAAAAA)\n",
    " \n",
    "    # Get all odd bits of x\n",
    "    odd_bits = (x & 0x55555555)\n",
    "     \n",
    "    # Right shift even bits\n",
    "    even_bits >>= 1\n",
    "     \n",
    "    # Left shift odd bits\n",
    "    odd_bits <<= 1\n",
    " \n",
    "    # Combine even and odd bits\n",
    "    return (even_bits | odd_bits) "
   ]
  },
  {
   "cell_type": "code",
   "execution_count": null,
   "metadata": {
    "collapsed": true
   },
   "outputs": [],
   "source": [
    "# 5.7 find missing integer only by accessing bit j of elment A[i]\n",
    "def find_missing_int_by_bit(array2):\n",
    "    array2.sort()\n",
    "    \n",
    "    lsb = "
   ]
  },
  {
   "cell_type": "code",
   "execution_count": 295,
   "metadata": {
    "collapsed": true
   },
   "outputs": [],
   "source": [
    "array1 = [0,1,2,3,4,5,6,7,8,9]\n",
    "array2 = [0,2,1,7,6,9,8,4,3]"
   ]
  },
  {
   "cell_type": "code",
   "execution_count": 296,
   "metadata": {
    "collapsed": true
   },
   "outputs": [],
   "source": [
    "def findMissingNumber1(array1, array2):\n",
    "    array1.sort()\n",
    "    array2.sort()\n",
    "    for num1, num2 in zip(array1, array2):\n",
    "        if num1!=num2:\n",
    "            return num1\n",
    "    return array1[-1]"
   ]
  },
  {
   "cell_type": "code",
   "execution_count": 297,
   "metadata": {},
   "outputs": [
    {
     "data": {
      "text/plain": [
       "5"
      ]
     },
     "execution_count": 297,
     "metadata": {},
     "output_type": "execute_result"
    }
   ],
   "source": [
    "findMissingNumber1(array1, array2)"
   ]
  },
  {
   "cell_type": "code",
   "execution_count": 307,
   "metadata": {},
   "outputs": [],
   "source": [
    "def find_missing_by_sum(array1, array2):\n",
    "    array1.sort()\n",
    "    array2.sort()\n",
    "    sum_arr_1 =(array1[-1] * (array1[-1] + 1)) / 2.0\n",
    "    sum_arr_2 =sum(array2)\n",
    "    \n",
    "    return (sum_arr_1 - sum_arr_2)\n",
    "    "
   ]
  },
  {
   "cell_type": "code",
   "execution_count": 308,
   "metadata": {},
   "outputs": [
    {
     "data": {
      "text/plain": [
       "5.0"
      ]
     },
     "execution_count": 308,
     "metadata": {},
     "output_type": "execute_result"
    }
   ],
   "source": [
    "find_missing_by_sum(array1, array2)"
   ]
  },
  {
   "cell_type": "code",
   "execution_count": null,
   "metadata": {
    "collapsed": true
   },
   "outputs": [],
   "source": []
  }
 ],
 "metadata": {
  "kernelspec": {
   "display_name": "Python 2",
   "language": "python",
   "name": "python2"
  },
  "language_info": {
   "codemirror_mode": {
    "name": "ipython",
    "version": 2
   },
   "file_extension": ".py",
   "mimetype": "text/x-python",
   "name": "python",
   "nbconvert_exporter": "python",
   "pygments_lexer": "ipython2",
   "version": "2.7.14"
  }
 },
 "nbformat": 4,
 "nbformat_minor": 2
}
