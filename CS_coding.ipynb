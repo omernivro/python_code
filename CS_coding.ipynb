{
 "cells": [
  {
   "cell_type": "code",
   "execution_count": 379,
   "metadata": {
    "collapsed": true
   },
   "outputs": [],
   "source": [
    "import numpy as np\n",
    "import itertools\n",
    "from __future__ import division"
   ]
  },
  {
   "cell_type": "code",
   "execution_count": null,
   "metadata": {
    "collapsed": true
   },
   "outputs": [],
   "source": [
    "# Given a table A of N integers from 0 to N-1 calculate the smallest such index P,\n",
    "#  that {A[0],...,A[N-1]} = {A[0],...,A[P]}.\n",
    "def solution(A):\n",
    "    covering_prefix = 0\n",
    "    unique_array = []\n",
    "    for i in range(len(A)):\n",
    "        if (A[i] in unique_array):\n",
    "            continue\n",
    "        else:\n",
    "            unique_array.append(A[i])\n",
    "            covering_prefix = i\n",
    "\n",
    "    return(covering_prefix)      "
   ]
  },
  {
   "cell_type": "code",
   "execution_count": 243,
   "metadata": {
    "collapsed": true
   },
   "outputs": [],
   "source": [
    "A = [1, 5, 2, 1, 4, 0] "
   ]
  },
  {
   "cell_type": "code",
   "execution_count": null,
   "metadata": {
    "collapsed": true
   },
   "outputs": [],
   "source": [
    "# We draw N discs on a plane. The discs are numbered from 0 to N − 1.\n",
    "# A zero-indexed array A of N non-negative integers, specifying the radiuses of the discs, is given. \n",
    "# The J-th disc is drawn with its center at (J, 0) and radius A[J].\n",
    "\n",
    "# We say that the J-th disc and K-th disc intersect if J ≠ K and \n",
    "# the J-th and K-th discs have at least one common poin\n",
    "\n",
    "def solution(A):\n",
    "    count_intersections = 0\n",
    "    prvs_discs = []\n",
    "    # write your code in Python 3.6\n",
    "    for index in range(len(A)):\n",
    "        current_circ_low = index - A[index]\n",
    "        current_circ_high = index + A[index]\n",
    "    \n",
    "        if (index > 0):\n",
    "            # case 1: the current max limit is bigger than other lower and also smaller than other max\n",
    "            case1 = [(circ[0] < current_circ_high) & (circ[1] >= current_circ_high) & (circ[0] > current_circ_low) for circ in prvs_discs]\n",
    "            s_case1 = sum(case1)\n",
    "    \n",
    "    \n",
    "            # case 2 current lower is bigger than other lower and also smaller than other max\n",
    "            case2 = [(circ[0] < current_circ_low) & (circ[1] >= current_circ_low) & (circ[1] < current_circ_high) for circ in prvs_discs]\n",
    "\n",
    "            s_case2 = sum(case2)\n",
    "    \n",
    "            # case 3 it is inside the other circle \n",
    "            case3 = [(circ[0] <= current_circ_low) & (circ[1] >= current_circ_high) for circ in prvs_discs]\n",
    "\n",
    "            s_case3 = sum(case3)\n",
    "    \n",
    "    \n",
    "            # case 4 other circles are in it \n",
    "            case4 = [(circ[0] >= current_circ_low) & (circ[1] <= current_circ_high) for circ in prvs_discs]\n",
    "\n",
    "            s_case4 = sum(case4)\n",
    "    \n",
    "            # check = (case1 & case2 & case3 & case4)\n",
    "            # if (any(check)):\n",
    "    \n",
    "            #     print(\"this is a debug message\")\n",
    "    \n",
    "            count_intersections += (s_case1 + s_case2 + s_case3 + s_case4)\n",
    "    \n",
    "        prvs_discs.append([current_circ_low, current_circ_high])\n",
    "    \n",
    "        \n",
    "    return(count_intersections)"
   ]
  },
  {
   "cell_type": "code",
   "execution_count": 155,
   "metadata": {
    "collapsed": true
   },
   "outputs": [],
   "source": [
    "def palindromic_string(strng):\n",
    "    p = 0\n",
    "\n",
    "    if(((len(strng) == 2) | (len(strng) == 3)) & (strng[0] == strng[-1])):\n",
    "        p = 1\n",
    "        print ('here +1')\n",
    "\n",
    "\n",
    "    if(((len(strng) == 2) | (len(strng) == 3)) & (strng[0] != strng[-1])):\n",
    "        p = 0\n",
    "        print ('here +0')\n",
    "\n",
    "\n",
    "    if((len(strng) > 3) & (strng[0] == strng[-1])): \n",
    "\n",
    "        print(strng)\n",
    "\n",
    "        return(palindromic_string(strng[1:-1]))\n",
    "\n",
    "    return(p)"
   ]
  },
  {
   "cell_type": "code",
   "execution_count": 164,
   "metadata": {
    "collapsed": true
   },
   "outputs": [],
   "source": [
    "def full_str(t):\n",
    "    count = 0\n",
    "    if  len(t) >= 2:\n",
    "        count = palindromic_string(t)\n",
    "        return(count + full_str(t[:-1]))\n",
    "    else:\n",
    "        return (count + 0)\n",
    "\n"
   ]
  },
  {
   "cell_type": "code",
   "execution_count": 165,
   "metadata": {
    "collapsed": true
   },
   "outputs": [],
   "source": [
    "def solution(S):\n",
    "    count = 0\n",
    "    for i in range(len(S)-1):\n",
    "        strng = S[i:]\n",
    "        count += full_str(strng)\n",
    "    return (count)"
   ]
  },
  {
   "cell_type": "code",
   "execution_count": 37,
   "metadata": {
    "collapsed": true
   },
   "outputs": [],
   "source": [
    "def matrix_s(A):\n",
    "    matrix_dim = len(A)\n",
    "    matr = (list(itertools.product([-1, 1], repeat= matrix_dim)))\n",
    "    return (matr)\n"
   ]
  },
  {
   "cell_type": "code",
   "execution_count": 97,
   "metadata": {
    "collapsed": true
   },
   "outputs": [],
   "source": [
    "listb = matrix_s([1,2,3,5])"
   ]
  },
  {
   "cell_type": "code",
   "execution_count": 157,
   "metadata": {
    "collapsed": true
   },
   "outputs": [],
   "source": [
    "# https://codility.com/media/train/solution-min-abs-sum.pdf\n",
    "\n",
    "def golden_min_abs_sum(A): \n",
    "    N = len(A)\n",
    "    M = 0\n",
    "    for i in xrange(N):\n",
    "        A[i] = abs(A[i])\n",
    "        M = max(A[i], M)  # get max A\n",
    "    S = sum(A) # sum abs of A\n",
    "    count = [0] * (M + 1) \n",
    "    for i in xrange(N): # N >> M M is max 100 this will count repeating values\n",
    "        count[A[i]] += 1 \n",
    "    dp = [-1] * (S + 1)  # dp[j] means how many values a left after acieving sum j\n",
    "    dp[0] = 0\n",
    "    \n",
    "    for a in xrange(1, M + 1):\n",
    "        if count[a] > 0: # if value appears in A\n",
    "            for j in xrange(S):\n",
    "                if dp[j] >= 0:\n",
    "                    dp[j] = count[a]\n",
    "                elif (j >= a and dp[j - a] > 0): \n",
    "                    dp[j] = dp[j - a] - 1\n",
    "    result = S # thats worst case\n",
    "    for i in xrange(S // 2+1):\n",
    "        if dp[i] >= 0:\n",
    "            result = min(result, S - 2 * i)\n",
    "   \n",
    "    return result"
   ]
  },
  {
   "cell_type": "code",
   "execution_count": 159,
   "metadata": {},
   "outputs": [
    {
     "data": {
      "text/plain": [
       "163"
      ]
     },
     "execution_count": 159,
     "metadata": {},
     "output_type": "execute_result"
    }
   ],
   "source": [
    "sum(A\n",
    "   )"
   ]
  },
  {
   "cell_type": "code",
   "execution_count": 139,
   "metadata": {},
   "outputs": [
    {
     "data": {
      "text/plain": [
       "10"
      ]
     },
     "execution_count": 139,
     "metadata": {},
     "output_type": "execute_result"
    }
   ],
   "source": [
    "A = [1, 3, 7, 87, 16, 31, 15, 1, 1, 1]\n",
    "len(A)"
   ]
  },
  {
   "cell_type": "code",
   "execution_count": 148,
   "metadata": {
    "collapsed": true
   },
   "outputs": [],
   "source": [
    "def count_repetitions(A):\n",
    "    max_A = max(A)\n",
    "    num_exists = [0] * (max_A + 1)\n",
    "    for num in xrange(len(A)):\n",
    "        num_exists[A[num]] += 1\n",
    "    return (num_exists, max_A)    "
   ]
  },
  {
   "cell_type": "code",
   "execution_count": 149,
   "metadata": {
    "collapsed": true
   },
   "outputs": [
    {
     "data": {
      "text/plain": [
       "([0,\n",
       "  4,\n",
       "  0,\n",
       "  1,\n",
       "  0,\n",
       "  0,\n",
       "  0,\n",
       "  1,\n",
       "  0,\n",
       "  0,\n",
       "  0,\n",
       "  0,\n",
       "  0,\n",
       "  0,\n",
       "  0,\n",
       "  1,\n",
       "  1,\n",
       "  0,\n",
       "  0,\n",
       "  0,\n",
       "  0,\n",
       "  0,\n",
       "  0,\n",
       "  0,\n",
       "  0,\n",
       "  0,\n",
       "  0,\n",
       "  0,\n",
       "  0,\n",
       "  0,\n",
       "  0,\n",
       "  1,\n",
       "  0,\n",
       "  0,\n",
       "  0,\n",
       "  0,\n",
       "  0,\n",
       "  0,\n",
       "  0,\n",
       "  0,\n",
       "  0,\n",
       "  0,\n",
       "  0,\n",
       "  0,\n",
       "  0,\n",
       "  0,\n",
       "  0,\n",
       "  0,\n",
       "  0,\n",
       "  0,\n",
       "  0,\n",
       "  0,\n",
       "  0,\n",
       "  0,\n",
       "  0,\n",
       "  0,\n",
       "  0,\n",
       "  0,\n",
       "  0,\n",
       "  0,\n",
       "  0,\n",
       "  0,\n",
       "  0,\n",
       "  0,\n",
       "  0,\n",
       "  0,\n",
       "  0,\n",
       "  0,\n",
       "  0,\n",
       "  0,\n",
       "  0,\n",
       "  0,\n",
       "  0,\n",
       "  0,\n",
       "  0,\n",
       "  0,\n",
       "  0,\n",
       "  0,\n",
       "  0,\n",
       "  0,\n",
       "  0,\n",
       "  0,\n",
       "  0,\n",
       "  0,\n",
       "  0,\n",
       "  0,\n",
       "  0,\n",
       "  1],\n",
       " 87)"
      ]
     },
     "execution_count": 149,
     "metadata": {},
     "output_type": "execute_result"
    }
   ],
   "source": [
    "count_repetitions(A)"
   ]
  },
  {
   "cell_type": "code",
   "execution_count": 158,
   "metadata": {
    "collapsed": true
   },
   "outputs": [
    {
     "name": "stdout",
     "output_type": "stream",
     "text": [
      "('a equals:', 1)\n",
      "('j equals:', 0)\n",
      "('count equals:', 4)\n",
      "('a equals:', 1)\n",
      "('j equals:', 1)\n",
      "('j-a equals:', 0)\n",
      "('a equals:', 1)\n",
      "('j equals:', 2)\n",
      "('j-a equals:', 1)\n",
      "('a equals:', 1)\n",
      "('j equals:', 3)\n",
      "('j-a equals:', 2)\n",
      "('a equals:', 1)\n",
      "('j equals:', 4)\n",
      "('j-a equals:', 3)\n",
      "('a equals:', 3)\n",
      "('j equals:', 0)\n",
      "('count equals:', 1)\n",
      "('a equals:', 3)\n",
      "('j equals:', 1)\n",
      "('count equals:', 1)\n",
      "('a equals:', 3)\n",
      "('j equals:', 2)\n",
      "('count equals:', 1)\n",
      "('a equals:', 3)\n",
      "('j equals:', 3)\n",
      "('count equals:', 1)\n",
      "('a equals:', 3)\n",
      "('j equals:', 4)\n",
      "('count equals:', 1)\n",
      "('a equals:', 3)\n",
      "('j equals:', 5)\n",
      "('j-a equals:', 2)\n",
      "('a equals:', 3)\n",
      "('j equals:', 6)\n",
      "('j-a equals:', 3)\n",
      "('a equals:', 3)\n",
      "('j equals:', 7)\n",
      "('j-a equals:', 4)\n",
      "('a equals:', 7)\n",
      "('j equals:', 0)\n",
      "('count equals:', 1)\n",
      "('a equals:', 7)\n",
      "('j equals:', 1)\n",
      "('count equals:', 1)\n",
      "('a equals:', 7)\n",
      "('j equals:', 2)\n",
      "('count equals:', 1)\n",
      "('a equals:', 7)\n",
      "('j equals:', 3)\n",
      "('count equals:', 1)\n",
      "('a equals:', 7)\n",
      "('j equals:', 4)\n",
      "('count equals:', 1)\n",
      "('a equals:', 7)\n",
      "('j equals:', 5)\n",
      "('count equals:', 1)\n",
      "('a equals:', 7)\n",
      "('j equals:', 6)\n",
      "('count equals:', 1)\n",
      "('a equals:', 7)\n",
      "('j equals:', 7)\n",
      "('count equals:', 1)\n",
      "('a equals:', 7)\n",
      "('j equals:', 8)\n",
      "('j-a equals:', 1)\n",
      "('a equals:', 7)\n",
      "('j equals:', 9)\n",
      "('j-a equals:', 2)\n",
      "('a equals:', 7)\n",
      "('j equals:', 10)\n",
      "('j-a equals:', 3)\n",
      "('a equals:', 7)\n",
      "('j equals:', 11)\n",
      "('j-a equals:', 4)\n",
      "('a equals:', 7)\n",
      "('j equals:', 12)\n",
      "('j-a equals:', 5)\n",
      "('a equals:', 7)\n",
      "('j equals:', 13)\n",
      "('j-a equals:', 6)\n",
      "('a equals:', 7)\n",
      "('j equals:', 14)\n",
      "('j-a equals:', 7)\n",
      "('a equals:', 15)\n",
      "('j equals:', 0)\n",
      "('count equals:', 1)\n",
      "('a equals:', 15)\n",
      "('j equals:', 1)\n",
      "('count equals:', 1)\n",
      "('a equals:', 15)\n",
      "('j equals:', 2)\n",
      "('count equals:', 1)\n",
      "('a equals:', 15)\n",
      "('j equals:', 3)\n",
      "('count equals:', 1)\n",
      "('a equals:', 15)\n",
      "('j equals:', 4)\n",
      "('count equals:', 1)\n",
      "('a equals:', 15)\n",
      "('j equals:', 5)\n",
      "('count equals:', 1)\n",
      "('a equals:', 15)\n",
      "('j equals:', 6)\n",
      "('count equals:', 1)\n",
      "('a equals:', 15)\n",
      "('j equals:', 7)\n",
      "('count equals:', 1)\n",
      "('a equals:', 15)\n",
      "('j equals:', 8)\n",
      "('count equals:', 1)\n",
      "('a equals:', 15)\n",
      "('j equals:', 9)\n",
      "('count equals:', 1)\n",
      "('a equals:', 15)\n",
      "('j equals:', 10)\n",
      "('count equals:', 1)\n",
      "('a equals:', 15)\n",
      "('j equals:', 11)\n",
      "('count equals:', 1)\n",
      "('a equals:', 15)\n",
      "('j equals:', 12)\n",
      "('count equals:', 1)\n",
      "('a equals:', 15)\n",
      "('j equals:', 13)\n",
      "('count equals:', 1)\n",
      "('a equals:', 15)\n",
      "('j equals:', 14)\n",
      "('count equals:', 1)\n",
      "('a equals:', 15)\n",
      "('j equals:', 15)\n",
      "('j-a equals:', 0)\n",
      "('a equals:', 15)\n",
      "('j equals:', 16)\n",
      "('j-a equals:', 1)\n",
      "('a equals:', 15)\n",
      "('j equals:', 17)\n",
      "('j-a equals:', 2)\n",
      "('a equals:', 15)\n",
      "('j equals:', 18)\n",
      "('j-a equals:', 3)\n",
      "('a equals:', 15)\n",
      "('j equals:', 19)\n",
      "('j-a equals:', 4)\n",
      "('a equals:', 15)\n",
      "('j equals:', 20)\n",
      "('j-a equals:', 5)\n",
      "('a equals:', 15)\n",
      "('j equals:', 21)\n",
      "('j-a equals:', 6)\n",
      "('a equals:', 15)\n",
      "('j equals:', 22)\n",
      "('j-a equals:', 7)\n",
      "('a equals:', 15)\n",
      "('j equals:', 23)\n",
      "('j-a equals:', 8)\n",
      "('a equals:', 15)\n",
      "('j equals:', 24)\n",
      "('j-a equals:', 9)\n",
      "('a equals:', 15)\n",
      "('j equals:', 25)\n",
      "('j-a equals:', 10)\n",
      "('a equals:', 15)\n",
      "('j equals:', 26)\n",
      "('j-a equals:', 11)\n",
      "('a equals:', 15)\n",
      "('j equals:', 27)\n",
      "('j-a equals:', 12)\n",
      "('a equals:', 15)\n",
      "('j equals:', 28)\n",
      "('j-a equals:', 13)\n",
      "('a equals:', 15)\n",
      "('j equals:', 29)\n",
      "('j-a equals:', 14)\n",
      "('a equals:', 16)\n",
      "('j equals:', 0)\n",
      "('count equals:', 1)\n",
      "('a equals:', 16)\n",
      "('j equals:', 1)\n",
      "('count equals:', 1)\n",
      "('a equals:', 16)\n",
      "('j equals:', 2)\n",
      "('count equals:', 1)\n",
      "('a equals:', 16)\n",
      "('j equals:', 3)\n",
      "('count equals:', 1)\n",
      "('a equals:', 16)\n",
      "('j equals:', 4)\n",
      "('count equals:', 1)\n",
      "('a equals:', 16)\n",
      "('j equals:', 5)\n",
      "('count equals:', 1)\n",
      "('a equals:', 16)\n",
      "('j equals:', 6)\n",
      "('count equals:', 1)\n",
      "('a equals:', 16)\n",
      "('j equals:', 7)\n",
      "('count equals:', 1)\n",
      "('a equals:', 16)\n",
      "('j equals:', 8)\n",
      "('count equals:', 1)\n",
      "('a equals:', 16)\n",
      "('j equals:', 9)\n",
      "('count equals:', 1)\n",
      "('a equals:', 16)\n",
      "('j equals:', 10)\n",
      "('count equals:', 1)\n",
      "('a equals:', 16)\n",
      "('j equals:', 11)\n",
      "('count equals:', 1)\n",
      "('a equals:', 16)\n",
      "('j equals:', 12)\n",
      "('count equals:', 1)\n",
      "('a equals:', 16)\n",
      "('j equals:', 13)\n",
      "('count equals:', 1)\n",
      "('a equals:', 16)\n",
      "('j equals:', 14)\n",
      "('count equals:', 1)\n",
      "('a equals:', 16)\n",
      "('j equals:', 15)\n",
      "('count equals:', 1)\n",
      "('a equals:', 16)\n",
      "('j equals:', 16)\n",
      "('count equals:', 1)\n",
      "('a equals:', 16)\n",
      "('j equals:', 17)\n",
      "('count equals:', 1)\n",
      "('a equals:', 16)\n",
      "('j equals:', 18)\n",
      "('count equals:', 1)\n",
      "('a equals:', 16)\n",
      "('j equals:', 19)\n",
      "('count equals:', 1)\n",
      "('a equals:', 16)\n",
      "('j equals:', 20)\n",
      "('count equals:', 1)\n",
      "('a equals:', 16)\n",
      "('j equals:', 21)\n",
      "('count equals:', 1)\n",
      "('a equals:', 16)\n",
      "('j equals:', 22)\n",
      "('count equals:', 1)\n",
      "('a equals:', 16)\n",
      "('j equals:', 23)\n",
      "('count equals:', 1)\n",
      "('a equals:', 16)\n",
      "('j equals:', 24)\n",
      "('count equals:', 1)\n",
      "('a equals:', 16)\n",
      "('j equals:', 25)\n",
      "('count equals:', 1)\n",
      "('a equals:', 16)\n",
      "('j equals:', 26)\n",
      "('count equals:', 1)\n",
      "('a equals:', 16)\n",
      "('j equals:', 27)\n",
      "('count equals:', 1)\n",
      "('a equals:', 16)\n",
      "('j equals:', 28)\n",
      "('count equals:', 1)\n",
      "('a equals:', 16)\n",
      "('j equals:', 29)\n",
      "('count equals:', 1)\n",
      "('a equals:', 16)\n",
      "('j equals:', 30)\n",
      "('j-a equals:', 14)\n",
      "('a equals:', 16)\n",
      "('j equals:', 31)\n",
      "('j-a equals:', 15)\n",
      "('a equals:', 16)\n",
      "('j equals:', 32)\n",
      "('j-a equals:', 16)\n",
      "('a equals:', 16)\n",
      "('j equals:', 33)\n",
      "('j-a equals:', 17)\n",
      "('a equals:', 16)\n",
      "('j equals:', 34)\n",
      "('j-a equals:', 18)\n",
      "('a equals:', 16)\n",
      "('j equals:', 35)\n",
      "('j-a equals:', 19)\n",
      "('a equals:', 16)\n",
      "('j equals:', 36)\n",
      "('j-a equals:', 20)\n",
      "('a equals:', 16)\n",
      "('j equals:', 37)\n",
      "('j-a equals:', 21)\n",
      "('a equals:', 16)\n",
      "('j equals:', 38)\n",
      "('j-a equals:', 22)\n",
      "('a equals:', 16)\n",
      "('j equals:', 39)\n",
      "('j-a equals:', 23)\n",
      "('a equals:', 16)\n",
      "('j equals:', 40)\n",
      "('j-a equals:', 24)\n",
      "('a equals:', 16)\n",
      "('j equals:', 41)\n",
      "('j-a equals:', 25)\n",
      "('a equals:', 16)\n",
      "('j equals:', 42)\n",
      "('j-a equals:', 26)\n",
      "('a equals:', 16)\n",
      "('j equals:', 43)\n",
      "('j-a equals:', 27)\n",
      "('a equals:', 16)\n",
      "('j equals:', 44)\n",
      "('j-a equals:', 28)\n",
      "('a equals:', 16)\n",
      "('j equals:', 45)\n",
      "('j-a equals:', 29)\n",
      "('a equals:', 31)\n",
      "('j equals:', 0)\n",
      "('count equals:', 1)\n",
      "('a equals:', 31)\n",
      "('j equals:', 1)\n",
      "('count equals:', 1)\n",
      "('a equals:', 31)\n",
      "('j equals:', 2)\n",
      "('count equals:', 1)\n",
      "('a equals:', 31)\n",
      "('j equals:', 3)\n",
      "('count equals:', 1)\n",
      "('a equals:', 31)\n",
      "('j equals:', 4)\n",
      "('count equals:', 1)\n",
      "('a equals:', 31)\n",
      "('j equals:', 5)\n",
      "('count equals:', 1)\n",
      "('a equals:', 31)\n",
      "('j equals:', 6)\n",
      "('count equals:', 1)\n",
      "('a equals:', 31)\n",
      "('j equals:', 7)\n",
      "('count equals:', 1)\n",
      "('a equals:', 31)\n",
      "('j equals:', 8)\n",
      "('count equals:', 1)\n",
      "('a equals:', 31)\n",
      "('j equals:', 9)\n",
      "('count equals:', 1)\n",
      "('a equals:', 31)\n",
      "('j equals:', 10)\n",
      "('count equals:', 1)\n",
      "('a equals:', 31)\n",
      "('j equals:', 11)\n",
      "('count equals:', 1)\n",
      "('a equals:', 31)\n",
      "('j equals:', 12)\n",
      "('count equals:', 1)\n",
      "('a equals:', 31)\n",
      "('j equals:', 13)\n",
      "('count equals:', 1)\n",
      "('a equals:', 31)\n",
      "('j equals:', 14)\n",
      "('count equals:', 1)\n",
      "('a equals:', 31)\n",
      "('j equals:', 15)\n",
      "('count equals:', 1)\n",
      "('a equals:', 31)\n",
      "('j equals:', 16)\n",
      "('count equals:', 1)\n",
      "('a equals:', 31)\n",
      "('j equals:', 17)\n",
      "('count equals:', 1)\n",
      "('a equals:', 31)\n",
      "('j equals:', 18)\n",
      "('count equals:', 1)\n",
      "('a equals:', 31)\n",
      "('j equals:', 19)\n",
      "('count equals:', 1)\n",
      "('a equals:', 31)\n",
      "('j equals:', 20)\n",
      "('count equals:', 1)\n",
      "('a equals:', 31)\n",
      "('j equals:', 21)\n",
      "('count equals:', 1)\n",
      "('a equals:', 31)\n",
      "('j equals:', 22)\n",
      "('count equals:', 1)\n",
      "('a equals:', 31)\n",
      "('j equals:', 23)\n",
      "('count equals:', 1)\n",
      "('a equals:', 31)\n",
      "('j equals:', 24)\n",
      "('count equals:', 1)\n",
      "('a equals:', 31)\n",
      "('j equals:', 25)\n",
      "('count equals:', 1)\n",
      "('a equals:', 31)\n",
      "('j equals:', 26)\n",
      "('count equals:', 1)\n",
      "('a equals:', 31)\n",
      "('j equals:', 27)\n",
      "('count equals:', 1)\n",
      "('a equals:', 31)\n",
      "('j equals:', 28)\n",
      "('count equals:', 1)\n",
      "('a equals:', 31)\n",
      "('j equals:', 29)\n",
      "('count equals:', 1)\n",
      "('a equals:', 31)\n",
      "('j equals:', 30)\n",
      "('count equals:', 1)\n",
      "('a equals:', 31)\n",
      "('j equals:', 31)\n",
      "('count equals:', 1)\n",
      "('a equals:', 31)\n",
      "('j equals:', 32)\n",
      "('count equals:', 1)\n",
      "('a equals:', 31)\n",
      "('j equals:', 33)\n",
      "('count equals:', 1)\n",
      "('a equals:', 31)\n",
      "('j equals:', 34)\n",
      "('count equals:', 1)\n",
      "('a equals:', 31)\n",
      "('j equals:', 35)\n",
      "('count equals:', 1)\n",
      "('a equals:', 31)\n",
      "('j equals:', 36)\n",
      "('count equals:', 1)\n",
      "('a equals:', 31)\n",
      "('j equals:', 37)\n",
      "('count equals:', 1)\n",
      "('a equals:', 31)\n",
      "('j equals:', 38)\n",
      "('count equals:', 1)\n",
      "('a equals:', 31)\n",
      "('j equals:', 39)\n",
      "('count equals:', 1)\n",
      "('a equals:', 31)\n",
      "('j equals:', 40)\n",
      "('count equals:', 1)\n",
      "('a equals:', 31)\n",
      "('j equals:', 41)\n",
      "('count equals:', 1)\n",
      "('a equals:', 31)\n",
      "('j equals:', 42)\n",
      "('count equals:', 1)\n",
      "('a equals:', 31)\n",
      "('j equals:', 43)\n",
      "('count equals:', 1)\n",
      "('a equals:', 31)\n",
      "('j equals:', 44)\n",
      "('count equals:', 1)\n",
      "('a equals:', 31)\n",
      "('j equals:', 45)\n",
      "('count equals:', 1)\n",
      "('a equals:', 31)\n",
      "('j equals:', 46)\n",
      "('j-a equals:', 15)\n",
      "('a equals:', 31)\n",
      "('j equals:', 47)\n",
      "('j-a equals:', 16)\n",
      "('a equals:', 31)\n",
      "('j equals:', 48)\n",
      "('j-a equals:', 17)\n",
      "('a equals:', 31)\n",
      "('j equals:', 49)\n",
      "('j-a equals:', 18)\n",
      "('a equals:', 31)\n",
      "('j equals:', 50)\n",
      "('j-a equals:', 19)\n",
      "('a equals:', 31)\n",
      "('j equals:', 51)\n",
      "('j-a equals:', 20)\n",
      "('a equals:', 31)\n",
      "('j equals:', 52)\n",
      "('j-a equals:', 21)\n",
      "('a equals:', 31)\n",
      "('j equals:', 53)\n",
      "('j-a equals:', 22)\n",
      "('a equals:', 31)\n",
      "('j equals:', 54)\n",
      "('j-a equals:', 23)\n",
      "('a equals:', 31)\n",
      "('j equals:', 55)\n",
      "('j-a equals:', 24)\n",
      "('a equals:', 31)\n",
      "('j equals:', 56)\n",
      "('j-a equals:', 25)\n",
      "('a equals:', 31)\n",
      "('j equals:', 57)\n",
      "('j-a equals:', 26)\n",
      "('a equals:', 31)\n",
      "('j equals:', 58)\n",
      "('j-a equals:', 27)\n",
      "('a equals:', 31)\n",
      "('j equals:', 59)\n",
      "('j-a equals:', 28)\n",
      "('a equals:', 31)\n",
      "('j equals:', 60)\n",
      "('j-a equals:', 29)\n",
      "('a equals:', 31)\n",
      "('j equals:', 61)\n",
      "('j-a equals:', 30)\n",
      "('a equals:', 31)\n",
      "('j equals:', 62)\n",
      "('j-a equals:', 31)\n",
      "('a equals:', 31)\n",
      "('j equals:', 63)\n",
      "('j-a equals:', 32)\n",
      "('a equals:', 31)\n",
      "('j equals:', 64)\n",
      "('j-a equals:', 33)\n",
      "('a equals:', 31)\n",
      "('j equals:', 65)\n",
      "('j-a equals:', 34)\n",
      "('a equals:', 31)\n",
      "('j equals:', 66)\n",
      "('j-a equals:', 35)\n",
      "('a equals:', 31)\n",
      "('j equals:', 67)\n",
      "('j-a equals:', 36)\n",
      "('a equals:', 31)\n",
      "('j equals:', 68)\n",
      "('j-a equals:', 37)\n",
      "('a equals:', 31)\n",
      "('j equals:', 69)\n",
      "('j-a equals:', 38)\n",
      "('a equals:', 31)\n",
      "('j equals:', 70)\n",
      "('j-a equals:', 39)\n",
      "('a equals:', 31)\n",
      "('j equals:', 71)\n",
      "('j-a equals:', 40)\n",
      "('a equals:', 31)\n",
      "('j equals:', 72)\n",
      "('j-a equals:', 41)\n",
      "('a equals:', 31)\n",
      "('j equals:', 73)\n",
      "('j-a equals:', 42)\n",
      "('a equals:', 31)\n",
      "('j equals:', 74)\n",
      "('j-a equals:', 43)\n",
      "('a equals:', 31)\n",
      "('j equals:', 75)\n",
      "('j-a equals:', 44)\n",
      "('a equals:', 31)\n",
      "('j equals:', 76)\n",
      "('j-a equals:', 45)\n",
      "('a equals:', 87)\n",
      "('j equals:', 0)\n",
      "('count equals:', 1)\n",
      "('a equals:', 87)\n",
      "('j equals:', 1)\n",
      "('count equals:', 1)\n",
      "('a equals:', 87)\n"
     ]
    },
    {
     "name": "stdout",
     "output_type": "stream",
     "text": [
      "('j equals:', 2)\n",
      "('count equals:', 1)\n",
      "('a equals:', 87)\n",
      "('j equals:', 3)\n",
      "('count equals:', 1)\n",
      "('a equals:', 87)\n",
      "('j equals:', 4)\n",
      "('count equals:', 1)\n",
      "('a equals:', 87)\n",
      "('j equals:', 5)\n",
      "('count equals:', 1)\n",
      "('a equals:', 87)\n",
      "('j equals:', 6)\n",
      "('count equals:', 1)\n",
      "('a equals:', 87)\n",
      "('j equals:', 7)\n",
      "('count equals:', 1)\n",
      "('a equals:', 87)\n",
      "('j equals:', 8)\n",
      "('count equals:', 1)\n",
      "('a equals:', 87)\n",
      "('j equals:', 9)\n",
      "('count equals:', 1)\n",
      "('a equals:', 87)\n",
      "('j equals:', 10)\n",
      "('count equals:', 1)\n",
      "('a equals:', 87)\n",
      "('j equals:', 11)\n",
      "('count equals:', 1)\n",
      "('a equals:', 87)\n",
      "('j equals:', 12)\n",
      "('count equals:', 1)\n",
      "('a equals:', 87)\n",
      "('j equals:', 13)\n",
      "('count equals:', 1)\n",
      "('a equals:', 87)\n",
      "('j equals:', 14)\n",
      "('count equals:', 1)\n",
      "('a equals:', 87)\n",
      "('j equals:', 15)\n",
      "('count equals:', 1)\n",
      "('a equals:', 87)\n",
      "('j equals:', 16)\n",
      "('count equals:', 1)\n",
      "('a equals:', 87)\n",
      "('j equals:', 17)\n",
      "('count equals:', 1)\n",
      "('a equals:', 87)\n",
      "('j equals:', 18)\n",
      "('count equals:', 1)\n",
      "('a equals:', 87)\n",
      "('j equals:', 19)\n",
      "('count equals:', 1)\n",
      "('a equals:', 87)\n",
      "('j equals:', 20)\n",
      "('count equals:', 1)\n",
      "('a equals:', 87)\n",
      "('j equals:', 21)\n",
      "('count equals:', 1)\n",
      "('a equals:', 87)\n",
      "('j equals:', 22)\n",
      "('count equals:', 1)\n",
      "('a equals:', 87)\n",
      "('j equals:', 23)\n",
      "('count equals:', 1)\n",
      "('a equals:', 87)\n",
      "('j equals:', 24)\n",
      "('count equals:', 1)\n",
      "('a equals:', 87)\n",
      "('j equals:', 25)\n",
      "('count equals:', 1)\n",
      "('a equals:', 87)\n",
      "('j equals:', 26)\n",
      "('count equals:', 1)\n",
      "('a equals:', 87)\n",
      "('j equals:', 27)\n",
      "('count equals:', 1)\n",
      "('a equals:', 87)\n",
      "('j equals:', 28)\n",
      "('count equals:', 1)\n",
      "('a equals:', 87)\n",
      "('j equals:', 29)\n",
      "('count equals:', 1)\n",
      "('a equals:', 87)\n",
      "('j equals:', 30)\n",
      "('count equals:', 1)\n",
      "('a equals:', 87)\n",
      "('j equals:', 31)\n",
      "('count equals:', 1)\n",
      "('a equals:', 87)\n",
      "('j equals:', 32)\n",
      "('count equals:', 1)\n",
      "('a equals:', 87)\n",
      "('j equals:', 33)\n",
      "('count equals:', 1)\n",
      "('a equals:', 87)\n",
      "('j equals:', 34)\n",
      "('count equals:', 1)\n",
      "('a equals:', 87)\n",
      "('j equals:', 35)\n",
      "('count equals:', 1)\n",
      "('a equals:', 87)\n",
      "('j equals:', 36)\n",
      "('count equals:', 1)\n",
      "('a equals:', 87)\n",
      "('j equals:', 37)\n",
      "('count equals:', 1)\n",
      "('a equals:', 87)\n",
      "('j equals:', 38)\n",
      "('count equals:', 1)\n",
      "('a equals:', 87)\n",
      "('j equals:', 39)\n",
      "('count equals:', 1)\n",
      "('a equals:', 87)\n",
      "('j equals:', 40)\n",
      "('count equals:', 1)\n",
      "('a equals:', 87)\n",
      "('j equals:', 41)\n",
      "('count equals:', 1)\n",
      "('a equals:', 87)\n",
      "('j equals:', 42)\n",
      "('count equals:', 1)\n",
      "('a equals:', 87)\n",
      "('j equals:', 43)\n",
      "('count equals:', 1)\n",
      "('a equals:', 87)\n",
      "('j equals:', 44)\n",
      "('count equals:', 1)\n",
      "('a equals:', 87)\n",
      "('j equals:', 45)\n",
      "('count equals:', 1)\n",
      "('a equals:', 87)\n",
      "('j equals:', 46)\n",
      "('count equals:', 1)\n",
      "('a equals:', 87)\n",
      "('j equals:', 47)\n",
      "('count equals:', 1)\n",
      "('a equals:', 87)\n",
      "('j equals:', 48)\n",
      "('count equals:', 1)\n",
      "('a equals:', 87)\n",
      "('j equals:', 49)\n",
      "('count equals:', 1)\n",
      "('a equals:', 87)\n",
      "('j equals:', 50)\n",
      "('count equals:', 1)\n",
      "('a equals:', 87)\n",
      "('j equals:', 51)\n",
      "('count equals:', 1)\n",
      "('a equals:', 87)\n",
      "('j equals:', 52)\n",
      "('count equals:', 1)\n",
      "('a equals:', 87)\n",
      "('j equals:', 53)\n",
      "('count equals:', 1)\n",
      "('a equals:', 87)\n",
      "('j equals:', 54)\n",
      "('count equals:', 1)\n",
      "('a equals:', 87)\n",
      "('j equals:', 55)\n",
      "('count equals:', 1)\n",
      "('a equals:', 87)\n",
      "('j equals:', 56)\n",
      "('count equals:', 1)\n",
      "('a equals:', 87)\n",
      "('j equals:', 57)\n",
      "('count equals:', 1)\n",
      "('a equals:', 87)\n",
      "('j equals:', 58)\n",
      "('count equals:', 1)\n",
      "('a equals:', 87)\n",
      "('j equals:', 59)\n",
      "('count equals:', 1)\n",
      "('a equals:', 87)\n",
      "('j equals:', 60)\n",
      "('count equals:', 1)\n",
      "('a equals:', 87)\n",
      "('j equals:', 61)\n",
      "('count equals:', 1)\n",
      "('a equals:', 87)\n",
      "('j equals:', 62)\n",
      "('count equals:', 1)\n",
      "('a equals:', 87)\n",
      "('j equals:', 63)\n",
      "('count equals:', 1)\n",
      "('a equals:', 87)\n",
      "('j equals:', 64)\n",
      "('count equals:', 1)\n",
      "('a equals:', 87)\n",
      "('j equals:', 65)\n",
      "('count equals:', 1)\n",
      "('a equals:', 87)\n",
      "('j equals:', 66)\n",
      "('count equals:', 1)\n",
      "('a equals:', 87)\n",
      "('j equals:', 67)\n",
      "('count equals:', 1)\n",
      "('a equals:', 87)\n",
      "('j equals:', 68)\n",
      "('count equals:', 1)\n",
      "('a equals:', 87)\n",
      "('j equals:', 69)\n",
      "('count equals:', 1)\n",
      "('a equals:', 87)\n",
      "('j equals:', 70)\n",
      "('count equals:', 1)\n",
      "('a equals:', 87)\n",
      "('j equals:', 71)\n",
      "('count equals:', 1)\n",
      "('a equals:', 87)\n",
      "('j equals:', 72)\n",
      "('count equals:', 1)\n",
      "('a equals:', 87)\n",
      "('j equals:', 73)\n",
      "('count equals:', 1)\n",
      "('a equals:', 87)\n",
      "('j equals:', 74)\n",
      "('count equals:', 1)\n",
      "('a equals:', 87)\n",
      "('j equals:', 75)\n",
      "('count equals:', 1)\n",
      "('a equals:', 87)\n",
      "('j equals:', 76)\n",
      "('count equals:', 1)\n",
      "('a equals:', 87)\n",
      "('j equals:', 87)\n",
      "('j-a equals:', 0)\n",
      "('a equals:', 87)\n",
      "('j equals:', 88)\n",
      "('j-a equals:', 1)\n",
      "('a equals:', 87)\n",
      "('j equals:', 89)\n",
      "('j-a equals:', 2)\n",
      "('a equals:', 87)\n",
      "('j equals:', 90)\n",
      "('j-a equals:', 3)\n",
      "('a equals:', 87)\n",
      "('j equals:', 91)\n",
      "('j-a equals:', 4)\n",
      "('a equals:', 87)\n",
      "('j equals:', 92)\n",
      "('j-a equals:', 5)\n",
      "('a equals:', 87)\n",
      "('j equals:', 93)\n",
      "('j-a equals:', 6)\n",
      "('a equals:', 87)\n",
      "('j equals:', 94)\n",
      "('j-a equals:', 7)\n",
      "('a equals:', 87)\n",
      "('j equals:', 95)\n",
      "('j-a equals:', 8)\n",
      "('a equals:', 87)\n",
      "('j equals:', 96)\n",
      "('j-a equals:', 9)\n",
      "('a equals:', 87)\n",
      "('j equals:', 97)\n",
      "('j-a equals:', 10)\n",
      "('a equals:', 87)\n",
      "('j equals:', 98)\n",
      "('j-a equals:', 11)\n",
      "('a equals:', 87)\n",
      "('j equals:', 99)\n",
      "('j-a equals:', 12)\n",
      "('a equals:', 87)\n",
      "('j equals:', 100)\n",
      "('j-a equals:', 13)\n",
      "('a equals:', 87)\n",
      "('j equals:', 101)\n",
      "('j-a equals:', 14)\n",
      "('a equals:', 87)\n",
      "('j equals:', 102)\n",
      "('j-a equals:', 15)\n",
      "('a equals:', 87)\n",
      "('j equals:', 103)\n",
      "('j-a equals:', 16)\n",
      "('a equals:', 87)\n",
      "('j equals:', 104)\n",
      "('j-a equals:', 17)\n",
      "('a equals:', 87)\n",
      "('j equals:', 105)\n",
      "('j-a equals:', 18)\n",
      "('a equals:', 87)\n",
      "('j equals:', 106)\n",
      "('j-a equals:', 19)\n",
      "('a equals:', 87)\n",
      "('j equals:', 107)\n",
      "('j-a equals:', 20)\n",
      "('a equals:', 87)\n",
      "('j equals:', 108)\n",
      "('j-a equals:', 21)\n",
      "('a equals:', 87)\n",
      "('j equals:', 109)\n",
      "('j-a equals:', 22)\n",
      "('a equals:', 87)\n",
      "('j equals:', 110)\n",
      "('j-a equals:', 23)\n",
      "('a equals:', 87)\n",
      "('j equals:', 111)\n",
      "('j-a equals:', 24)\n",
      "('a equals:', 87)\n",
      "('j equals:', 112)\n",
      "('j-a equals:', 25)\n",
      "('a equals:', 87)\n",
      "('j equals:', 113)\n",
      "('j-a equals:', 26)\n",
      "('a equals:', 87)\n",
      "('j equals:', 114)\n",
      "('j-a equals:', 27)\n",
      "('a equals:', 87)\n",
      "('j equals:', 115)\n",
      "('j-a equals:', 28)\n",
      "('a equals:', 87)\n",
      "('j equals:', 116)\n",
      "('j-a equals:', 29)\n",
      "('a equals:', 87)\n",
      "('j equals:', 117)\n",
      "('j-a equals:', 30)\n",
      "('a equals:', 87)\n",
      "('j equals:', 118)\n",
      "('j-a equals:', 31)\n",
      "('a equals:', 87)\n",
      "('j equals:', 119)\n",
      "('j-a equals:', 32)\n",
      "('a equals:', 87)\n",
      "('j equals:', 120)\n",
      "('j-a equals:', 33)\n",
      "('a equals:', 87)\n",
      "('j equals:', 121)\n",
      "('j-a equals:', 34)\n",
      "('a equals:', 87)\n",
      "('j equals:', 122)\n",
      "('j-a equals:', 35)\n",
      "('a equals:', 87)\n",
      "('j equals:', 123)\n",
      "('j-a equals:', 36)\n",
      "('a equals:', 87)\n",
      "('j equals:', 124)\n",
      "('j-a equals:', 37)\n",
      "('a equals:', 87)\n",
      "('j equals:', 125)\n",
      "('j-a equals:', 38)\n",
      "('a equals:', 87)\n",
      "('j equals:', 126)\n",
      "('j-a equals:', 39)\n",
      "('a equals:', 87)\n",
      "('j equals:', 127)\n",
      "('j-a equals:', 40)\n",
      "('a equals:', 87)\n",
      "('j equals:', 128)\n",
      "('j-a equals:', 41)\n",
      "('a equals:', 87)\n",
      "('j equals:', 129)\n",
      "('j-a equals:', 42)\n",
      "('a equals:', 87)\n",
      "('j equals:', 130)\n",
      "('j-a equals:', 43)\n",
      "('a equals:', 87)\n",
      "('j equals:', 131)\n",
      "('j-a equals:', 44)\n",
      "('a equals:', 87)\n",
      "('j equals:', 132)\n",
      "('j-a equals:', 45)\n",
      "('a equals:', 87)\n",
      "('j equals:', 133)\n",
      "('j-a equals:', 46)\n",
      "('a equals:', 87)\n",
      "('j equals:', 134)\n",
      "('j-a equals:', 47)\n",
      "('a equals:', 87)\n",
      "('j equals:', 135)\n",
      "('j-a equals:', 48)\n",
      "('a equals:', 87)\n",
      "('j equals:', 136)\n",
      "('j-a equals:', 49)\n",
      "('a equals:', 87)\n",
      "('j equals:', 137)\n",
      "('j-a equals:', 50)\n",
      "('a equals:', 87)\n",
      "('j equals:', 138)\n",
      "('j-a equals:', 51)\n",
      "('a equals:', 87)\n",
      "('j equals:', 139)\n",
      "('j-a equals:', 52)\n",
      "('a equals:', 87)\n",
      "('j equals:', 140)\n",
      "('j-a equals:', 53)\n",
      "('a equals:', 87)\n",
      "('j equals:', 141)\n",
      "('j-a equals:', 54)\n",
      "('a equals:', 87)\n",
      "('j equals:', 142)\n",
      "('j-a equals:', 55)\n",
      "('a equals:', 87)\n",
      "('j equals:', 143)\n",
      "('j-a equals:', 56)\n",
      "('a equals:', 87)\n",
      "('j equals:', 144)\n",
      "('j-a equals:', 57)\n",
      "('a equals:', 87)\n",
      "('j equals:', 145)\n",
      "('j-a equals:', 58)\n",
      "('a equals:', 87)\n",
      "('j equals:', 146)\n",
      "('j-a equals:', 59)\n",
      "('a equals:', 87)\n",
      "('j equals:', 147)\n",
      "('j-a equals:', 60)\n",
      "('a equals:', 87)\n",
      "('j equals:', 148)\n",
      "('j-a equals:', 61)\n",
      "('a equals:', 87)\n",
      "('j equals:', 149)\n",
      "('j-a equals:', 62)\n",
      "('a equals:', 87)\n",
      "('j equals:', 150)\n",
      "('j-a equals:', 63)\n",
      "('a equals:', 87)\n",
      "('j equals:', 151)\n",
      "('j-a equals:', 64)\n",
      "('a equals:', 87)\n",
      "('j equals:', 152)\n",
      "('j-a equals:', 65)\n",
      "('a equals:', 87)\n",
      "('j equals:', 153)\n",
      "('j-a equals:', 66)\n",
      "('a equals:', 87)\n",
      "('j equals:', 154)\n",
      "('j-a equals:', 67)\n",
      "('a equals:', 87)\n",
      "('j equals:', 155)\n",
      "('j-a equals:', 68)\n",
      "('a equals:', 87)\n",
      "('j equals:', 156)\n",
      "('j-a equals:', 69)\n",
      "('a equals:', 87)\n",
      "('j equals:', 157)\n",
      "('j-a equals:', 70)\n",
      "('a equals:', 87)\n",
      "('j equals:', 158)\n",
      "('j-a equals:', 71)\n",
      "('a equals:', 87)\n",
      "('j equals:', 159)\n",
      "('j-a equals:', 72)\n",
      "('a equals:', 87)\n",
      "('j equals:', 160)\n",
      "('j-a equals:', 73)\n",
      "('a equals:', 87)\n",
      "('j equals:', 161)\n",
      "('j-a equals:', 74)\n",
      "('a equals:', 87)\n",
      "('j equals:', 162)\n",
      "('j-a equals:', 75)\n"
     ]
    },
    {
     "data": {
      "text/plain": [
       "11"
      ]
     },
     "execution_count": 158,
     "metadata": {},
     "output_type": "execute_result"
    }
   ],
   "source": [
    "golden_min_abs_sum(A)"
   ]
  },
  {
   "cell_type": "code",
   "execution_count": 136,
   "metadata": {
    "collapsed": true
   },
   "outputs": [],
   "source": [
    "def partition_prob(A):\n",
    "    count, max_A = count_repetitions(A)\n",
    "    sum_A = sum(A)\n",
    "    dp = [0] * (sum_A + 1)\n",
    "    dp[0] = 1\n",
    "    for i in xrange(max_A + 1):\n",
    "        if (count[i] > 0):\n",
    "            for j in xrange(sum_A):\n",
    "                if dp[j] > 0: \n",
    "                    dp[j] = count[i]\n",
    "                elif ((j > i) & (dp[j - i] > 0)):\n",
    "                    \n",
    "                    dp[j] = dp[j - i] - 1 # if sum j is acheievable, then we used already \n",
    "    "
   ]
  },
  {
   "cell_type": "code",
   "execution_count": 184,
   "metadata": {
    "collapsed": true
   },
   "outputs": [],
   "source": [
    "# we calculate in recurssion the intersection of one line with all other lines\n",
    "# where lines are constructed as A[k]*X + B \n",
    "def calculate_intersection(intersect, A, B, C, k):\n",
    "    len_C = len(C)\n",
    "    if (((B[len_C - 1] - B[k]) == 0) & (len_C > 0)):\n",
    "        return (calculate_intersection(intersect, A, B ,C[:-1], k))\n",
    "    if (((B[len_C - 1] - B[k]) != 0) &  (len_C > 0)):\n",
    "        inter =  (B[len_C - 1]-B[k]) / (A[k] - A[len_C - 1]) \n",
    "        print(len_C)\n",
    "        intersect.append(inter)\n",
    "    if len_C == 0:\n",
    "        return intersect\n",
    "    return(calculate_intersection(intersect, A, B ,C[:-1], k))"
   ]
  },
  {
   "cell_type": "markdown",
   "metadata": {},
   "source": [
    "### coursera strings"
   ]
  },
  {
   "cell_type": "code",
   "execution_count": 1,
   "metadata": {
    "collapsed": true
   },
   "outputs": [],
   "source": [
    "a = ['apple', 'coconut','banana', 'apple', 'banana', 'apple']"
   ]
  },
  {
   "cell_type": "code",
   "execution_count": 28,
   "metadata": {
    "collapsed": true
   },
   "outputs": [],
   "source": [
    "b = ['apple','banana', 'apple']"
   ]
  },
  {
   "cell_type": "code",
   "execution_count": 2,
   "metadata": {
    "collapsed": true
   },
   "outputs": [],
   "source": [
    "my_list = a"
   ]
  },
  {
   "cell_type": "markdown",
   "metadata": {},
   "source": [
    "[https://stackoverflow.com/questions/24907913/explain-combination-function-of-python-module-itertools]"
   ]
  },
  {
   "cell_type": "code",
   "execution_count": 67,
   "metadata": {
    "collapsed": true
   },
   "outputs": [],
   "source": [
    "def combinations(iterable, r):\n",
    "    pool = tuple(iterable)\n",
    "    n = len(pool)\n",
    "    if r > n: # if length subset > length of full list end\n",
    "        return\n",
    "    # if the length of the desired permutation is higher than the length of the tuple \n",
    "    # it is not possible to create permutations so return without doing something\n",
    "    \n",
    "    indices = list(range(r)) ## 0 1 2\n",
    "      # create the first list of indices in normal order ( indices = [0,1,2,3,...,r])\n",
    "    # up to the desired range r\n",
    "\n",
    "    \n",
    "    yield tuple(pool[i] for i in indices)\n",
    "     # return the first permutation which is a tuple of the input with the original \n",
    "    # indices up to r tuple(tuple[0], tuple[1],....,tuple[r])\n",
    "    \n",
    "    \n",
    "    while True: # infinite looping \n",
    "        for i in reversed(range(r)):  ## 2 1 0 \n",
    "            if indices[i] < i + n - r: \n",
    "            # after reversed, i will be r-1, r-2, r-3, ....,0\n",
    "            # something we should know before we start the 'for' loop\n",
    "            # the value of indices[r-1] should not greater than n-1\n",
    "            # the value of indices[r-2] should not greater than n-2\n",
    "            # and the maximum of indices[i] should be indices[r-1]\n",
    "            # so the value of indices[r-1] should between r-1 and n-r + r-1, like this:\n",
    "            #       r-1 <= indics[r-1] <= n-r + r-1\n",
    "            # so, to r-2:\n",
    "            #       r-2 <= indics[r-1] <= n-r + r-2\n",
    "            # let's set i = r-1:\n",
    "            #       i <= indices[i] <= n-r+i (n-1 is the maximum value)\n",
    "            # since we will keep plusing the value of indices[i], let's ignore i <= indices[i]\n",
    "            # and we just want to know if indices[i] can plus or not,\n",
    "            # so indices[i] can be equal with n-r+i\n",
    "            # then we got:\n",
    "            #       indices[i] < i + n - r\n",
    "            # the offical document give: indices[i] != i + n - r,\n",
    "            # cause when indices[i] == i + n - r, it arrived the boundry, \n",
    "            # the \"for\" loop will get into indices[i-1], there will be no judgement for \">i+n-r\"\n",
    "            # so to use indices[i] != i + n - r is still a good way, \n",
    "            # but i prefer indices[i] < i + n - r, which is easier to understand for me.\n",
    "            # so next question is \"break\" in here, \n",
    "            # it means the value of indices[i] doesn't reach the boundry still can plus one,\n",
    "            # let break out to continue the iteration\n",
    "            # when it hit the boundry, i will be r-2\n",
    "            # So we can see the result:\n",
    "            # 1, 2, 3\n",
    "            # 1, 2, 4\n",
    "            # 1, 2, 5\n",
    "            # 1, 3, 4\n",
    "            # always loop the last index, hit the boundry, check the last but one.\n",
    "                break\n",
    "        else:\n",
    "            return\n",
    "        indices[i] += 1 \n",
    "        for j in range(i + 1, r): \n",
    "            indices[j] = indices[j-1] + 1 # indices[1] = indices[0] + 1\n",
    "            \n",
    "            # this for loop is increase every indices which is after indices[i].\n",
    "            # cause, current index increased, and we need to confirm every one behind is orderd\n",
    "            # for example: current we got i = 2, indices[i]+1 will be 3, \n",
    "            # so the next loop will start with [1, 3, 4], not [1, 3, 3]\n",
    "            \n",
    "        yield tuple(pool[i] for i in indices)"
   ]
  },
  {
   "cell_type": "code",
   "execution_count": 68,
   "metadata": {
    "collapsed": true
   },
   "outputs": [],
   "source": [
    "my_list = ['apple', 'banana', 'apple']"
   ]
  },
  {
   "cell_type": "code",
   "execution_count": 71,
   "metadata": {},
   "outputs": [
    {
     "name": "stdout",
     "output_type": "stream",
     "text": [
      "('apple', 'banana')\n",
      "('apple', 'apple')\n",
      "('banana', 'apple')\n"
     ]
    }
   ],
   "source": [
    "for i in combinations(my_list, 2):\n",
    "    print i"
   ]
  },
  {
   "cell_type": "code",
   "execution_count": 5,
   "metadata": {
    "collapsed": true
   },
   "outputs": [],
   "source": [
    "a = []\n",
    "for j in range(1, len(my_list)):\n",
    "    for i in combinations(my_list, j):\n",
    "        t = sorted(list(i[:]))\n",
    "        try :\n",
    "            if any(x == t for x in a):\n",
    "                break\n",
    "            else:\n",
    "                a.append(t)\n",
    "        except:\n",
    "            a.append(t)"
   ]
  },
  {
   "cell_type": "code",
   "execution_count": 6,
   "metadata": {
    "scrolled": true
   },
   "outputs": [
    {
     "data": {
      "text/plain": [
       "\"['apple'],['banana'],['apple', 'banana'],['apple', 'apple']\""
      ]
     },
     "execution_count": 6,
     "metadata": {},
     "output_type": "execute_result"
    }
   ],
   "source": [
    "\",\".join([str(x) for x in a])  "
   ]
  },
  {
   "cell_type": "code",
   "execution_count": null,
   "metadata": {
    "collapsed": true
   },
   "outputs": [],
   "source": [
    "######"
   ]
  },
  {
   "cell_type": "code",
   "execution_count": 10,
   "metadata": {
    "collapsed": true
   },
   "outputs": [],
   "source": [
    "names = ['Tom Hardy', 'Jeff Gold', 'Arie Gold']"
   ]
  },
  {
   "cell_type": "code",
   "execution_count": 11,
   "metadata": {},
   "outputs": [
    {
     "data": {
      "text/plain": [
       "['Tom Hardy', 'Jeff Gold', 'Arie Gold']"
      ]
     },
     "execution_count": 11,
     "metadata": {},
     "output_type": "execute_result"
    }
   ],
   "source": [
    "names"
   ]
  },
  {
   "cell_type": "code",
   "execution_count": 12,
   "metadata": {},
   "outputs": [
    {
     "data": {
      "text/plain": [
       "'Tom Hardy'"
      ]
     },
     "execution_count": 12,
     "metadata": {},
     "output_type": "execute_result"
    }
   ],
   "source": [
    "names[0]"
   ]
  },
  {
   "cell_type": "code",
   "execution_count": 13,
   "metadata": {
    "collapsed": true
   },
   "outputs": [],
   "source": [
    "my_list = names[0].split(\" \")"
   ]
  },
  {
   "cell_type": "code",
   "execution_count": 14,
   "metadata": {},
   "outputs": [
    {
     "data": {
      "text/plain": [
       "['Tom', 'Hardy']"
      ]
     },
     "execution_count": 14,
     "metadata": {},
     "output_type": "execute_result"
    }
   ],
   "source": [
    "my_list"
   ]
  },
  {
   "cell_type": "code",
   "execution_count": 15,
   "metadata": {
    "collapsed": true
   },
   "outputs": [],
   "source": [
    "first_name_list = [] \n",
    "for i in range(len(names)): \n",
    "    first_name = (names[i].split(\" \"))[0]\n",
    "    first_name_list.append(first_name)"
   ]
  },
  {
   "cell_type": "code",
   "execution_count": 16,
   "metadata": {},
   "outputs": [
    {
     "data": {
      "text/plain": [
       "['Tom', 'Jeff', 'Arie']"
      ]
     },
     "execution_count": 16,
     "metadata": {},
     "output_type": "execute_result"
    }
   ],
   "source": [
    "first_name_list"
   ]
  },
  {
   "cell_type": "code",
   "execution_count": 54,
   "metadata": {
    "collapsed": true
   },
   "outputs": [],
   "source": [
    "# complexity of sorting - depending on algorithm worst is nlog(n)\n",
    "def find_median(A, B):\n",
    "    join = np.concatenate((np.array(A).reshape(-1, 1), np.array(B).reshape(-1, 1)), 1)\n",
    "    join_sort = join[join[:,0].argsort()]\n",
    "    join_sort_2 = np.concatenate((join_sort, np.cumsum(join_sort[:, 1]).reshape(-1, 1)), 1)\n",
    "    join_sort_3 = np.concatenate((join_sort_2, (join_sort_2[:, 2] / sum(join_sort_2[:, 1])).reshape(-1, 1)), 1)\n",
    "    if(sum(join_sort_2[:, 1]) % 2 != 0):\n",
    "        median = join_sort_3[join_sort_3[:, 3] >= 0.5, 0][0]    \n",
    "    \n",
    "    else:\n",
    "        median = (join_sort_3[join_sort_3[:, 3] >= 0.5, 0][0] + join_sort_3[join_sort_3[:, 3] >= 0.5, 0][1]) / 2 \n",
    "    return(median)"
   ]
  },
  {
   "cell_type": "code",
   "execution_count": 58,
   "metadata": {},
   "outputs": [
    {
     "data": {
      "text/plain": [
       "3.0"
      ]
     },
     "execution_count": 58,
     "metadata": {},
     "output_type": "execute_result"
    }
   ],
   "source": [
    "find_median([1, 2, 3, 4], [1, 1, 6, 1])"
   ]
  },
  {
   "cell_type": "markdown",
   "metadata": {},
   "source": [
    "# Heapsort"
   ]
  },
  {
   "cell_type": "code",
   "execution_count": 175,
   "metadata": {},
   "outputs": [
    {
     "data": {
      "text/plain": [
       "[56, 7, 5, 3, 2, 1, -2]"
      ]
     },
     "execution_count": 175,
     "metadata": {},
     "output_type": "execute_result"
    }
   ],
   "source": [
    "def swap(A, i, j):\n",
    "    temp = A[i] \n",
    "    A[i] = A[j]\n",
    "    A[j] = temp\n",
    "    return A\n",
    "\n",
    "\n",
    "def max_heapify(A, index):\n",
    "    heap_size = len(A)\n",
    "    left_child = 2 * index + 1\n",
    "    right_child = 2 * index + 2\n",
    "    largest = index\n",
    "    if (left_child < heap_size):\n",
    "        if((left_child <= heap_size) & (A[left_child] > A[index])):\n",
    "            largest = left_child\n",
    "\n",
    "    if(right_child < heap_size):\n",
    "        if (A[right_child] > A[largest]):\n",
    "            largest = right_child\n",
    "    if (largest != index):\n",
    "        swap(A, index, largest)\n",
    "        max_heapify(A, largest)\n",
    "    return A\n",
    "\n",
    "def build_max_heap(A):\n",
    "    n = len(A)\n",
    "    for index in range(((n // 2) - 1), -1, -1):\n",
    "        max_heapify(A, index)\n",
    "    return A\n",
    "       \n",
    "    \n",
    "def heap_sort(A):\n",
    "    sorted_array = []\n",
    "    n = len(A)\n",
    "    for length in range(n, 0, -1):\n",
    "        A = build_max_heap(A[0:length])\n",
    "        A = swap(A, (length - 1), 0)\n",
    "        sorted_array.append(A[length - 1])\n",
    "    return (sorted_array)\n",
    "\n",
    "\n",
    "sqc = [2, 7, 1, -2, 56, 5, 3]\n",
    "heap_sort(sqc)\n",
    "# print(sqc)"
   ]
  },
  {
   "cell_type": "markdown",
   "metadata": {},
   "source": [
    "# Search algo."
   ]
  },
  {
   "cell_type": "markdown",
   "metadata": {},
   "source": [
    "### Depth first"
   ]
  },
  {
   "cell_type": "code",
   "execution_count": 52,
   "metadata": {},
   "outputs": [
    {
     "data": {
      "text/plain": [
       "['A', 'B', 'D', 'E', 'F', 'C']"
      ]
     },
     "execution_count": 52,
     "metadata": {},
     "output_type": "execute_result"
    }
   ],
   "source": [
    "graph = {'A': set(['B', 'C']),\n",
    "         'B': set(['A', 'D', 'E']),\n",
    "         'C': set(['A', 'F']),\n",
    "         'D': set(['B']),\n",
    "         'E': set(['B', 'F']),\n",
    "         'F': set(['C', 'E'])}\n",
    "\n",
    "def dfs(graph, start):\n",
    "    visited, stack = list(), [start]\n",
    "    while stack:\n",
    "        vertex = stack.pop()\n",
    "        if vertex not in visited:\n",
    "            visited.append(vertex)\n",
    "            stack.extend(graph[vertex] - set(visited))\n",
    "    return visited\n",
    "\n",
    "dfs(graph, 'A') # {'E', 'D', 'F', 'A', 'C', 'B'}\n"
   ]
  },
  {
   "cell_type": "code",
   "execution_count": 3,
   "metadata": {},
   "outputs": [
    {
     "data": {
      "text/plain": [
       "[['A', 'B', 'E', 'F'], ['A', 'C', 'F']]"
      ]
     },
     "execution_count": 3,
     "metadata": {},
     "output_type": "execute_result"
    }
   ],
   "source": [
    "def dfs_paths(graph, start, goal):\n",
    "    stack = [(start, [start])]\n",
    "    while stack:\n",
    "        (vertex, path) = stack.pop()\n",
    "        for next in graph[vertex] - set(path):\n",
    "            if next == goal:\n",
    "                yield path + [next]\n",
    "            else:\n",
    "                stack.append((next, path + [next]))\n",
    "\n",
    "list(dfs_paths(graph, 'A', 'F')) "
   ]
  },
  {
   "cell_type": "code",
   "execution_count": 1,
   "metadata": {
    "collapsed": true
   },
   "outputs": [],
   "source": [
    "a = [5, 6, 7]\n",
    "b = [3, 6, 10]"
   ]
  },
  {
   "cell_type": "code",
   "execution_count": 6,
   "metadata": {},
   "outputs": [
    {
     "data": {
      "text/plain": [
       "True"
      ]
     },
     "execution_count": 6,
     "metadata": {},
     "output_type": "execute_result"
    }
   ],
   "source": [
    "a[0] > b[0] "
   ]
  },
  {
   "cell_type": "code",
   "execution_count": 7,
   "metadata": {},
   "outputs": [
    {
     "data": {
      "text/plain": [
       "list"
      ]
     },
     "execution_count": 7,
     "metadata": {},
     "output_type": "execute_result"
    }
   ],
   "source": [
    "type(a)"
   ]
  },
  {
   "cell_type": "code",
   "execution_count": null,
   "metadata": {
    "collapsed": true
   },
   "outputs": [],
   "source": [
    "Write a code to switch a k-th element with (N-k)-th element in a linked list of length N.  "
   ]
  },
  {
   "cell_type": "code",
   "execution_count": 1,
   "metadata": {
    "collapsed": true
   },
   "outputs": [],
   "source": [
    "string = 'ABCDCDC'\n",
    "sub_string = 'CDC'"
   ]
  },
  {
   "cell_type": "code",
   "execution_count": 17,
   "metadata": {},
   "outputs": [
    {
     "data": {
      "text/plain": [
       "'CD'"
      ]
     },
     "execution_count": 17,
     "metadata": {},
     "output_type": "execute_result"
    }
   ],
   "source": [
    "string[-len(sub_string):-1]"
   ]
  },
  {
   "cell_type": "code",
   "execution_count": 18,
   "metadata": {},
   "outputs": [
    {
     "data": {
      "text/plain": [
       "'ABCDCDC'"
      ]
     },
     "execution_count": 18,
     "metadata": {},
     "output_type": "execute_result"
    }
   ],
   "source": [
    "string.strip()"
   ]
  },
  {
   "cell_type": "markdown",
   "metadata": {
    "collapsed": true
   },
   "source": [
    "## Quick sort "
   ]
  },
  {
   "cell_type": "markdown",
   "metadata": {},
   "source": [
    "Worst Case: The worst case occurs when the partition process always picks greatest or smallest element as pivot.  \n",
    "T(n) = T(n-1) + O(n) = O(n^2)\n",
    "Best Case: Best Case: The best case occurs when the partition process always picks the middle element as pivot\n",
    " T(n) = 2T(n/2) + \\theta(n) = O(NlogN) \n"
   ]
  },
  {
   "cell_type": "code",
   "execution_count": 65,
   "metadata": {
    "collapsed": true
   },
   "outputs": [],
   "source": [
    "def partition(arr, low, high):\n",
    "    pivot = arr[(low + high) // 2]     # pivot\n",
    "    \n",
    "    while (low <= high - 1):\n",
    "\n",
    "        # If current element is smaller than or\n",
    "        # equal to pivot\n",
    "        while (arr[low] < pivot):\n",
    "\n",
    "            # increment index of smaller element\n",
    "            low += 1\n",
    "        while (arr[high] > pivot) :\n",
    "\n",
    "            high -= 1\n",
    "\n",
    "        if (low <= high):\n",
    "            temp = arr[high] \n",
    "            arr[high] = arr[low]\n",
    "            arr[low] = temp \n",
    "            low += 1\n",
    "            high -= 1 \n",
    "        \n",
    "        \n",
    "    print arr\n",
    "    return low\n",
    " \n",
    "def quickSort(arr, low, high):\n",
    "    if low < high:\n",
    " \n",
    "        # pi is partitioning index, arr[p] is now\n",
    "        # at right place cause we have moved everything smaller to the left \n",
    "        # and bigger to the right.\n",
    "        pi = partition(arr, low, high)\n",
    "        print pi\n",
    "        # Separately sort elements before\n",
    "        # partition and after partition\n",
    "        quickSort(arr, low, pi-1)\n",
    "        quickSort(arr, pi, high)\n",
    "    return arr"
   ]
  },
  {
   "cell_type": "markdown",
   "metadata": {},
   "source": [
    "## Merge sort "
   ]
  },
  {
   "cell_type": "markdown",
   "metadata": {},
   "source": [
    "T(n) = 2T(n/2) + \\Theta(n)\n",
    "linear time to merge "
   ]
  },
  {
   "cell_type": "code",
   "execution_count": 187,
   "metadata": {
    "collapsed": true
   },
   "outputs": [],
   "source": [
    "# Merges two subarrays of arr[].\n",
    "# First subarray is arr[l..m]\n",
    "# Second subarray is arr[m+1..r]\n",
    "def merge(arr, l, m, r):\n",
    "    swap = 0 \n",
    "    n1 = m - l + 1\n",
    "    n2 = r- m\n",
    " \n",
    "    # create temp arrays\n",
    "    L = [0] * (n1)\n",
    "    R = [0] * (n2)\n",
    " \n",
    "    # Copy data to temp arrays L[] and R[]\n",
    "    for i in range(0 , n1):\n",
    "        L[i] = arr[l + i]\n",
    " \n",
    "    for j in range(0 , n2):\n",
    "        R[j] = arr[m + 1 + j]\n",
    " \n",
    "    # Merge the temp arrays back into arr[l..r]\n",
    "    i = 0     # Initial index of first subarray\n",
    "    j = 0     # Initial index of second subarray\n",
    "    k = l     # Initial index of merged subarray\n",
    " \n",
    "    while i < n1 and j < n2 :\n",
    "        if L[i] <= R[j]:\n",
    "            arr[k] = L[i]\n",
    "            i += 1\n",
    "        else:\n",
    "            arr[k] = R[j]\n",
    "            j += 1\n",
    "            swap += 1\n",
    "        k += 1\n",
    " \n",
    "    # Copy the remaining elements of L[], if there\n",
    "    # are any\n",
    "    while i < n1:\n",
    "        arr[k] = L[i]\n",
    "        i += 1\n",
    "        k += 1\n",
    " \n",
    "    # Copy the remaining elements of R[], if there\n",
    "    # are any\n",
    "    while j < n2:\n",
    "        arr[k] = R[j]\n",
    "        j += 1\n",
    "        k += 1\n",
    "    return swap\n",
    " \n",
    "# l is for left index and r is right index of the\n",
    "# sub-array of arr to be sorted\n",
    "def mergeSort(arr, l, r, a =[]):\n",
    "    count = 0\n",
    "    if l < r:\n",
    " \n",
    "        # Same as (l+r)/2, but avoids overflow for\n",
    "        # large l and h\n",
    "        m = (l+(r-1))/2\n",
    " \n",
    "        # Sort first and second halves\n",
    "        mergeSort(arr, l, m)\n",
    "        mergeSort(arr, m+1, r)\n",
    "        count += merge(arr, l, m, r)\n",
    "        a.append(count)\n",
    "        return a"
   ]
  },
  {
   "cell_type": "markdown",
   "metadata": {},
   "source": [
    "## shift all elment to the left by d steps"
   ]
  },
  {
   "cell_type": "code",
   "execution_count": 70,
   "metadata": {
    "collapsed": true
   },
   "outputs": [],
   "source": [
    "indices = range(len(a))\n",
    "new_arr = [0] * len(a)\n",
    "for i in (range(len(a))):\n",
    "    if (indices[i] + d) > (len(a) - 1):\n",
    "        n = len(a)\n",
    "    else:\n",
    "        n = 0\n",
    "    new_arr[i] = (a[indices[i] + d - n])"
   ]
  },
  {
   "cell_type": "markdown",
   "metadata": {},
   "source": [
    "## Check for a valid binary search tree"
   ]
  },
  {
   "cell_type": "code",
   "execution_count": null,
   "metadata": {
    "collapsed": true
   },
   "outputs": [],
   "source": [
    "def check_binary_search_tree_(root, mini, maxi):\n",
    "    if(root == None):\n",
    "        return True\n",
    "\n",
    "    if(root.data < mini or root.data > maxi):\n",
    "        return False\n",
    "\n",
    "    return check_binary_search_tree_(root.left, mini, root.data - 1) \n",
    "            and check_binary_search_tree_(root.right, root.data + 1, maxi);\n",
    "\n",
    "\n",
    "def checkBST(root):\n",
    "  return check_binary_search_tree_(root, 0, 10000001);"
   ]
  },
  {
   "cell_type": "markdown",
   "metadata": {},
   "source": [
    "## Binary Search"
   ]
  },
  {
   "cell_type": "code",
   "execution_count": null,
   "metadata": {
    "collapsed": true
   },
   "outputs": [],
   "source": [
    "### find the index of last number in array that equals X"
   ]
  },
  {
   "cell_type": "code",
   "execution_count": 81,
   "metadata": {
    "collapsed": true
   },
   "outputs": [],
   "source": [
    "# arr is an ordered array\n",
    "def search_last(arr, x):\n",
    "    n = len(arr)\n",
    "    i = 0\n",
    "    j = n - 1\n",
    "    while(j-i > 1):\n",
    "        m = (i + j) // 2\n",
    "        if(arr[m] <= x):\n",
    "            i = m \n",
    "        else:\n",
    "            j = m\n",
    "    return i"
   ]
  },
  {
   "cell_type": "code",
   "execution_count": 82,
   "metadata": {},
   "outputs": [
    {
     "data": {
      "text/plain": [
       "3"
      ]
     },
     "execution_count": 82,
     "metadata": {},
     "output_type": "execute_result"
    }
   ],
   "source": [
    "search_last([1,2,2,2,3,4,6,8,9,9],2)"
   ]
  },
  {
   "cell_type": "code",
   "execution_count": null,
   "metadata": {
    "collapsed": true
   },
   "outputs": [],
   "source": [
    "# find the index of first number in array that equals X"
   ]
  },
  {
   "cell_type": "code",
   "execution_count": 87,
   "metadata": {
    "collapsed": true
   },
   "outputs": [],
   "source": [
    "# arr is an ordered array\n",
    "def search_first(arr, x):\n",
    "    n = len(arr)\n",
    "    i = 0\n",
    "    j = n - 1\n",
    "    while(j > i):\n",
    "        m = (i + j) // 2\n",
    "        if(arr[m] < x):\n",
    "            i = m + 1 \n",
    "        else:\n",
    "            j = m\n",
    "    if (arr[i] == x):\n",
    "        return i \n",
    "    else:\n",
    "        return None"
   ]
  },
  {
   "cell_type": "code",
   "execution_count": 88,
   "metadata": {},
   "outputs": [
    {
     "data": {
      "text/plain": [
       "1"
      ]
     },
     "execution_count": 88,
     "metadata": {},
     "output_type": "execute_result"
    }
   ],
   "source": [
    "search_first([1,2,2,2,3,4,6,8,9,9],2)"
   ]
  },
  {
   "cell_type": "markdown",
   "metadata": {},
   "source": [
    "### Binary search tree"
   ]
  },
  {
   "cell_type": "code",
   "execution_count": null,
   "metadata": {
    "collapsed": true
   },
   "outputs": [],
   "source": [
    "class Node:\n",
    "    def __init__(self, val):\n",
    "        self.val = val\n",
    "        self.leftChild = None\n",
    "        self.rightChild = None\n",
    "    \n",
    "    def get(self):\n",
    "        return self.val\n",
    "    \n",
    "    def set(self, val):\n",
    "        self.val = val\n",
    "        \n",
    "    def getChildren(self):\n",
    "        children = []\n",
    "        if(self.leftChild != None):\n",
    "            children.append(self.leftChild)\n",
    "        if(self.rightChild != None):\n",
    "            children.append(self.rightChild)\n",
    "        return children\n",
    "        \n",
    "class BST:\n",
    "    def __init__(self):\n",
    "        self.root = None\n",
    "\n",
    "    def setRoot(self, val):\n",
    "        self.root = Node(val)\n",
    "\n",
    "    def insert(self, val):\n",
    "        if(self.root is None):\n",
    "            self.setRoot(val)\n",
    "        else:\n",
    "            self.insertNode(self.root, val)\n",
    "\n",
    "    def insertNode(self, currentNode, val):\n",
    "        if(val <= currentNode.val):\n",
    "            if(currentNode.leftChild):\n",
    "                self.insertNode(currentNode.leftChild, val)\n",
    "            else:\n",
    "                currentNode.leftChild = Node(val)\n",
    "        elif(val > currentNode.val):\n",
    "            if(currentNode.rightChild):\n",
    "                self.insertNode(currentNode.rightChild, val)\n",
    "            else:\n",
    "                currentNode.rightChild = Node(val)\n",
    "\n",
    "    def find(self, val):\n",
    "        return self.findNode(self.root, val)\n",
    "\n",
    "    def findNode(self, currentNode, val):\n",
    "        if(currentNode is None):\n",
    "            return False\n",
    "        elif(val == currentNode.val):\n",
    "            return True\n",
    "        elif(val < currentNode.val):\n",
    "            return self.findNode(currentNode.leftChild, val)\n",
    "        else:\n",
    "            return self.findNode(currentNode.rightChild, val)"
   ]
  },
  {
   "cell_type": "markdown",
   "metadata": {
    "collapsed": true
   },
   "source": [
    "# Tries - find contacts/ substrings of real words"
   ]
  },
  {
   "cell_type": "code",
   "execution_count": 90,
   "metadata": {
    "collapsed": true
   },
   "outputs": [],
   "source": [
    "tries = [0, {}]\n",
    "\n",
    "def add(name):\n",
    "    root = tries\n",
    "    for c in name:\n",
    "        if c not in root[1]:\n",
    "            root[1][c] = [0, {}]\n",
    "        root[1][c][0] += 1\n",
    "        root = root[1][c]\n",
    "        \n",
    "def find(name):\n",
    "    root = tries\n",
    "    for e in name:\n",
    "        if e not in root[1]:\n",
    "            return 0\n",
    "        root = root[1][e]\n",
    "    return root[0]\n",
    "        \n",
    "n = int(raw_input().strip())\n",
    "for a0 in range(n):\n",
    "    op, contact = raw_input().strip().split(' ')\n",
    "    if op == 'add': \n",
    "        add(contact)\n",
    "    if op == 'find':\n",
    "        print find(contact)\n",
    "    "
   ]
  },
  {
   "cell_type": "code",
   "execution_count": 7,
   "metadata": {
    "collapsed": true
   },
   "outputs": [],
   "source": [
    "arr = '{[()]}'"
   ]
  },
  {
   "cell_type": "code",
   "execution_count": 13,
   "metadata": {
    "collapsed": true
   },
   "outputs": [],
   "source": [
    "arr_1 = ','.join(arr)"
   ]
  },
  {
   "cell_type": "code",
   "execution_count": 14,
   "metadata": {},
   "outputs": [
    {
     "data": {
      "text/plain": [
       "'{,[,(,),],}'"
      ]
     },
     "execution_count": 14,
     "metadata": {},
     "output_type": "execute_result"
    }
   ],
   "source": [
    "arr_1"
   ]
  },
  {
   "cell_type": "code",
   "execution_count": 15,
   "metadata": {},
   "outputs": [
    {
     "data": {
      "text/plain": [
       "'{,[,(,),],}'"
      ]
     },
     "execution_count": 15,
     "metadata": {},
     "output_type": "execute_result"
    }
   ],
   "source": [
    "arr_1"
   ]
  },
  {
   "cell_type": "code",
   "execution_count": 19,
   "metadata": {
    "collapsed": true
   },
   "outputs": [],
   "source": [
    "arr_2 = arr_1.split(',')"
   ]
  },
  {
   "cell_type": "code",
   "execution_count": 29,
   "metadata": {},
   "outputs": [
    {
     "data": {
      "text/plain": [
       "'{'"
      ]
     },
     "execution_count": 29,
     "metadata": {},
     "output_type": "execute_result"
    }
   ],
   "source": [
    "arr_2[0] "
   ]
  },
  {
   "cell_type": "code",
   "execution_count": 30,
   "metadata": {},
   "outputs": [
    {
     "data": {
      "text/plain": [
       "'}'"
      ]
     },
     "execution_count": 30,
     "metadata": {},
     "output_type": "execute_result"
    }
   ],
   "source": [
    "arr_2[5]"
   ]
  },
  {
   "cell_type": "code",
   "execution_count": 25,
   "metadata": {
    "collapsed": true
   },
   "outputs": [],
   "source": [
    "class queue:\n",
    "    def __init__(self, arr):\n",
    "        self.q_size = len(arr)\n",
    "        self.arr = arr\n",
    "        self.head = arr[0]\n",
    "        self.tail = arr[self.q_size - 1]\n",
    "        self.index = range(len(arr))\n",
    "        \n",
    "    def balnaced_check(self, arr):\n",
    "        if self.head.closed_by(self.tail):\n",
    "            balanced_check(self, arr[1:-1])\n",
    "        if \n",
    "            \n",
    "        \n",
    "    def remove(self):\n",
    "        for i in range(self.q_size):\n",
    "            if self.head == self.tail:\n",
    "                self.arr = self.arr[1:-1]\n",
    "                self.head = self.arr[0]\n",
    "                self.tail = self.arr[len(self.arr) - 1]\n",
    "            else: \n",
    "                return ('NO')\n",
    "        return ('YES')"
   ]
  },
  {
   "cell_type": "code",
   "execution_count": 26,
   "metadata": {
    "collapsed": true
   },
   "outputs": [],
   "source": [
    "trial = queue(arr_2)"
   ]
  },
  {
   "cell_type": "code",
   "execution_count": 27,
   "metadata": {},
   "outputs": [
    {
     "data": {
      "text/plain": [
       "'NO'"
      ]
     },
     "execution_count": 27,
     "metadata": {},
     "output_type": "execute_result"
    }
   ],
   "source": [
    "trial.remove()"
   ]
  },
  {
   "cell_type": "code",
   "execution_count": 34,
   "metadata": {
    "collapsed": true
   },
   "outputs": [],
   "source": [
    "stack = [3, 4, 5]"
   ]
  },
  {
   "cell_type": "code",
   "execution_count": 32,
   "metadata": {},
   "outputs": [
    {
     "data": {
      "text/plain": [
       "5"
      ]
     },
     "execution_count": 32,
     "metadata": {},
     "output_type": "execute_result"
    }
   ],
   "source": [
    "stack.pop()"
   ]
  },
  {
   "cell_type": "code",
   "execution_count": 35,
   "metadata": {},
   "outputs": [
    {
     "data": {
      "text/plain": [
       "5"
      ]
     },
     "execution_count": 35,
     "metadata": {},
     "output_type": "execute_result"
    }
   ],
   "source": [
    "stack.pop(-1)"
   ]
  },
  {
   "cell_type": "markdown",
   "metadata": {},
   "source": [
    "# Balanced brackets "
   ]
  },
  {
   "cell_type": "code",
   "execution_count": null,
   "metadata": {
    "collapsed": true
   },
   "outputs": [],
   "source": [
    "def bracketsMatch(a, b):\n",
    "    if a == \"{\" and b == \"}\":\n",
    "        return True\n",
    "    if a == \"(\" and b == \")\":\n",
    "        return True\n",
    "    if a == \"[\" and b == \"]\":\n",
    "        return True\n",
    "    else:\n",
    "        return False\n",
    "    \n",
    "def isOpen (a):\n",
    "    if a == '{' or a == '(' or a == '[':\n",
    "        return True\n",
    "    else:\n",
    "        return False\n",
    "\n",
    "def is_matched(expression):\n",
    "    stack = ['x']\n",
    "    for char in expression:\n",
    "        if isOpen(char):\n",
    "            stack.append(char)\n",
    "        else:\n",
    "            if bracketsMatch(stack.pop(-1), char) is False:\n",
    "                return False\n",
    "    \n",
    "    if len(stack) == 1:\n",
    "        return True\n",
    "    else:\n",
    "        return False"
   ]
  },
  {
   "cell_type": "markdown",
   "metadata": {},
   "source": [
    "# Naive solution for the exact change back problem "
   ]
  },
  {
   "cell_type": "code",
   "execution_count": 29,
   "metadata": {
    "collapsed": true
   },
   "outputs": [],
   "source": [
    "def test_change(customer_bill):    \n",
    "    change = [5]\n",
    "    if customer_bill[0] != 5: \n",
    "        return False\n",
    "    else: \n",
    "        for i in range(2, len(customer_bill) - 1):\n",
    "            if customer_bill[i] == 5: \n",
    "                customer_bill.append(5)\n",
    "            elif customer_bill[i] == 10: \n",
    "                indices = [i for i, x in enumerate(a) if x == 5]\n",
    "                if (len(indices)>0):\n",
    "                    customer_bill.remove(5)\n",
    "                    customer_bill.append(10)\n",
    "                else: \n",
    "                    return False\n",
    "            else: \n",
    "                indices = [i for i, x in enumerate(a) if x == 5]\n",
    "                indices_2 = [i for i, x in enumerate(a) if x == 10]\n",
    "                if len(indices) > 2:\n",
    "                    customer_bill.remove(5)\n",
    "                    customer_bill.remove(5)\n",
    "                    customer_bill.remove(5)\n",
    "                    customer_bill.append(20)\n",
    "                if (len(indices) > 0 & len(indices_2) > 0):\n",
    "                    customer_bill.remove(10)\n",
    "                    customer_bill.remove(5)\n",
    "                    customer_bill.append(20)\n",
    "    return True\n"
   ]
  },
  {
   "cell_type": "markdown",
   "metadata": {},
   "source": [
    "# Find minimum number of coins that make a given value"
   ]
  },
  {
   "cell_type": "code",
   "execution_count": 96,
   "metadata": {
    "collapsed": true
   },
   "outputs": [],
   "source": [
    "import sys\n",
    " \n",
    "# m is size of coins array (number of different coins)\n",
    "def min_coins(coins, V):\n",
    "    \n",
    "    # base case\n",
    "    if (V == 0):\n",
    "        return 0\n",
    " \n",
    "    # Initialize result\n",
    "    res = sys.maxsize\n",
    "     \n",
    "    # Try every coin that has smaller value than V\n",
    "    for i in range(len(coins)):\n",
    "        if (coins[i] <= V):\n",
    "            sub_res = 1 + min_coins(coins, V - coins[i])\n",
    " \n",
    "            if (sub_res < res):\n",
    "                res = sub_res \n",
    " \n",
    "    return res"
   ]
  },
  {
   "cell_type": "code",
   "execution_count": 94,
   "metadata": {
    "collapsed": true
   },
   "outputs": [],
   "source": [
    "coin_vals = [9,6,5,1]"
   ]
  },
  {
   "cell_type": "code",
   "execution_count": 98,
   "metadata": {},
   "outputs": [
    {
     "data": {
      "text/plain": [
       "4"
      ]
     },
     "execution_count": 98,
     "metadata": {},
     "output_type": "execute_result"
    }
   ],
   "source": [
    "min_coins(coin_vals, 30)"
   ]
  },
  {
   "cell_type": "markdown",
   "metadata": {},
   "source": [
    "# Calculate the angle between hour and mins "
   ]
  },
  {
   "cell_type": "code",
   "execution_count": 101,
   "metadata": {
    "collapsed": true
   },
   "outputs": [],
   "source": [
    "def calculate_angle(hr, m):\n",
    "    # hr is 0-23\n",
    "    # m is 0-60\n",
    "    minute_ang = 360 * m / 60\n",
    "    hour_ang = 360 / 12 * (hr % 12) + (m * 360/60) / 12 \n",
    "    result = hour_ang - minute_ang\n",
    "    return abs(result)"
   ]
  },
  {
   "cell_type": "markdown",
   "metadata": {},
   "source": [
    "# find the reset point (minimum element in a shifted sorted array)"
   ]
  },
  {
   "cell_type": "code",
   "execution_count": 115,
   "metadata": {
    "collapsed": true
   },
   "outputs": [],
   "source": [
    "# naive way - loop all elments \n",
    "# binary search approach\n",
    "def min_search_shitfed_sorted_array(arr):\n",
    "    # arr is a sorted array \n",
    "    i = 0 \n",
    "    j = len(arr) - 1\n",
    "    while (j-i > 1):\n",
    "        m = (i + j) // 2\n",
    "        if (arr[m] > arr[i]):\n",
    "            i = m \n",
    "        else: \n",
    "            j = m \n",
    "    \n",
    "\n",
    "    return j\n",
    "        "
   ]
  },
  {
   "cell_type": "code",
   "execution_count": 116,
   "metadata": {},
   "outputs": [
    {
     "data": {
      "text/plain": [
       "4"
      ]
     },
     "execution_count": 116,
     "metadata": {},
     "output_type": "execute_result"
    }
   ],
   "source": [
    "min_search_shitfed_sorted_array([4,5,6,7,1,2])"
   ]
  },
  {
   "cell_type": "markdown",
   "metadata": {},
   "source": [
    "# 1.1 determine if a string has all unique characters "
   ]
  },
  {
   "cell_type": "code",
   "execution_count": 133,
   "metadata": {
    "collapsed": true
   },
   "outputs": [],
   "source": [
    "a = 'strkhgfbvc'"
   ]
  },
  {
   "cell_type": "code",
   "execution_count": 137,
   "metadata": {
    "collapsed": true
   },
   "outputs": [],
   "source": [
    "def is_unique_chara_string(string): \n",
    "    if len(string) - 1 > 26 : \n",
    "        return False\n",
    "    else: \n",
    "        char_set = [False] * 26 # number of possible characters\n",
    "        for i in range(len(string)):\n",
    "            val = ord(string[i]) - 97\n",
    "            if(char_set[val]):\n",
    "                return False\n",
    "            char_set[val] = True\n",
    "    return True  "
   ]
  },
  {
   "cell_type": "code",
   "execution_count": 138,
   "metadata": {},
   "outputs": [
    {
     "data": {
      "text/plain": [
       "True"
      ]
     },
     "execution_count": 138,
     "metadata": {},
     "output_type": "execute_result"
    }
   ],
   "source": [
    "is_unique_chara_string(a)"
   ]
  },
  {
   "cell_type": "code",
   "execution_count": null,
   "metadata": {
    "collapsed": true
   },
   "outputs": [],
   "source": [
    "#1.3"
   ]
  },
  {
   "cell_type": "code",
   "execution_count": 160,
   "metadata": {
    "collapsed": true
   },
   "outputs": [],
   "source": [
    "# n^2 solution \n",
    "# how expensive is the comparison I did\n",
    "def is_str2_perm_of_str1(str1, str2):\n",
    "    char_set = [0] * 26 \n",
    "    for i in range(len(str1)):\n",
    "        val = ord(str1[i]) - 97\n",
    "        char_set[val] += 1\n",
    "        \n",
    "    for j in range(len(str2)): \n",
    "        val = ord(str2[j]) - 97\n",
    "        char_set[val] = char_set[val] - 1\n",
    "        if char_set[val] < 0:            \n",
    "            return False\n",
    "    return True \n",
    "    \n",
    "    "
   ]
  },
  {
   "cell_type": "code",
   "execution_count": 162,
   "metadata": {
    "scrolled": true
   },
   "outputs": [
    {
     "data": {
      "text/plain": [
       "False"
      ]
     },
     "execution_count": 162,
     "metadata": {},
     "output_type": "execute_result"
    }
   ],
   "source": [
    "is_str2_perm_of_str1('abcd', 'beda')"
   ]
  },
  {
   "cell_type": "code",
   "execution_count": null,
   "metadata": {
    "collapsed": true
   },
   "outputs": [],
   "source": [
    "# 1.4 # enter %20 wherever there is whitespace"
   ]
  },
  {
   "cell_type": "code",
   "execution_count": 203,
   "metadata": {
    "collapsed": true,
    "scrolled": true
   },
   "outputs": [],
   "source": [
    "def insert_chars_in_whiteapce(chars, string):\n",
    "    string = chars.join(string.split(\" \"))\n",
    "    \n",
    "    return string"
   ]
  },
  {
   "cell_type": "code",
   "execution_count": 204,
   "metadata": {},
   "outputs": [
    {
     "data": {
      "text/plain": [
       "'Mr%20John%20Smith'"
      ]
     },
     "execution_count": 204,
     "metadata": {},
     "output_type": "execute_result"
    }
   ],
   "source": [
    "insert_chars_in_whiteapce('%20', 'Mr John Smith')"
   ]
  },
  {
   "cell_type": "code",
   "execution_count": 179,
   "metadata": {
    "collapsed": true
   },
   "outputs": [],
   "source": [
    "chars = '%20'\n",
    "string = 'Mr John Smith'"
   ]
  },
  {
   "cell_type": "code",
   "execution_count": null,
   "metadata": {
    "collapsed": true
   },
   "outputs": [],
   "source": [
    "# 1.5 string compression "
   ]
  },
  {
   "cell_type": "code",
   "execution_count": 228,
   "metadata": {
    "collapsed": true
   },
   "outputs": [],
   "source": [
    "def compress_string(string): \n",
    "    com_string = []\n",
    "    last = string[0]\n",
    "    count = 1\n",
    "    for i in range(len(string)): \n",
    "        if(string[i] == last): \n",
    "            count +=1\n",
    "        else: \n",
    "            com_string.append(last)\n",
    "            com_string.append(count)\n",
    "            last = string[i]\n",
    "            count = 1\n",
    "    # last character wouldn't reach the else\n",
    "    com_string.append(string[i])\n",
    "    com_string.append(count)\n",
    "    \n",
    "    str1 = ''.join(str(e) for e in a)\n",
    "    if len(str1) > len(string):\n",
    "        return string\n",
    "    return str1"
   ]
  },
  {
   "cell_type": "code",
   "execution_count": 229,
   "metadata": {
    "collapsed": true
   },
   "outputs": [],
   "source": [
    "a = compress_string('aaaaaabbbbccd')"
   ]
  },
  {
   "cell_type": "code",
   "execution_count": 236,
   "metadata": {
    "collapsed": true
   },
   "outputs": [
    {
     "data": {
      "text/plain": [
       "[0,\n",
       " 5,\n",
       " 0,\n",
       " 5,\n",
       " 0,\n",
       " 5,\n",
       " 0,\n",
       " 5,\n",
       " 0,\n",
       " 5,\n",
       " 0,\n",
       " 5,\n",
       " 0,\n",
       " 5,\n",
       " 0,\n",
       " 5,\n",
       " 0,\n",
       " 5,\n",
       " 0,\n",
       " 5,\n",
       " 0,\n",
       " 5,\n",
       " 0,\n",
       " 5,\n",
       " 0,\n",
       " 5,\n",
       " 0,\n",
       " 5,\n",
       " 0,\n",
       " 5]"
      ]
     },
     "execution_count": 236,
     "metadata": {},
     "output_type": "execute_result"
    }
   ],
   "source": [
    "[0,5] *15"
   ]
  },
  {
   "cell_type": "code",
   "execution_count": 312,
   "metadata": {
    "collapsed": true
   },
   "outputs": [],
   "source": [
    "# 1.7 \n",
    "def zero_row_col_with_zero_elem(matrix):\n",
    "    \n",
    "    rows = [False]*len(matrix)\n",
    "    columns = [False]*len(matrix[0][:])\n",
    "    \n",
    "    n_matrix = [0] * len(rows)\n",
    "    for i in range(n):\n",
    "        n_matrix[i] = [0] * len(columns)\n",
    "    \n",
    "    for r in range(len(rows)):\n",
    "        for c in range(len(columns)):\n",
    "            if matrix[r][c] == 0:\n",
    "                rows[r] = True\n",
    "                columns[c] = True\n",
    "                break\n",
    "    \n",
    "    for r in range(len(rows)):\n",
    "        for c in range(len(columns)):\n",
    "            if (rows[r] | columns[c]):\n",
    "                n_matrix[r][c] = 0\n",
    "            else: \n",
    "                n_matrix[r][c] = matrix[r][c]\n",
    "    \n",
    "    return n_matrix"
   ]
  },
  {
   "cell_type": "code",
   "execution_count": 314,
   "metadata": {
    "collapsed": true
   },
   "outputs": [],
   "source": [
    "Grid  = [1]*10\n",
    "for i in range(len(Grid)):\n",
    "    Grid[i] = [1]*7\n",
    "    "
   ]
  },
  {
   "cell_type": "code",
   "execution_count": 316,
   "metadata": {
    "collapsed": true
   },
   "outputs": [],
   "source": [
    "Grid[3][1] = 0"
   ]
  },
  {
   "cell_type": "code",
   "execution_count": 317,
   "metadata": {},
   "outputs": [
    {
     "data": {
      "text/plain": [
       "[[1, 1, 1, 1, 1, 1, 1],\n",
       " [1, 1, 1, 1, 1, 1, 1],\n",
       " [1, 1, 1, 1, 1, 1, 1],\n",
       " [1, 0, 1, 1, 1, 1, 1],\n",
       " [1, 1, 1, 1, 1, 1, 1],\n",
       " [1, 1, 1, 1, 1, 1, 1],\n",
       " [1, 1, 1, 1, 1, 1, 1],\n",
       " [1, 1, 1, 1, 1, 1, 1],\n",
       " [1, 1, 1, 1, 1, 1, 1],\n",
       " [1, 1, 1, 1, 1, 1, 1]]"
      ]
     },
     "execution_count": 317,
     "metadata": {},
     "output_type": "execute_result"
    }
   ],
   "source": [
    "Grid"
   ]
  },
  {
   "cell_type": "code",
   "execution_count": 318,
   "metadata": {},
   "outputs": [
    {
     "data": {
      "text/plain": [
       "[[1, 0, 1, 1, 1, 1, 1],\n",
       " [1, 0, 1, 1, 1, 1, 1],\n",
       " [1, 0, 1, 1, 1, 1, 1],\n",
       " [0, 0, 0, 0, 0, 0, 0],\n",
       " [1, 0, 1, 1, 1, 1, 1],\n",
       " [1, 0, 1, 1, 1, 1, 1],\n",
       " [1, 0, 1, 1, 1, 1, 1],\n",
       " [1, 0, 1, 1, 1, 1, 1],\n",
       " [1, 0, 1, 1, 1, 1, 1],\n",
       " [1, 0, 1, 1, 1, 1, 1]]"
      ]
     },
     "execution_count": 318,
     "metadata": {},
     "output_type": "execute_result"
    }
   ],
   "source": [
    "zero_row_col_with_zero_elem(Grid)"
   ]
  },
  {
   "cell_type": "code",
   "execution_count": 320,
   "metadata": {
    "collapsed": true
   },
   "outputs": [],
   "source": [
    "# 1.8\n",
    "\n",
    "def is_rotation(s1, s2):\n",
    "    if ((len(s1)==len(s2)) & len(s1) > 0):\n",
    "        return s2 in (s1+s1)\n",
    "    return False"
   ]
  },
  {
   "cell_type": "code",
   "execution_count": 322,
   "metadata": {},
   "outputs": [
    {
     "data": {
      "text/plain": [
       "False"
      ]
     },
     "execution_count": 322,
     "metadata": {},
     "output_type": "execute_result"
    }
   ],
   "source": [
    "is_rotation('waterbottle', 'erbottlwat')"
   ]
  },
  {
   "cell_type": "markdown",
   "metadata": {},
   "source": [
    "# Linked lists"
   ]
  },
  {
   "cell_type": "markdown",
   "metadata": {},
   "source": [
    "## stroe data in an ordered manner "
   ]
  },
  {
   "cell_type": "code",
   "execution_count": 323,
   "metadata": {
    "collapsed": true
   },
   "outputs": [],
   "source": [
    "class node:\n",
    "    def __init__(self, data = None):\n",
    "        self.data = data\n",
    "        self.next = None\n",
    "    \n",
    "class linked_list:\n",
    "    def __init__(self):\n",
    "        self.head = node()\n",
    "    \n",
    "    # append to the end of the list\n",
    "    def append(self, data):\n",
    "        new_node = node(data)\n",
    "        cur = self.head\n",
    "        while cur.next != None:\n",
    "            cur = cur.next\n",
    "        cur.next = new_node\n",
    "    \n",
    "    def length(self):\n",
    "        cur = self.head\n",
    "        total = 0\n",
    "        while cur.next != None:\n",
    "            total += 1\n",
    "            cur = cur.next\n",
    "        return total\n",
    "    \n",
    "    def display(self):\n",
    "        elems = []\n",
    "        cur_node = self.head\n",
    "        while cur_node.next != None:\n",
    "            cur_node = cur_node.next\n",
    "            elems.append(cur_node.data)\n",
    "        print elems\n",
    "    \n",
    "    def get(self, index):\n",
    "        if index >= self.length():\n",
    "            print \"Error - index out of range\"\n",
    "            return None\n",
    "        cur_idx = 0\n",
    "        cur_node = self.head\n",
    "        while True:\n",
    "            cur_node = cur_node.next\n",
    "            if cur_idx == index:\n",
    "                return cur_node.data\n",
    "            cur_idx += 1\n",
    "            \n",
    "    def erase(self, index):\n",
    "        if index >= self.length():\n",
    "            print \"Error - index out of range\"\n",
    "            return None\n",
    "        cur_idx = 0\n",
    "        cur_node = self.head\n",
    "        while True:\n",
    "            last_node = cur_node\n",
    "            cur_node = cur_node.next\n",
    "            if cur_idx == index:\n",
    "                last_node.next = cur_node.next\n",
    "            cur_idx += 1\n",
    "    \n",
    "    def removeDups(self):\n",
    "        current = second = self.head\n",
    "        while current is not None:\n",
    "            while second.next is not None:   # check second.next here rather than second\n",
    "                if second.next.data == current.data:   # check second.next.data, not second.data\n",
    "                    second.next = second.next.next   # cut second.next out of the list\n",
    "                else:\n",
    "                    second = second.next   # put this line in an else, to avoid skipping items\n",
    "            current = second = current.next\n",
    "\n",
    "    def find_kth_elem():\n",
    "        \n",
    "\n"
   ]
  },
  {
   "cell_type": "code",
   "execution_count": 324,
   "metadata": {
    "collapsed": true
   },
   "outputs": [],
   "source": [
    "my_list = linked_list()"
   ]
  },
  {
   "cell_type": "code",
   "execution_count": 326,
   "metadata": {},
   "outputs": [
    {
     "name": "stdout",
     "output_type": "stream",
     "text": [
      "[]\n"
     ]
    }
   ],
   "source": [
    "my_list.display()"
   ]
  },
  {
   "cell_type": "code",
   "execution_count": 327,
   "metadata": {
    "collapsed": true
   },
   "outputs": [],
   "source": [
    "my_list.append(1)\n",
    "my_list.append(2)"
   ]
  },
  {
   "cell_type": "code",
   "execution_count": 328,
   "metadata": {},
   "outputs": [
    {
     "name": "stdout",
     "output_type": "stream",
     "text": [
      "[1, 2]\n"
     ]
    }
   ],
   "source": [
    "my_list.display()"
   ]
  },
  {
   "cell_type": "code",
   "execution_count": null,
   "metadata": {
    "collapsed": true
   },
   "outputs": [],
   "source": [
    "# 2.1 remove duplicates from unsorted linked list"
   ]
  },
  {
   "cell_type": "code",
   "execution_count": null,
   "metadata": {
    "collapsed": true
   },
   "outputs": [],
   "source": []
  },
  {
   "cell_type": "markdown",
   "metadata": {},
   "source": [
    "# Prime numbers "
   ]
  },
  {
   "cell_type": "code",
   "execution_count": 334,
   "metadata": {
    "collapsed": true
   },
   "outputs": [],
   "source": [
    "def gcd(x, y):\n",
    "\n",
    "    if(y == 0):\n",
    "        return x\n",
    "    \n",
    "    return gcd(y, x%y)"
   ]
  },
  {
   "cell_type": "code",
   "execution_count": 338,
   "metadata": {
    "collapsed": true
   },
   "outputs": [],
   "source": [
    "def lcm(x, y):\n",
    "    return(abs(x*y) / gcd(x, y))"
   ]
  },
  {
   "cell_type": "code",
   "execution_count": 340,
   "metadata": {},
   "outputs": [
    {
     "data": {
      "text/plain": [
       "24"
      ]
     },
     "execution_count": 340,
     "metadata": {},
     "output_type": "execute_result"
    }
   ],
   "source": [
    "lcm(8, 12)"
   ]
  },
  {
   "cell_type": "code",
   "execution_count": 341,
   "metadata": {},
   "outputs": [
    {
     "data": {
      "text/plain": [
       "168"
      ]
     },
     "execution_count": 341,
     "metadata": {},
     "output_type": "execute_result"
    }
   ],
   "source": [
    "lcm(8, lcm(12, 14))"
   ]
  },
  {
   "cell_type": "code",
   "execution_count": null,
   "metadata": {
    "collapsed": true
   },
   "outputs": [],
   "source": [
    "def prime(n): \n",
    "    if n < 2:\n",
    "        return False\n",
    "    for i in range(2, n ** (0.5)):\n",
    "        if (n % i == 0):\n",
    "            return False \n",
    "    return True"
   ]
  },
  {
   "cell_type": "code",
   "execution_count": 372,
   "metadata": {
    "collapsed": true
   },
   "outputs": [],
   "source": [
    "def find_all_primes_up_to_max(m): \n",
    "    flags = [True] * (len(range(m)))\n",
    "    flags[0] = flags[1] = False \n",
    "    prime = 2\n",
    "    while prime <= int(m ** 0.5):\n",
    "        \n",
    "        cross_off_non_prime(flags, prime)\n",
    "        prime = get_next_prime(flags, prime)\n",
    "        \n",
    "        if (prime >= len(flags)):\n",
    "            break\n",
    "    return flags"
   ]
  },
  {
   "cell_type": "code",
   "execution_count": 373,
   "metadata": {
    "collapsed": true
   },
   "outputs": [],
   "source": [
    "def cross_off_non_prime(flags, prime): \n",
    "    for i in range(prime * prime, len(flags), prime):\n",
    "        flags[i] = False\n",
    "    "
   ]
  },
  {
   "cell_type": "code",
   "execution_count": 374,
   "metadata": {
    "collapsed": true
   },
   "outputs": [],
   "source": [
    "def get_next_prime(flags, prime): \n",
    "    nex = prime + 1\n",
    "    while((nex < len(flags)) & ~flags[nex]):\n",
    "        nex += 1\n",
    "    return nex"
   ]
  },
  {
   "cell_type": "code",
   "execution_count": 386,
   "metadata": {},
   "outputs": [
    {
     "data": {
      "text/plain": [
       "[2, 3, 5, 7, 11, 13, 17, 19, 23, 29, 31, 37, 41, 43, 47, 53]"
      ]
     },
     "execution_count": 386,
     "metadata": {},
     "output_type": "execute_result"
    }
   ],
   "source": [
    "[i for i, x in enumerate(find_all_primes_up_to_max(54)) if x]\n"
   ]
  },
  {
   "cell_type": "code",
   "execution_count": null,
   "metadata": {
    "collapsed": true
   },
   "outputs": [],
   "source": [
    "# 7.3  Do two lines interesect"
   ]
  },
  {
   "cell_type": "code",
   "execution_count": 398,
   "metadata": {
    "collapsed": true
   },
   "outputs": [],
   "source": [
    "class line: \n",
    "    epsilon = 0.000001\n",
    "    \n",
    "    def __init__(self, slope, intercept):\n",
    "        self.slope = slope\n",
    "        self.intercept = intercept\n",
    "    \n",
    "    \n",
    "    def interesect(self, line_2, epsilon):\n",
    "        return ((abs(self.slope - line_2.slope) < epsilon) | (abs(self.intercept - line_2.intercept) < epsilon))"
   ]
  },
  {
   "cell_type": "code",
   "execution_count": 403,
   "metadata": {
    "collapsed": true
   },
   "outputs": [],
   "source": [
    "line_1 = line(3, 5)\n",
    "line_2 = line(3, 7)"
   ]
  },
  {
   "cell_type": "code",
   "execution_count": 404,
   "metadata": {},
   "outputs": [
    {
     "data": {
      "text/plain": [
       "True"
      ]
     },
     "execution_count": 404,
     "metadata": {},
     "output_type": "execute_result"
    }
   ],
   "source": [
    "line_1.interesect(line_2, line_1.epsilon)"
   ]
  },
  {
   "cell_type": "code",
   "execution_count": 452,
   "metadata": {
    "collapsed": true
   },
   "outputs": [],
   "source": [
    "# 7.4 Multiply / divide / subtract only with +"
   ]
  },
  {
   "cell_type": "code",
   "execution_count": 512,
   "metadata": {
    "collapsed": true
   },
   "outputs": [],
   "source": [
    "def multiply(num_1, num_2): \n",
    "    count = 1 \n",
    "    add = abs(num_1)\n",
    "    \n",
    "    if(num_1 < num_2):\n",
    "        return multiply(num_2, num_1)\n",
    "     \n",
    "    while (count) < abs(num_2):\n",
    "        num_1 += add\n",
    "        count += 1\n",
    "    \n",
    "    if (num_2 < 0) | (num_1 < 0) :\n",
    "        return -num_1\n",
    "    \n",
    "    return num_1"
   ]
  },
  {
   "cell_type": "code",
   "execution_count": 513,
   "metadata": {
    "collapsed": true
   },
   "outputs": [],
   "source": [
    "def int_divide(num_1, num_2):\n",
    "    i = abs(num_2)\n",
    "    d = 0\n",
    "        \n",
    "    while i <  abs(num_1):\n",
    "        i += abs(num_2)\n",
    "        d += 1\n",
    "    \n",
    "    if (num_2 < 0) | (num_1 < 0) :\n",
    "        return -d\n",
    "    return d"
   ]
  },
  {
   "cell_type": "code",
   "execution_count": 514,
   "metadata": {
    "collapsed": true
   },
   "outputs": [],
   "source": [
    "def divide(num_1, num_2):\n",
    "    i = int_divide(num_1, num_2)\n",
    "    d = 0\n",
    "    \n",
    "    for j in range(abs(multiply(abs(num_2), i)), abs(num_1)):\n",
    "        d += 1\n",
    "    \n",
    "    if (num_2 < 0) | (num_1 < 0) :\n",
    "        return [i, -d]\n",
    "    \n",
    "    return [i, d]"
   ]
  },
  {
   "cell_type": "code",
   "execution_count": 515,
   "metadata": {
    "collapsed": true
   },
   "outputs": [],
   "source": [
    "def subtract(num_1, num_2): \n",
    "    d = 0 \n",
    "    if num_1 <= num_2:\n",
    "        for i in range(num_1, num_2):\n",
    "            d += 1\n",
    "        return - d\n",
    "    else: \n",
    "        for i in range(num_2, num_1):\n",
    "            d += 1\n",
    "        return d"
   ]
  },
  {
   "cell_type": "code",
   "execution_count": 516,
   "metadata": {
    "collapsed": true
   },
   "outputs": [],
   "source": [
    "def negate(num):\n",
    "    return - num"
   ]
  },
  {
   "cell_type": "code",
   "execution_count": 517,
   "metadata": {
    "collapsed": true
   },
   "outputs": [],
   "source": [
    "def subtract_2(num_1, num_2): \n",
    "    # a-b = a + (-1)*b\n",
    "    return num_1 + negate(num_2)"
   ]
  },
  {
   "cell_type": "code",
   "execution_count": null,
   "metadata": {
    "collapsed": true
   },
   "outputs": [],
   "source": [
    "# 7.5"
   ]
  },
  {
   "cell_type": "code",
   "execution_count": null,
   "metadata": {
    "collapsed": true
   },
   "outputs": [],
   "source": [
    "# 7.6"
   ]
  },
  {
   "cell_type": "code",
   "execution_count": null,
   "metadata": {
    "collapsed": true
   },
   "outputs": [],
   "source": [
    "# 7.7"
   ]
  },
  {
   "cell_type": "code",
   "execution_count": null,
   "metadata": {
    "collapsed": true
   },
   "outputs": [],
   "source": [
    "def cross_off_non_prime(flags, prime): \n",
    "    for i in range(prime * prime, len(flags), prime):\n",
    "        flags[i] = False"
   ]
  },
  {
   "cell_type": "code",
   "execution_count": 553,
   "metadata": {
    "collapsed": true
   },
   "outputs": [],
   "source": [
    "queue_3 = [3, 6]\n",
    "queue_5 = [5]\n",
    "queue_7 = [7]"
   ]
  },
  {
   "cell_type": "code",
   "execution_count": 555,
   "metadata": {
    "collapsed": true
   },
   "outputs": [],
   "source": [
    "queue_3.remove(6)"
   ]
  },
  {
   "cell_type": "code",
   "execution_count": 556,
   "metadata": {},
   "outputs": [
    {
     "data": {
      "text/plain": [
       "[3]"
      ]
     },
     "execution_count": 556,
     "metadata": {},
     "output_type": "execute_result"
    }
   ],
   "source": [
    "queue_3"
   ]
  },
  {
   "cell_type": "code",
   "execution_count": 532,
   "metadata": {
    "collapsed": true
   },
   "outputs": [],
   "source": [
    "a = (min(queue_3, queue_5, queue_7))[0]  "
   ]
  },
  {
   "cell_type": "code",
   "execution_count": 534,
   "metadata": {},
   "outputs": [
    {
     "data": {
      "text/plain": [
       "3"
      ]
     },
     "execution_count": 534,
     "metadata": {},
     "output_type": "execute_result"
    }
   ],
   "source": [
    "a"
   ]
  },
  {
   "cell_type": "code",
   "execution_count": 558,
   "metadata": {
    "collapsed": true
   },
   "outputs": [],
   "source": [
    "def k_th_number_with_factors(k): \n",
    "    if k < 1:\n",
    "        return 0\n",
    "    count = 0\n",
    "    \n",
    "    queue_3 = [3]\n",
    "    queue_5 = [5]\n",
    "    queue_7 = [7]\n",
    "    \n",
    "    while count < k: \n",
    "        mini = (min(queue_3, queue_5, queue_7))[0] \n",
    "        if mini == queue_3[0]:\n",
    "            queue_3.remove(mini)\n",
    "            queue_3.append(3 * mini)\n",
    "            queue_5.append(5 * mini)\n",
    "            queue_7.append(7 * mini)\n",
    "        if mini == queue_5[0]:\n",
    "            queue_5.remove(mini)\n",
    "            queue_5.append(5 * mini)\n",
    "            queue_7.append(7 * mini)\n",
    "        if mini == queue_7[0]:\n",
    "            queue_7.remove(mini)\n",
    "            queue_7.append(7 * mini)\n",
    "        count += 1\n",
    "    \n",
    "    return mini\n",
    "    \n",
    "    \n",
    "    \n",
    "    "
   ]
  },
  {
   "cell_type": "code",
   "execution_count": 570,
   "metadata": {},
   "outputs": [
    {
     "data": {
      "text/plain": [
       "63"
      ]
     },
     "execution_count": 570,
     "metadata": {},
     "output_type": "execute_result"
    }
   ],
   "source": [
    "k_th_number_with_factors(12)"
   ]
  },
  {
   "cell_type": "code",
   "execution_count": null,
   "metadata": {
    "collapsed": true
   },
   "outputs": [],
   "source": [
    "# 9.1 "
   ]
  },
  {
   "cell_type": "code",
   "execution_count": 625,
   "metadata": {
    "collapsed": true
   },
   "outputs": [],
   "source": [
    "floors = 4\n",
    "ways = (floors + 1) * [-1]\n",
    "\n",
    "def run_staircae(floors, ways):\n",
    "    if floors < 0:\n",
    "        return 0\n",
    "    \n",
    "    elif floors == 0:\n",
    "        return 1\n",
    "    \n",
    "    elif ways[floors ] > -1:\n",
    "        return ways[floors]\n",
    "  \n",
    "    else:\n",
    "        ways[floors] = long(run_staircae(floors - 1, ways) + run_staircae(floors - 2, ways) + run_staircae(floors-3, ways))\n",
    "        print ways\n",
    "        \n",
    "        return ways[floors] \n",
    "    "
   ]
  },
  {
   "cell_type": "code",
   "execution_count": 626,
   "metadata": {
    "collapsed": true
   },
   "outputs": [
    {
     "name": "stdout",
     "output_type": "stream",
     "text": [
      "[-1, 1L, -1, -1, -1, -1, -1, -1, -1, -1, -1, -1, -1, -1, -1, -1, -1, -1, -1]\n",
      "[-1, 1L, 2L, -1, -1, -1, -1, -1, -1, -1, -1, -1, -1, -1, -1, -1, -1, -1, -1]\n",
      "[-1, 1L, 2L, 4L, -1, -1, -1, -1, -1, -1, -1, -1, -1, -1, -1, -1, -1, -1, -1]\n",
      "[-1, 1L, 2L, 4L, 7L, -1, -1, -1, -1, -1, -1, -1, -1, -1, -1, -1, -1, -1, -1]\n",
      "[-1, 1L, 2L, 4L, 7L, 13L, -1, -1, -1, -1, -1, -1, -1, -1, -1, -1, -1, -1, -1]\n",
      "[-1, 1L, 2L, 4L, 7L, 13L, 24L, -1, -1, -1, -1, -1, -1, -1, -1, -1, -1, -1, -1]\n",
      "[-1, 1L, 2L, 4L, 7L, 13L, 24L, 44L, -1, -1, -1, -1, -1, -1, -1, -1, -1, -1, -1]\n",
      "[-1, 1L, 2L, 4L, 7L, 13L, 24L, 44L, 81L, -1, -1, -1, -1, -1, -1, -1, -1, -1, -1]\n",
      "[-1, 1L, 2L, 4L, 7L, 13L, 24L, 44L, 81L, 149L, -1, -1, -1, -1, -1, -1, -1, -1, -1]\n",
      "[-1, 1L, 2L, 4L, 7L, 13L, 24L, 44L, 81L, 149L, 274L, -1, -1, -1, -1, -1, -1, -1, -1]\n",
      "[-1, 1L, 2L, 4L, 7L, 13L, 24L, 44L, 81L, 149L, 274L, 504L, -1, -1, -1, -1, -1, -1, -1]\n",
      "[-1, 1L, 2L, 4L, 7L, 13L, 24L, 44L, 81L, 149L, 274L, 504L, 927L, -1, -1, -1, -1, -1, -1]\n",
      "[-1, 1L, 2L, 4L, 7L, 13L, 24L, 44L, 81L, 149L, 274L, 504L, 927L, 1705L, -1, -1, -1, -1, -1]\n",
      "[-1, 1L, 2L, 4L, 7L, 13L, 24L, 44L, 81L, 149L, 274L, 504L, 927L, 1705L, 3136L, -1, -1, -1, -1]\n",
      "[-1, 1L, 2L, 4L, 7L, 13L, 24L, 44L, 81L, 149L, 274L, 504L, 927L, 1705L, 3136L, 5768L, -1, -1, -1]\n",
      "[-1, 1L, 2L, 4L, 7L, 13L, 24L, 44L, 81L, 149L, 274L, 504L, 927L, 1705L, 3136L, 5768L, 10609L, -1, -1]\n",
      "[-1, 1L, 2L, 4L, 7L, 13L, 24L, 44L, 81L, 149L, 274L, 504L, 927L, 1705L, 3136L, 5768L, 10609L, 19513L, -1]\n",
      "[-1, 1L, 2L, 4L, 7L, 13L, 24L, 44L, 81L, 149L, 274L, 504L, 927L, 1705L, 3136L, 5768L, 10609L, 19513L, 35890L]\n"
     ]
    },
    {
     "data": {
      "text/plain": [
       "35890L"
      ]
     },
     "execution_count": 626,
     "metadata": {},
     "output_type": "execute_result"
    }
   ],
   "source": [
    "run_staircae(18, [-1] * 19)"
   ]
  },
  {
   "cell_type": "code",
   "execution_count": null,
   "metadata": {
    "collapsed": true
   },
   "outputs": [],
   "source": [
    "# 9.2"
   ]
  },
  {
   "cell_type": "code",
   "execution_count": null,
   "metadata": {
    "collapsed": true
   },
   "outputs": [],
   "source": [
    "# calculate n choose r\n",
    "import operator as op\n",
    "def ncr(n, r):\n",
    "    r = min(r, n-r)\n",
    "    numer = reduce(op.mul, xrange(n, n-r, -1), 1)\n",
    "    denom = reduce(op.mul, xrange(1, r+1), 1)\n",
    "    return numer//denom"
   ]
  },
  {
   "cell_type": "code",
   "execution_count": 677,
   "metadata": {
    "collapsed": true
   },
   "outputs": [],
   "source": [
    "def robot_walk(x, y, ways = [], count=0):\n",
    "    \n",
    "    # short answer is x+y choose x\n",
    "    \n",
    "    if count == 0:\n",
    "        ways = [-1] * (-x + 1) \n",
    "        for i in range(-x + 1):\n",
    "            ways[i] = [-1] * (y + 1)\n",
    "    \n",
    "    if x > 0:\n",
    "        return 0\n",
    "    \n",
    "    if x==0:\n",
    "        return 1\n",
    "        \n",
    "    if y==0:\n",
    "        return 1\n",
    "    \n",
    "    if y < 0: \n",
    "        return 0\n",
    "    \n",
    "    elif ways[-x][y] > -1:\n",
    "        return ways[-x][y]\n",
    "    \n",
    "    else:\n",
    "        count += 1\n",
    "        ways[-x][y] = robot_walk(x + 1, y, ways, count) + robot_walk(x, y - 1, ways, count)\n",
    "    \n",
    "    return ways[-x][y]"
   ]
  },
  {
   "cell_type": "code",
   "execution_count": 678,
   "metadata": {},
   "outputs": [
    {
     "data": {
      "text/plain": [
       "21"
      ]
     },
     "execution_count": 678,
     "metadata": {},
     "output_type": "execute_result"
    }
   ],
   "source": [
    "robot_walk(-2, 5, 0)"
   ]
  },
  {
   "cell_type": "code",
   "execution_count": null,
   "metadata": {
    "collapsed": true
   },
   "outputs": [],
   "source": [
    "# 9.3 A[i] = i"
   ]
  },
  {
   "cell_type": "code",
   "execution_count": 711,
   "metadata": {
    "collapsed": true
   },
   "outputs": [],
   "source": [
    "def magic_index_distinct_vals(arr, start, end):\n",
    "    \n",
    "    if(end < start | start < 0 | end >= len(arr)):\n",
    "        return 'None'\n",
    "    \n",
    "    mid = (start + end)//2\n",
    "     \n",
    "    if arr[mid] == mid:\n",
    "        return mid \n",
    "    \n",
    "    elif arr[mid] < mid:\n",
    "        return magic_index_distinct_vals(arr, mid + 1, end)\n",
    "    else:\n",
    "        return magic_index_distinct_vals(arr, start, mid - 1)\n",
    "        \n",
    "    "
   ]
  },
  {
   "cell_type": "code",
   "execution_count": 712,
   "metadata": {},
   "outputs": [
    {
     "data": {
      "text/plain": [
       "1"
      ]
     },
     "execution_count": 712,
     "metadata": {},
     "output_type": "execute_result"
    }
   ],
   "source": [
    "magic_index_distinct_vals([-1 ,1, 7, 8,9, 10, 11], 0, 5)"
   ]
  },
  {
   "cell_type": "code",
   "execution_count": 725,
   "metadata": {
    "collapsed": true
   },
   "outputs": [],
   "source": [
    "def magic_index_non_distinct_vals(arr, start, end):\n",
    "    if((end < start) | (start < 0) | (end >= len(arr))):\n",
    "        return -1\n",
    "    \n",
    "    mid = (start + end)//2\n",
    "     \n",
    "    if arr[mid] == mid:\n",
    "        return mid \n",
    "    \n",
    "    left_idx = min(mid - 1, arr[mid])\n",
    "    left =  magic_index_non_distinct_vals(arr, start, left_idx)\n",
    "    \n",
    "    if left >= 0:\n",
    "        return left\n",
    "    \n",
    "    right_idx = max(mid + 1, arr[mid])\n",
    "    right = magic_index_non_distinct_vals(arr, right_idx, end)\n",
    "    \n",
    "    if right >= 0:\n",
    "        return right\n",
    "    \n",
    "    return  \n",
    "        "
   ]
  },
  {
   "cell_type": "code",
   "execution_count": 726,
   "metadata": {},
   "outputs": [
    {
     "data": {
      "text/plain": [
       "5"
      ]
     },
     "execution_count": 726,
     "metadata": {},
     "output_type": "execute_result"
    }
   ],
   "source": [
    "magic_index_non_distinct_vals([-1, 0, 1, 5, 5, 5], 0, 5)"
   ]
  },
  {
   "cell_type": "code",
   "execution_count": null,
   "metadata": {
    "collapsed": true
   },
   "outputs": [],
   "source": [
    "# 9.4"
   ]
  },
  {
   "cell_type": "code",
   "execution_count": 283,
   "metadata": {
    "collapsed": true
   },
   "outputs": [],
   "source": [
    "def powerset(seq):\n",
    "    if not seq:\n",
    "        return [[]]\n",
    "    ps = powerset(seq[1:])\n",
    "    return ps + [[seq[0]] + n for n in ps]"
   ]
  },
  {
   "cell_type": "code",
   "execution_count": 284,
   "metadata": {},
   "outputs": [
    {
     "data": {
      "text/plain": [
       "[[], [3], [2], [2, 3], [1], [1, 3], [1, 2], [1, 2, 3]]"
      ]
     },
     "execution_count": 284,
     "metadata": {},
     "output_type": "execute_result"
    }
   ],
   "source": [
    "powerset([1,2,3])"
   ]
  },
  {
   "cell_type": "code",
   "execution_count": 281,
   "metadata": {
    "collapsed": true
   },
   "outputs": [],
   "source": [
    "def power_set(A):\n",
    "    if A == []:\n",
    "        yield []\n",
    "    else:\n",
    "        a = A[0]\n",
    "        for tail in powerset(A[1:]):\n",
    "            yield tail\n",
    "            yield [a] + tail"
   ]
  },
  {
   "cell_type": "code",
   "execution_count": 282,
   "metadata": {},
   "outputs": [
    {
     "name": "stdout",
     "output_type": "stream",
     "text": [
      "[]\n",
      "[1]\n",
      "[2]\n",
      "[1, 2]\n",
      "[3]\n",
      "[1, 3]\n",
      "[2, 3]\n",
      "[1, 2, 3]\n"
     ]
    }
   ],
   "source": [
    "for i in powerset([1,2,3]):\n",
    "    print i"
   ]
  },
  {
   "cell_type": "code",
   "execution_count": null,
   "metadata": {
    "collapsed": true
   },
   "outputs": [],
   "source": [
    "# 9.5 write a method to compute all permutations of a string O(n!)"
   ]
  },
  {
   "cell_type": "code",
   "execution_count": 290,
   "metadata": {
    "collapsed": true
   },
   "outputs": [],
   "source": [
    "def insert_char_at(word, c ,j):\n",
    "    start = word[:j]\n",
    "    end = word[j:]\n",
    "    return start + c + end"
   ]
  },
  {
   "cell_type": "code",
   "execution_count": 296,
   "metadata": {
    "collapsed": true
   },
   "outputs": [],
   "source": [
    "def get_string_perms(string):\n",
    "\n",
    "    perms = []\n",
    "    if len(string) == 0 :\n",
    "        perms.append(\"\")\n",
    "        return perms\n",
    "    \n",
    "    first = string[0]    \n",
    "    for word in get_string_perms(string[1:]):\n",
    "        for j in range(len(word) + 1):\n",
    "            st = insert_char_at(word, first, j)\n",
    "            perms.append(st)\n",
    "    \n",
    "    return perms "
   ]
  },
  {
   "cell_type": "code",
   "execution_count": 297,
   "metadata": {},
   "outputs": [
    {
     "data": {
      "text/plain": [
       "['abcd',\n",
       " 'bacd',\n",
       " 'bcad',\n",
       " 'bcda',\n",
       " 'acbd',\n",
       " 'cabd',\n",
       " 'cbad',\n",
       " 'cbda',\n",
       " 'acdb',\n",
       " 'cadb',\n",
       " 'cdab',\n",
       " 'cdba',\n",
       " 'abdc',\n",
       " 'badc',\n",
       " 'bdac',\n",
       " 'bdca',\n",
       " 'adbc',\n",
       " 'dabc',\n",
       " 'dbac',\n",
       " 'dbca',\n",
       " 'adcb',\n",
       " 'dacb',\n",
       " 'dcab',\n",
       " 'dcba']"
      ]
     },
     "execution_count": 297,
     "metadata": {},
     "output_type": "execute_result"
    }
   ],
   "source": [
    "get_string_perms('abcd')"
   ]
  },
  {
   "cell_type": "code",
   "execution_count": 591,
   "metadata": {
    "collapsed": true
   },
   "outputs": [],
   "source": [
    "# 9.6  print all combinations of valid parenthesis "
   ]
  },
  {
   "cell_type": "code",
   "execution_count": 588,
   "metadata": {
    "collapsed": true
   },
   "outputs": [],
   "source": [
    "def print_all_parens(n):\n",
    "    def print_parens(left, right, s):\n",
    "        if right == n:\n",
    "            print(s)\n",
    "            return\n",
    "        if left < n:\n",
    "            print_parens(left + 1, right, s + \"(\")\n",
    "        if right < left:\n",
    "            print_parens(left, right + 1, s + \")\")\n",
    "\n",
    "    print_parens(0, 0, \"\")"
   ]
  },
  {
   "cell_type": "code",
   "execution_count": 590,
   "metadata": {},
   "outputs": [
    {
     "name": "stdout",
     "output_type": "stream",
     "text": [
      "((()))\n",
      "(()())\n",
      "(())()\n",
      "()(())\n",
      "()()()\n"
     ]
    }
   ],
   "source": [
    "print_all_parens(3)"
   ]
  },
  {
   "cell_type": "code",
   "execution_count": null,
   "metadata": {
    "collapsed": true
   },
   "outputs": [],
   "source": [
    "# 9.8 write number of ways to represent n cents (given: 1,5, 10, 25)"
   ]
  },
  {
   "cell_type": "code",
   "execution_count": 318,
   "metadata": {
    "collapsed": true
   },
   "outputs": [],
   "source": [
    "def ways_to_represent_cents(n, ways = []):\n",
    "    if n < 0:\n",
    "        return 0\n",
    "    \n",
    "    if n==0:\n",
    "        return 1\n",
    "    \n",
    "    elif ways[n] > -1:\n",
    "        return ways[n]\n",
    "    \n",
    "    else:\n",
    "        ways[n] = (ways_to_represent_cents(n-1, ways) + ways_to_represent_cents(n-5, ways)\n",
    "                    + ways_to_represent_cents(n-10, ways) + ways_to_represent_cents(n-25, ways))\n",
    "        \n",
    "    return ways[n]"
   ]
  },
  {
   "cell_type": "code",
   "execution_count": 323,
   "metadata": {
    "collapsed": true
   },
   "outputs": [],
   "source": [
    "ways = [-1] * 13"
   ]
  },
  {
   "cell_type": "code",
   "execution_count": 324,
   "metadata": {},
   "outputs": [
    {
     "data": {
      "text/plain": [
       "18"
      ]
     },
     "execution_count": 324,
     "metadata": {},
     "output_type": "execute_result"
    }
   ],
   "source": [
    "ways_to_represent_cents(12, ways)"
   ]
  },
  {
   "cell_type": "code",
   "execution_count": null,
   "metadata": {
    "collapsed": true
   },
   "outputs": [],
   "source": [
    "# 9.9 arranging 8 queens on 8X8 chess board"
   ]
  },
  {
   "cell_type": "code",
   "execution_count": 481,
   "metadata": {
    "collapsed": true
   },
   "outputs": [],
   "source": [
    "def check_valid(columns, row_1, column_1):\n",
    "    \n",
    "    for row_2 in range(row_1):\n",
    "        \n",
    "        column_2 = columns[row_2]\n",
    "        if (column_1 == column_2):\n",
    "            return False\n",
    "        \n",
    "        column_dist = abs(column_2 - column_1)\n",
    "        row_dist = (row_1 - row_2)\n",
    "        \n",
    "        if (column_dist == row_dist):\n",
    "            return False\n",
    "    \n",
    "    return True"
   ]
  },
  {
   "cell_type": "code",
   "execution_count": 482,
   "metadata": {
    "collapsed": true
   },
   "outputs": [],
   "source": [
    "def queen_arrange(new_row , occupied_columns = [], results = []):\n",
    "    grid_size = 8\n",
    "    \n",
    "    if(new_row == grid_size):\n",
    "        return results.append(occupied_columns[:])\n",
    "    \n",
    "    for new_col in range(grid_size):\n",
    "        if(check_valid(occupied_columns, new_row, new_col) is True):\n",
    "            occupied_columns[new_row] = new_col\n",
    "            queen_arrange(new_row + 1, occupied_columns, results)\n",
    "            \n",
    "    return results"
   ]
  },
  {
   "cell_type": "code",
   "execution_count": 483,
   "metadata": {
    "collapsed": true
   },
   "outputs": [],
   "source": [
    "a = queen_arrange(0, occupied_columns = [-1] * 8 , results =[])"
   ]
  },
  {
   "cell_type": "code",
   "execution_count": 484,
   "metadata": {},
   "outputs": [
    {
     "data": {
      "text/plain": [
       "92"
      ]
     },
     "execution_count": 484,
     "metadata": {},
     "output_type": "execute_result"
    }
   ],
   "source": [
    "len(a)"
   ]
  },
  {
   "cell_type": "code",
   "execution_count": null,
   "metadata": {
    "collapsed": true
   },
   "outputs": [],
   "source": [
    "# 9.10"
   ]
  },
  {
   "cell_type": "code",
   "execution_count": 486,
   "metadata": {
    "collapsed": true
   },
   "outputs": [],
   "source": [
    "max_stack = None"
   ]
  },
  {
   "cell_type": "code",
   "execution_count": 487,
   "metadata": {
    "collapsed": true
   },
   "outputs": [],
   "source": [
    "max_stack"
   ]
  },
  {
   "cell_type": "code",
   "execution_count": null,
   "metadata": {
    "collapsed": true
   },
   "outputs": [],
   "source": [
    "def create_stack(boxes = [], box_bottom):\n",
    "    \n",
    "    max_height = 0\n",
    "    max_stack = []\n",
    "    \n",
    "    for i in range(len(boxes)):\n",
    "        if can_be_above(boxes[i], bottom):\n",
    "            new_stack = create_stack(boxes, boxes[i])\n",
    "            new_height = stack_height(new_stack)\n",
    "            if (new_height > max_height) : \n",
    "                max_stack = new_stack\n",
    "                max_height = new_height\n",
    "    \n",
    "    if max_stack == []:\n",
    "        max_stack  = []\n",
    "        \n",
    "    if box_bottom :\n",
    "        max_stack.append(box_bottom)\n",
    "    \n",
    "    return max_stack"
   ]
  },
  {
   "cell_type": "code",
   "execution_count": null,
   "metadata": {
    "collapsed": true
   },
   "outputs": [],
   "source": [
    "def stack_height(stack):\n",
    "    return sum(stack.h)"
   ]
  },
  {
   "cell_type": "code",
   "execution_count": null,
   "metadata": {
    "collapsed": true
   },
   "outputs": [],
   "source": [
    "def can_be_above(box_above, box_below):\n",
    "    if ((box_below.h > box_above.h) & (box_below.w > box_above.w) & \n",
    "                                        (box_below.d > box_above.d)):\n",
    "        return True \n",
    "    return False "
   ]
  },
  {
   "cell_type": "code",
   "execution_count": 657,
   "metadata": {
    "collapsed": true
   },
   "outputs": [],
   "source": [
    "a =  [1,1,1,1]"
   ]
  },
  {
   "cell_type": "code",
   "execution_count": 659,
   "metadata": {},
   "outputs": [
    {
     "data": {
      "text/plain": [
       "1"
      ]
     },
     "execution_count": 659,
     "metadata": {},
     "output_type": "execute_result"
    }
   ],
   "source": [
    "a[3]"
   ]
  },
  {
   "cell_type": "code",
   "execution_count": 666,
   "metadata": {
    "collapsed": true
   },
   "outputs": [],
   "source": [
    "  def find_pairs(nums, k):\n",
    "        count = 0\n",
    "        nums = sorted(nums)\n",
    "        i = 0\n",
    "        j = 1\n",
    "        \n",
    "        while (j < len(nums)):\n",
    "            j = max(i+1, j)\n",
    "            print (\"outer j\", j)\n",
    "            if j >= len(nums):\n",
    "                return count\n",
    "            while((j < (len(nums) - 1 )) & (abs (nums[i] - nums[j]) < k)):\n",
    "                j += 1\n",
    "                print j\n",
    "                    \n",
    "                \n",
    "            if (abs(nums[i] - nums[j]) == k):\n",
    "                print (\"pair\",nums[i], nums[j])\n",
    "                count += 1\n",
    "\n",
    "            i += 1\n",
    "            while ((i < (len(nums) - 1)) & (nums[i] == nums[i-1])):\n",
    "                i += 1\n",
    "                print i\n",
    "                print (\"j\",j)\n",
    "                        \n",
    "        return count\n",
    "\n"
   ]
  },
  {
   "cell_type": "code",
   "execution_count": 667,
   "metadata": {
    "collapsed": true
   },
   "outputs": [
    {
     "name": "stdout",
     "output_type": "stream",
     "text": [
      "('outer j', 1)\n",
      "('pair', 1, 1)\n",
      "2\n",
      "('j', 1)\n",
      "3\n",
      "('j', 1)\n",
      "('outer j', 4)\n"
     ]
    },
    {
     "data": {
      "text/plain": [
       "1"
      ]
     },
     "execution_count": 667,
     "metadata": {},
     "output_type": "execute_result"
    }
   ],
   "source": [
    "find_pairs([1,1,1,1], 0)"
   ]
  },
  {
   "cell_type": "code",
   "execution_count": 875,
   "metadata": {
    "collapsed": true
   },
   "outputs": [],
   "source": [
    "string = [\"(\",\"5\",\"3\",\"/\",\"2\",\")\"]"
   ]
  },
  {
   "cell_type": "code",
   "execution_count": 878,
   "metadata": {},
   "outputs": [],
   "source": [
    " str1 = ''.join(string) "
   ]
  },
  {
   "cell_type": "code",
   "execution_count": 879,
   "metadata": {},
   "outputs": [
    {
     "data": {
      "text/plain": [
       "'(53/2)'"
      ]
     },
     "execution_count": 879,
     "metadata": {},
     "output_type": "execute_result"
    }
   ],
   "source": [
    "str1"
   ]
  },
  {
   "cell_type": "code",
   "execution_count": 716,
   "metadata": {
    "collapsed": true
   },
   "outputs": [],
   "source": [
    "from __future__ import division"
   ]
  },
  {
   "cell_type": "code",
   "execution_count": 974,
   "metadata": {},
   "outputs": [],
   "source": [
    "def optimalDivision(nums, string=\"\", result=0, previous_result=0):\n",
    "\n",
    "    if (len(nums) < 3):\n",
    "        result = nums[0] / nums[1]\n",
    "        string +=  \"(\" + str(nums[0]) + '/' + str(nums[1]) + \")\" \n",
    "        string = \"\"\n",
    "        return result\n",
    "\n",
    "    else:\n",
    "        i = 0\n",
    "        j = 1\n",
    "\n",
    "        while (j < len(nums)):\n",
    "            maxi = nums[i] / nums[j]\n",
    "            string +=  \"(\" + str(nums[i]) + '/' + str(nums[j]) + \")\" + \"/\"\n",
    "            new_nums = nums[:]\n",
    "            del new_nums[j]\n",
    "            new_nums[i] = maxi\n",
    "            result = optimalDivision(new_nums, string, result, previous_result)\n",
    "            j += 1\n",
    "            i += 1\n",
    "        \n",
    "            if (result > previous_result):\n",
    "                previous_result = result\n",
    "                new_string = string[:]\n",
    "                print (\"new_string:\",''.join(new_string))\n",
    "        \n",
    "        \n",
    "\n",
    "\n",
    "\n",
    "    return previous_result"
   ]
  },
  {
   "cell_type": "code",
   "execution_count": 975,
   "metadata": {
    "scrolled": false
   },
   "outputs": [
    {
     "name": "stdout",
     "output_type": "stream",
     "text": [
      "('new_string:', '(1000/100)/(10.0/10)/(1.0/2)')\n",
      "('new_string:', '(1000/100)/(10.0/10)/(1.0/2)(10/2)/(10.0/5.0)')\n",
      "('new_string:', '(1000/100)/(10.0/10)/(1.0/2)(10/2)/(10.0/5.0)')\n",
      "('new_string:', '(1000/100)/(10.0/10)/(1.0/2)(10/2)/(10.0/5.0)(100/10)/(1000/10.0)/(100.0/2)')\n",
      "('new_string:', '(1000/100)/(10.0/10)/(1.0/2)(10/2)/(10.0/5.0)(100/10)/(1000/10.0)/(100.0/2)(10.0/2)/(1000/5.0)')\n",
      "('new_string:', '(1000/100)/(10.0/10)/(1.0/2)(10/2)/(10.0/5.0)(100/10)/(1000/10.0)/(100.0/2)(10.0/2)/(1000/5.0)')\n"
     ]
    },
    {
     "data": {
      "text/plain": [
       "200.0"
      ]
     },
     "execution_count": 975,
     "metadata": {},
     "output_type": "execute_result"
    }
   ],
   "source": [
    "optimalDivision([1000, 100, 10, 2], [])"
   ]
  },
  {
   "cell_type": "code",
   "execution_count": null,
   "metadata": {
    "collapsed": true
   },
   "outputs": [],
   "source": [
    "def optimal_division(nums, idx = 0, result = 0, division_order = []):\n",
    "    \n",
    "    if ((idx + 1) == (len(nums) - 1)):\n",
    "        return ((nums[idx] / nums[idx + 1]))\n",
    "\n",
    "\n",
    "    else:\n",
    "        i = idx\n",
    "        j = idx + 1\n",
    "\n",
    "        while  (j < (len(nums))):\n",
    "            maxi = nums[i] / nums[j]\n",
    "            division_order.append(i).append(j)\n",
    "            new_result = optimal_division(nums, idx + 1, result)\n",
    "            j += 1\n",
    "            i += 1\n",
    "\n",
    "    return (result)"
   ]
  },
  {
   "cell_type": "code",
   "execution_count": null,
   "metadata": {
    "collapsed": true
   },
   "outputs": [],
   "source": [
    "def insert_between(iterable, fill, cond):\n",
    "    iterable = iter(iterable)\n",
    "    prev = next(iterable)\n",
    "    yield prev\n",
    "    for cur in iterable:\n",
    "        if cond(prev, cur):\n",
    "            yield fill\n",
    "            yield cur\n",
    "            prev = cur"
   ]
  }
 ],
 "metadata": {
  "kernelspec": {
   "display_name": "Python 2",
   "language": "python",
   "name": "python2"
  },
  "language_info": {
   "codemirror_mode": {
    "name": "ipython",
    "version": 2
   },
   "file_extension": ".py",
   "mimetype": "text/x-python",
   "name": "python",
   "nbconvert_exporter": "python",
   "pygments_lexer": "ipython2",
   "version": "2.7.14"
  }
 },
 "nbformat": 4,
 "nbformat_minor": 2
}
